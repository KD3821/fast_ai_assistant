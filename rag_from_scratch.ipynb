{
 "cells": [
  {
   "cell_type": "code",
   "execution_count": 1,
   "metadata": {},
   "outputs": [
    {
     "data": {
      "text/plain": [
       "True"
      ]
     },
     "execution_count": 1,
     "metadata": {},
     "output_type": "execute_result"
    }
   ],
   "source": [
    "import os\n",
    "from dotenv import load_dotenv\n",
    "\n",
    "load_dotenv()  # to make OPENAI_API_KEY and LANGCHAIN_API_KEY available"
   ]
  },
  {
   "cell_type": "code",
   "execution_count": 9,
   "metadata": {},
   "outputs": [
    {
     "data": {
      "text/plain": [
       "8"
      ]
     },
     "execution_count": 9,
     "metadata": {},
     "output_type": "execute_result"
    }
   ],
   "source": [
    "# Basics of vectorisation and embedding\n",
    "\n",
    "import numpy as np\n",
    "\n",
    "import tiktoken\n",
    "from langchain_openai import OpenAIEmbeddings\n",
    "\n",
    "embd = OpenAIEmbeddings(model=\"text-embedding-3-small\")\n",
    "\n",
    "question = \"What kind of pets do I like?\"\n",
    "document = \"My favorite pet is cat\"\n",
    "\n",
    "def num_tokens_from_string(string: str, encoding_name: str) -> int:\n",
    "    \"\"\"Returns the number of tokens in a text string\"\"\"\n",
    "    encoding = tiktoken.get_encoding(encoding_name)\n",
    "    num_tokens = len(encoding.encode(string))\n",
    "    return num_tokens\n",
    "\n",
    "print(num_tokens_from_string(question, \"cl100k_base\"))\n",
    "\n",
    "query_result = embd.embed_query(question)\n",
    "document_result = embd.embed_query(document)\n",
    "\n",
    "print(len(query_result))\n",
    "\n",
    "def cosine_similarity(vec1, vec2):\n",
    "    dot_product = np.dot(vec1, vec2)\n",
    "    norm_vec1 = np.linalg.norm(vec1)\n",
    "    norm_vec2 = np.linalg.norm(vec2)\n",
    "    return dot_product / (norm_vec1 * norm_vec2)\n",
    "\n",
    "similarity = cosine_similarity(query_result, document_result)\n",
    "print(\"Cosine Similarity:\", similarity)"
   ]
  },
  {
   "cell_type": "code",
   "execution_count": 2,
   "metadata": {},
   "outputs": [],
   "source": [
    "from langchain_openai import OpenAIEmbeddings\n",
    "from langchain.text_splitter import RecursiveCharacterTextSplitter\n",
    "from langchain_community.document_loaders import PyPDFDirectoryLoader\n",
    "from langchain_community.vectorstores import Chroma\n",
    "\n",
    "PDF_DOCS_PATH = \"./pdf_docs\"\n",
    "PDF_DOCS_CHROMA_PATH = \"./chroma_data\"\n",
    "EMBEDDING_MODEL = \"text-embedding-3-small\"\n",
    "\n",
    "loader = PyPDFDirectoryLoader(PDF_DOCS_PATH)\n",
    "docs = loader.load()\n",
    "\n",
    "text_splitter = RecursiveCharacterTextSplitter.from_tiktoken_encoder(\n",
    "    chunk_size=200, chunk_overlap=40\n",
    ")\n",
    "\n",
    "documents = text_splitter.split_documents(docs)\n",
    "\n",
    "vectorestore = Chroma.from_documents(\n",
    "    documents=documents,\n",
    "    embedding=OpenAIEmbeddings(model=EMBEDDING_MODEL),\n",
    "    persist_directory=PDF_DOCS_CHROMA_PATH\n",
    ")\n",
    "\n",
    "# retriever = vectorestore.as_retriever()"
   ]
  },
  {
   "cell_type": "code",
   "execution_count": 21,
   "metadata": {},
   "outputs": [],
   "source": [
    "retriever = vectorestore.as_retriever(search_kwargs={\"k\": 2})"
   ]
  },
  {
   "cell_type": "code",
   "execution_count": 22,
   "metadata": {},
   "outputs": [],
   "source": [
    "docs = retriever.get_relevant_documents(\"Who owns 'DenKoridZen' company?\")"
   ]
  },
  {
   "cell_type": "code",
   "execution_count": 23,
   "metadata": {},
   "outputs": [
    {
     "data": {
      "text/plain": [
       "2"
      ]
     },
     "execution_count": 23,
     "metadata": {},
     "output_type": "execute_result"
    }
   ],
   "source": [
    "len(docs)"
   ]
  },
  {
   "cell_type": "code",
   "execution_count": 27,
   "metadata": {},
   "outputs": [
    {
     "data": {
      "text/plain": [
       "[Document(page_content='Denis Korolev is a highly qulified software engineer with wide range of skills:\\n- Web-development\\n- AI-development\\n- Edtech-development\\n- System Design\\nHis favorite Programming Language is Python. \\nHe lives in Georgia since 2023. Recently he founded an Interior Design Agency «DenKoridzeN» \\nwhich provides a high quality B2B service for clients from all over the world. \\n«DenKoridzeN» agency got famouse for the interior-remodeling project of the yacht «Dona Xenia».\\nThe project was finished in May of 2024. The cost of the project is $2450000.\\nAgency has 22 employees. Denis is planning that his agency have 40 employees till the end of \\n2025.', metadata={'page': 0, 'source': 'pdf_docs/dk_story.pdf'}),\n",
       " Document(page_content='Ilya Pischalnikov is mega businessman who owns quite a few companies. This is only few of the \\ncompanies that he is running:\\n- «Notishop»\\n- «TouchIP»\\n- «SuperBot72»\\n- «DevTrix&Co»\\n- «IPGazMyas»\\nIlya owns two yachts: «Dona Xenia» and «Nordev». All yachts are considerered to be a middle size \\nyachts: «Nordev» has a length of 65.5 meters, and «Dona Xenia» is 73 meters long. The design of \\nyachts interior was made by Georgian design agency «DenKoridzeN»\\nIlya takes 15 th place in Gorbes Rating List with the net worth of $2.5 billions.', metadata={'page': 0, 'source': 'pdf_docs/ip_story.pdf'})]"
      ]
     },
     "execution_count": 27,
     "metadata": {},
     "output_type": "execute_result"
    }
   ],
   "source": [
    "docs"
   ]
  },
  {
   "cell_type": "code",
   "execution_count": 30,
   "metadata": {},
   "outputs": [],
   "source": [
    "# post-processing\n",
    "def format_docs(documents):\n",
    "    return \"\\n---\\n\".join(doc.page_content for doc in docs)"
   ]
  },
  {
   "cell_type": "code",
   "execution_count": 31,
   "metadata": {},
   "outputs": [
    {
     "data": {
      "text/plain": [
       "'Denis Korolev is a highly qulified software engineer with wide range of skills:\\n- Web-development\\n- AI-development\\n- Edtech-development\\n- System Design\\nHis favorite Programming Language is Python. \\nHe lives in Georgia since 2023. Recently he founded an Interior Design Agency «DenKoridzeN» \\nwhich provides a high quality B2B service for clients from all over the world. \\n«DenKoridzeN» agency got famouse for the interior-remodeling project of the yacht «Dona Xenia».\\nThe project was finished in May of 2024. The cost of the project is $2450000.\\nAgency has 22 employees. Denis is planning that his agency have 40 employees till the end of \\n2025.\\n---\\nIlya Pischalnikov is mega businessman who owns quite a few companies. This is only few of the \\ncompanies that he is running:\\n- «Notishop»\\n- «TouchIP»\\n- «SuperBot72»\\n- «DevTrix&Co»\\n- «IPGazMyas»\\nIlya owns two yachts: «Dona Xenia» and «Nordev». All yachts are considerered to be a middle size \\nyachts: «Nordev» has a length of 65.5 meters, and «Dona Xenia» is 73 meters long. The design of \\nyachts interior was made by Georgian design agency «DenKoridzeN»\\nIlya takes 15 th place in Gorbes Rating List with the net worth of $2.5 billions.'"
      ]
     },
     "execution_count": 31,
     "metadata": {},
     "output_type": "execute_result"
    }
   ],
   "source": [
    "formatted_docs = format_docs(docs)\n",
    "formatted_docs"
   ]
  },
  {
   "cell_type": "code",
   "execution_count": 3,
   "metadata": {},
   "outputs": [
    {
     "name": "stdout",
     "output_type": "stream",
     "text": [
      "input_variables=['context', 'question'] messages=[HumanMessagePromptTemplate(prompt=PromptTemplate(input_variables=['context', 'question'], template='Answer the question based only on the following context:\\n{context}\\n\\nQuestion: {question}\\n'))]\n"
     ]
    }
   ],
   "source": [
    "# Generation\n",
    "\n",
    "from langchain_openai import ChatOpenAI\n",
    "from langchain.prompts import ChatPromptTemplate\n",
    "\n",
    "llm = ChatOpenAI(model_name=\"gpt-3.5-turbo\", temperature=0)\n",
    "\n",
    "template = \"\"\"Answer the question based only on the following context:\n",
    "{context}\n",
    "\n",
    "Question: {question}\n",
    "\"\"\"\n",
    "\n",
    "prompt = ChatPromptTemplate.from_template(template)\n",
    "print(prompt)"
   ]
  },
  {
   "cell_type": "code",
   "execution_count": 11,
   "metadata": {},
   "outputs": [],
   "source": [
    "# LangChain Expression Language (LCEL) chain = prompt | llm | ... | ...\n",
    "\n",
    "chain = prompt | llm"
   ]
  },
  {
   "cell_type": "code",
   "execution_count": 15,
   "metadata": {},
   "outputs": [
    {
     "data": {
      "text/plain": [
       "AIMessage(content=\"The remodeling of 'Dona Xenia' was finished in May of 2024.\", response_metadata={'token_usage': {'completion_tokens': 18, 'prompt_tokens': 224, 'total_tokens': 242}, 'model_name': 'gpt-3.5-turbo', 'system_fingerprint': None, 'finish_reason': 'stop', 'logprobs': None}, id='run-a9bef3cc-66d4-4cb8-a3e5-9bf8d52ddef7-0', usage_metadata={'input_tokens': 224, 'output_tokens': 18, 'total_tokens': 242})"
      ]
     },
     "execution_count": 15,
     "metadata": {},
     "output_type": "execute_result"
    }
   ],
   "source": [
    "chain.invoke({\"context\": docs, \"question\": \"When remodeling of 'Dona Xenia' was finished?\"})"
   ]
  },
  {
   "cell_type": "code",
   "execution_count": 17,
   "metadata": {},
   "outputs": [],
   "source": [
    "# one of the options for RAG-promts from LangChain\n",
    "from langchain import hub\n",
    "\n",
    "prompt_hub_rag = hub.pull(\"rlm/rag-prompt\")  # pulling from HUB"
   ]
  },
  {
   "cell_type": "code",
   "execution_count": 18,
   "metadata": {},
   "outputs": [
    {
     "data": {
      "text/plain": [
       "ChatPromptTemplate(input_variables=['context', 'question'], metadata={'lc_hub_owner': 'rlm', 'lc_hub_repo': 'rag-prompt', 'lc_hub_commit_hash': '50442af133e61576e74536c6556cefe1fac147cad032f4377b60c436e6cdcb6e'}, messages=[HumanMessagePromptTemplate(prompt=PromptTemplate(input_variables=['context', 'question'], template=\"You are an assistant for question-answering tasks. Use the following pieces of retrieved context to answer the question. If you don't know the answer, just say that you don't know. Use three sentences maximum and keep the answer concise.\\nQuestion: {question} \\nContext: {context} \\nAnswer:\"))])"
      ]
     },
     "execution_count": 18,
     "metadata": {},
     "output_type": "execute_result"
    }
   ],
   "source": [
    "prompt_hub_rag"
   ]
  },
  {
   "cell_type": "code",
   "execution_count": 19,
   "metadata": {},
   "outputs": [
    {
     "data": {
      "text/plain": [
       "ChatPromptTemplate(input_variables=['context', 'question'], messages=[HumanMessagePromptTemplate(prompt=PromptTemplate(input_variables=['context', 'question'], template='Answer the question based only on the following context:\\n{context}\\n\\nQuestion: {question}\\n'))])"
      ]
     },
     "execution_count": 19,
     "metadata": {},
     "output_type": "execute_result"
    }
   ],
   "source": [
    "prompt"
   ]
  },
  {
   "cell_type": "code",
   "execution_count": 5,
   "metadata": {},
   "outputs": [
    {
     "data": {
      "text/plain": [
       "'The Dadashevich case lasted for 3 years.'"
      ]
     },
     "execution_count": 5,
     "metadata": {},
     "output_type": "execute_result"
    }
   ],
   "source": [
    "from langchain_core.output_parsers import StrOutputParser\n",
    "from langchain_core.runnables import RunnablePassthrough\n",
    "\n",
    "retriever = vectorestore.as_retriever(search_kwargs={\"k\": 1})\n",
    "\n",
    "rag_chain = (\n",
    "    {\"context\": retriever, \"question\": RunnablePassthrough()}\n",
    "    | prompt\n",
    "    | llm\n",
    "    | StrOutputParser()\n",
    ")\n",
    "\n",
    "rag_chain.invoke(\"How long the Dadashevich case was?\")"
   ]
  },
  {
   "cell_type": "code",
   "execution_count": 7,
   "metadata": {},
   "outputs": [],
   "source": [
    "########################################### \n",
    "#   Multi Query: Different Perspectives   #\n",
    "###########################################\n",
    "\n",
    "retriever = vectorestore.as_retriever()\n",
    "\n",
    "template_p = \"\"\"You are an AI assistant. Your task is to generate five different versions of the given user question to\n",
    "retrieve relevant documents from a vector database. By generating multiple perspectives on the user question, your goal\n",
    "is to help the user overcome some of the limitations of the distance-based similarity search.\n",
    "Provide these alternative questions separated by newlines. Original question: {question}\"\"\"\n",
    "\n",
    "prompt_perspectives = ChatPromptTemplate.from_template(template_p)\n",
    "\n",
    "generate_queries = (\n",
    "    prompt_perspectives\n",
    "    | llm\n",
    "    | StrOutputParser()\n",
    "    | (lambda x: x.split(\"\\n\"))\n",
    ")"
   ]
  },
  {
   "cell_type": "code",
   "execution_count": 55,
   "metadata": {},
   "outputs": [
    {
     "name": "stdout",
     "output_type": "stream",
     "text": [
      "['HEY', 'TAKE', 'YOUR', 'MAMA', 'OUT', 'WITH', 'ONE', 'HEAD', 'LIGHT', 'BYE', 'BYE', 'MISS', 'AMERICAN', 'PIE']\n",
      "[['HEY', 'TAKE', 'YOUR', 'MAMA', 'OUT'], ['WITH', 'ONE', 'HEAD', 'LIGHT'], ['BYE', 'BYE', 'MISS', 'AMERICAN', 'PIE']]\n"
     ]
    }
   ],
   "source": [
    "# My list comprehension practice \n",
    "al = [['Hey', 'take', 'your', 'mama', 'out'], ['With', 'one', 'head', 'light'], ['Bye', 'bye', 'miss', 'American', 'Pie']]\n",
    "bl = [doc.upper() for song in al for doc in song]\n",
    "cl = [[doc.upper() for doc in song] for song in al]\n",
    "print(bl)\n",
    "print(cl)"
   ]
  },
  {
   "cell_type": "code",
   "execution_count": 9,
   "metadata": {},
   "outputs": [],
   "source": [
    "from langchain.load import dumps, loads\n",
    "\n",
    "def get_unique_union(documents: list[list]):\n",
    "    \"\"\"Unique union of retrieved documents\"\"\"\n",
    "    # Flattened list of lists, and convert each document to string\n",
    "    flattened_docs = [dumps(doc) for sublist in documents for doc in sublist]\n",
    "    unique_docs = list(set(flattened_docs))\n",
    "    return [loads(doc) for doc in unique_docs]\n",
    "\n",
    "question = \"Give the year of start and year of finish of the longest of Denis Borodin's jobs/projects?\""
   ]
  },
  {
   "cell_type": "code",
   "execution_count": 10,
   "metadata": {},
   "outputs": [],
   "source": [
    "retrieval_chain = generate_queries | retriever.map() | get_unique_union"
   ]
  },
  {
   "cell_type": "code",
   "execution_count": 53,
   "metadata": {},
   "outputs": [
    {
     "name": "stderr",
     "output_type": "stream",
     "text": [
      "Number of requested results 4 is greater than number of elements in index 3, updating n_results = 3\n",
      "Number of requested results 4 is greater than number of elements in index 3, updating n_results = 3\n",
      "Number of requested results 4 is greater than number of elements in index 3, updating n_results = 3\n",
      "Number of requested results 4 is greater than number of elements in index 3, updating n_results = 3\n",
      "Number of requested results 4 is greater than number of elements in index 3, updating n_results = 3\n",
      "/home/dk/PycharmProjects/llm_service/venv/lib/python3.11/site-packages/langchain_core/_api/beta_decorator.py:87: LangChainBetaWarning: The function `loads` is in beta. It is actively being worked on, so the API may change.\n",
      "  warn_beta(\n"
     ]
    }
   ],
   "source": [
    "docs = retrieval_chain.invoke({\"question\": question})"
   ]
  },
  {
   "cell_type": "code",
   "execution_count": 54,
   "metadata": {},
   "outputs": [
    {
     "data": {
      "text/plain": [
       "[Document(page_content='Ilya Pischalnikov is mega businessman who owns quite a few companies. This is only few of the \\ncompanies that he is running:\\n- «Notishop»\\n- «TouchIP»\\n- «SuperBot72»\\n- «DevTrix&Co»\\n- «IPGazMyas»\\nIlya owns two yachts: «Dona Xenia» and «Nordev». All yachts are considerered to be a middle size \\nyachts: «Nordev» has a length of 65.5 meters, and «Dona Xenia» is 73 meters long. The design of \\nyachts interior was made by Georgian design agency «DenKoridzeN»\\nIlya takes 15 th place in Gorbes Rating List with the net worth of $2.5 billions.', metadata={'page': 0, 'source': 'pdf_docs/ip_story.pdf'}),\n",
       " Document(page_content='Denis Borodin is a great lawer  and is best known for his legal aid in the D.Dadashevich case.\\nHe received his law degree from the University of Irkutsk, and after taking time off of being a \\nlawyer to pursue other businesses, he reactivated his lawyer’s license following Mr. Dadashevich’s \\narrest in 2020.\\nDue to the complexity of D.Dadashevich case the court hearings lasted for 3 years. The case \\nconsisted of 5 episodes of economic crimes. At the end of the trial, a verdict of acquittal was issued.\\nThe successful result of that case and financial support of Dadashevichs family allowed Denis to \\nstart his own law office “Borodin & Sons“ in 2024.', metadata={'page': 0, 'source': 'pdf_docs/db_story.pdf'}),\n",
       " Document(page_content='Denis Korolev is a highly qulified software engineer with wide range of skills:\\n- Web-development\\n- AI-development\\n- Edtech-development\\n- System Design\\nHis favorite Programming Language is Python. \\nHe lives in Georgia since 2023. Recently he founded an Interior Design Agency «DenKoridzeN» \\nwhich provides a high quality B2B service for clients from all over the world. \\n«DenKoridzeN» agency got famouse for the interior-remodeling project of the yacht «Dona Xenia».\\nThe project was finished in May of 2024. The cost of the project is $2450000.\\nAgency has 22 employees. Denis is planning that his agency have 40 employees till the end of \\n2025.', metadata={'page': 0, 'source': 'pdf_docs/dk_story.pdf'})]"
      ]
     },
     "execution_count": 54,
     "metadata": {},
     "output_type": "execute_result"
    }
   ],
   "source": [
    "docs"
   ]
  },
  {
   "cell_type": "code",
   "execution_count": 11,
   "metadata": {},
   "outputs": [
    {
     "name": "stderr",
     "output_type": "stream",
     "text": [
      "/home/dk/PycharmProjects/llm_service/venv/lib/python3.11/site-packages/langchain_core/_api/beta_decorator.py:87: LangChainBetaWarning: The function `loads` is in beta. It is actively being worked on, so the API may change.\n",
      "  warn_beta(\n"
     ]
    },
    {
     "data": {
      "text/plain": [
       "'Denis Borodin started his career as a lawyer in 2020 and finished the D.Dadashevich case in 2023, which lasted for 3 years.'"
      ]
     },
     "execution_count": 11,
     "metadata": {},
     "output_type": "execute_result"
    }
   ],
   "source": [
    "# RAG\n",
    "\n",
    "from operator import itemgetter\n",
    "\n",
    "template_1 = \"\"\"Answer the following question based on this context:\n",
    "\n",
    "{context}\n",
    "\n",
    "Question: {question}\n",
    "\"\"\"\n",
    "\n",
    "rag_prompt = ChatPromptTemplate.from_template(template_1)\n",
    "\n",
    "final_rag_chain = (\n",
    "    {\"context\": retrieval_chain, \"question\": itemgetter(\"question\")}\n",
    "    | rag_prompt\n",
    "    | llm\n",
    "    | StrOutputParser()\n",
    ")\n",
    "\n",
    "final_rag_chain.invoke({\"question\": question})"
   ]
  },
  {
   "cell_type": "code",
   "execution_count": 12,
   "metadata": {},
   "outputs": [
    {
     "data": {
      "text/plain": [
       "\"Based on the provided context, Denis Korolev, a highly qualified software engineer, founded an interior design agency called «DenKoridzeN» which provided interior remodeling services for Ilya Pischalnikov's yacht «Dona Xenia». Therefore, it can be inferred that Denis Korolev does cooperate with Ilya Pischalnikov in providing interior design services for his yacht.\""
      ]
     },
     "execution_count": 12,
     "metadata": {},
     "output_type": "execute_result"
    }
   ],
   "source": [
    "final_rag_chain.invoke({\"question\": \"Does Denis Korolev somehow cooperates with Ilya Pischalnikov?\"})"
   ]
  },
  {
   "cell_type": "code",
   "execution_count": 13,
   "metadata": {},
   "outputs": [
    {
     "data": {
      "text/plain": [
       "'Roman Bazhenov is approximately 16 years old, as he was born in 2009.'"
      ]
     },
     "execution_count": 13,
     "metadata": {},
     "output_type": "execute_result"
    }
   ],
   "source": [
    "final_rag_chain.invoke({\"question\": \"How old is Roman Bazhenov - a young hockey player from Irkutsk Region?\"})"
   ]
  },
  {
   "cell_type": "code",
   "execution_count": 14,
   "metadata": {},
   "outputs": [
    {
     "data": {
      "text/plain": [
       "\"Yes, Nikolay has the chance to use the skills obtained during his study at university at work. He graduated with a Bachelor's Degree in AeroSpace technology and started his IT career as a Java Developer, eventually transitioning to DevOps. His education and skills in technology and IT have allowed him to excel in his career and take on roles that utilize his knowledge and expertise.\""
      ]
     },
     "execution_count": 14,
     "metadata": {},
     "output_type": "execute_result"
    }
   ],
   "source": [
    "final_rag_chain.invoke({\"question\": \"Does Nikolay have chance to use skills obtained during his study at university at work?\"})"
   ]
  },
  {
   "cell_type": "code",
   "execution_count": 21,
   "metadata": {},
   "outputs": [],
   "source": [
    "###########################\n",
    "#   RAG-Fusion: Related   #\n",
    "###########################\n",
    "\n",
    "template_2 = \"\"\"You are a helpful assistant that generates multiple search queries based on a single input query.\\n\n",
    "Generate multiple search queries related to: {question}\\n\n",
    "Output (4 queries):\"\"\"\n",
    "\n",
    "prompt_rag_fusion = ChatPromptTemplate.from_template(template_2)\n",
    "\n",
    "generate_queries = (\n",
    "    prompt_rag_fusion\n",
    "    | llm\n",
    "    | StrOutputParser()\n",
    "    |(lambda x: x.split(\"\\n\"))\n",
    ")"
   ]
  },
  {
   "cell_type": "code",
   "execution_count": 22,
   "metadata": {},
   "outputs": [],
   "source": [
    "def reciprocal_rank_fusion(results: list[list], k=60):\n",
    "    \"\"\"Reciprocal_rank_fusion that takes multiple lists of ranked \n",
    "    documents and an optional parameter k used in the RRF formula\"\"\"\n",
    "\n",
    "    fused_scores = {}  # to hold fused scores for each unique document\n",
    "\n",
    "    for docs in results:\n",
    "        for rank, doc in enumerate(docs):  # iterate through each document in the list with its rank (position in the list)\n",
    "            doc_str = dumps(doc)\n",
    "            if doc_str not in fused_scores:  # if not in fused_scores then add it with initial score of 0\n",
    "                fused_scores[doc_str] = 0\n",
    "            \n",
    "            previous_score = fused_scores[doc_str]  # retrieve the current score of the doc if any\n",
    "            \n",
    "            fused_scores[doc_str] += 1 / (rank + 1)  # update the score of the doc with formula: 1 / (rank + 1)\n",
    "\n",
    "    # sort the docs based on their fused scores in DESC order to get the final reranked results\n",
    "    reranked_results = [\n",
    "        (loads(doc), score) for doc, score in sorted(fused_scores.items(), key=lambda x: x[1], reverse=True)\n",
    "    ]\n",
    "    return reranked_results  # list of tuples like (doc, fused_score)\n",
    "\n",
    "retrieval_chain_rag_fusion = generate_queries | retriever.map() | reciprocal_rank_fusion\n",
    "docs = retrieval_chain_rag_fusion.invoke({\"question\": \"Does Nikolay have chance to use skills obtained during his study at university at work?\"})"
   ]
  },
  {
   "cell_type": "code",
   "execution_count": 23,
   "metadata": {},
   "outputs": [
    {
     "name": "stdout",
     "output_type": "stream",
     "text": [
      "6\n",
      "[(Document(page_content='Nikolay Nikitin graduated from Moscow Institute of Physics and Technology in 2023 with \\nBachelor`s Degree in AeroSpace technology.\\nNikolay has started his IT-career two years before graduation as a Java Developer at Sberbank. \\nAfter six month of working as backend developer he decided to switch to the position of DevOps at \\nthe same company.\\nThat was a good decision because new position gave Nikolay a higher salary and less stress.\\nSince then the most of his daily workload consists of supervision of K8S clusters and orchestration \\nof Docker containers. In may of 2024 Nikolay has completed an “AWS Technical Essentials“ \\ncourse which allowes him to work as AWS certified specialist.\\nNikolay spends his free time playing video games. His favourite video game is “Honkai: Star Rail“.', metadata={'page': 0, 'source': 'pdf_docs/nn_story.pdf'}), 4.0), (Document(page_content='Denis Korolev is a highly qulified software engineer with wide range of skills:\\n- Web-development\\n- AI-development\\n- Edtech-development\\n- System Design\\nHis favorite Programming Language is Python. \\nHe lives in Georgia since 2023. Recently he founded an Interior Design Agency «DenKoridzeN» \\nwhich provides a high quality B2B service for clients from all over the world. \\n«DenKoridzeN» agency got famouse for the interior-remodeling project of the yacht «Dona Xenia».\\nThe project was finished in May of 2024. The cost of the project is $2450000.\\nAgency has 22 employees. Denis is planning that his agency have 40 employees till the end of \\n2025.', metadata={'page': 0, 'source': 'pdf_docs/dk_story.pdf'}), 2.0), (Document(page_content='later he recovered from injury and continued to play hockey at amateur  hockey league.  \\nIn 2015 Pavel started his career of a professional hockey coach for men`s youth team of \\n“ERMAK“ hockey club. One of his two sons named Roman is playing on this team.  \\nRoman is one of the promising players on the team and Pavel is very prou d of him.', metadata={'page': 0, 'source': 'pdf_docs/pb_story.pdf'}), 1.0833333333333333), (Document(page_content='Pavel Bazhenov is a professional coach at  “ERMAK“ hockey club of Angarsk. He is coaching the \\nmen`s youth team. All the players are the same age - they were born in 2009.  \\nBeing a young boy Pavel himself was playing hockey on the same team at “ERMAK“ hockey club. \\nWhen he turned 20 years old he star ted his professional career at “First Hockey League“ as a part of \\n“ERMAK“ hockey team.  \\nAfter 1 year of professional playing he had to stop due to sports injury — foot fracture. One year \\nlater he recovered from injury and continued to play hockey at amateur  hockey league.  \\nIn 2015 Pavel started his career of a professional hockey coach for men`s youth team of', metadata={'page': 0, 'source': 'pdf_docs/pb_story.pdf'}), 0.5833333333333333), (Document(page_content='Denis Borodin is a great lawer  and is best known for his legal aid in the D.Dadashevich case.\\nHe received his law degree from the University of Irkutsk, and after taking time off of being a \\nlawyer to pursue other businesses, he reactivated his lawyer’s license following Mr. Dadashevich’s \\narrest in 2020.\\nDue to the complexity of D.Dadashevich case the court hearings lasted for 3 years. The case \\nconsisted of 5 episodes of economic crimes. At the end of the trial, a verdict of acquittal was issued.\\nThe successful result of that case and financial support of Dadashevichs family allowed Denis to \\nstart his own law office “Borodin & Sons“ in 2024.', metadata={'page': 0, 'source': 'pdf_docs/db_story.pdf'}), 0.3333333333333333), (Document(page_content='Ilya Pischalnikov is mega businessman who owns quite a few companies. This is only few of the \\ncompanies that he is running:\\n- «Notishop»\\n- «TouchIP»\\n- «SuperBot72»\\n- «DevTrix&Co»\\n- «IPGazMyas»\\nIlya owns two yachts: «Dona Xenia» and «Nordev». All yachts are considerered to be a middle size \\nyachts: «Nordev» has a length of 65.5 meters, and «Dona Xenia» is 73 meters long. The design of \\nyachts interior was made by Georgian design agency «DenKoridzeN»\\nIlya takes 15 th place in Gorbes Rating List with the net worth of $2.5 billions.', metadata={'page': 0, 'source': 'pdf_docs/ip_story.pdf'}), 0.3333333333333333)]\n"
     ]
    }
   ],
   "source": [
    "print(len(docs))\n",
    "print(docs)"
   ]
  },
  {
   "cell_type": "code",
   "execution_count": 24,
   "metadata": {},
   "outputs": [
    {
     "data": {
      "text/plain": [
       "'Yes, Nikolay has the chance to use the skills obtained during his study at university at work. He graduated with a Bachelor\\'s Degree in AeroSpace technology, and although he started his IT career as a Java Developer and then transitioned to DevOps, his daily workload now consists of supervision of K8S clusters and orchestration of Docker containers, which are related to his technical background in AeroSpace technology. Additionally, he completed an \"AWS Technical Essentials\" course, which further enhances his skills and knowledge in the IT field.'"
      ]
     },
     "execution_count": 24,
     "metadata": {},
     "output_type": "execute_result"
    }
   ],
   "source": [
    "question_3 = \"Does Nikolay have chance to use skills obtained during his study at university at work?\"\n",
    "\n",
    "template_3 = \"\"\"Answer the following question based on the context:\n",
    "\n",
    "{context}\n",
    "\n",
    "Question: {question}\n",
    "\"\"\"\n",
    "\n",
    "prompt = ChatPromptTemplate.from_template(template_3)\n",
    "\n",
    "final_rag_chain = (\n",
    "    {\"context\": retrieval_chain_rag_fusion, \"question\": itemgetter(\"question\")}\n",
    "    | prompt\n",
    "    | llm\n",
    "    | StrOutputParser()\n",
    ")\n",
    "\n",
    "final_rag_chain.invoke({\"question\": question_3})"
   ]
  },
  {
   "cell_type": "code",
   "execution_count": 25,
   "metadata": {},
   "outputs": [
    {
     "data": {
      "text/plain": [
       "'Based on the information provided, the yacht \"Dona Xenia\" owned by Ilya Pischalnikov is considered more awesome because it is longer at 73 meters compared to the \"Nordev\" yacht which is 65.5 meters long. Additionally, the interior design of \"Dona Xenia\" was done by the Georgian design agency \"DenKoridzeN,\" which adds to its appeal and luxury.'"
      ]
     },
     "execution_count": 25,
     "metadata": {},
     "output_type": "execute_result"
    }
   ],
   "source": [
    "final_rag_chain.invoke({\"question\": \"Which of Ilya's yachts is more awesome and why?\"})"
   ]
  },
  {
   "cell_type": "code",
   "execution_count": 26,
   "metadata": {},
   "outputs": [
    {
     "data": {
      "text/plain": [
       "'Based on the information provided, the only person mentioned who is associated with Irkutsk Region is Denis Borodin.'"
      ]
     },
     "execution_count": 26,
     "metadata": {},
     "output_type": "execute_result"
    }
   ],
   "source": [
    "final_rag_chain.invoke({\"question\": \"Provide Firstname and Lastname of all people from Irkutsk Region based on the information provided?\"})"
   ]
  },
  {
   "cell_type": "code",
   "execution_count": 49,
   "metadata": {},
   "outputs": [
    {
     "name": "stdout",
     "output_type": "stream",
     "text": [
      "[\"1. What are the common indicators or characteristics that can help determine a person's association with a specific region or state?\", \"2. How can one identify a person's connection to a particular region or state based on their cultural background or language spoken?\", \"3. Are there any specific methods or tools available to verify a person's affiliation with a particular region or state?\"]\n"
     ]
    }
   ],
   "source": [
    "###################\n",
    "#  Decomposition  #\n",
    "###################\n",
    "\n",
    "template_4 = \"\"\"You are a helpful assistant that generates multiple sub-questions to an input question.\\n\n",
    "The goal is to break down the input into a set of sub-problems / sub-questions that can be answered in isolation.\\n\n",
    "Generate multiple search queries related to: {question}\\n\n",
    "Output (3 queries):\"\"\"\n",
    "\n",
    "prompt_decomposition = ChatPromptTemplate.from_template(template_4)\n",
    "\n",
    "generate_queries_decomposition = (\n",
    "    prompt_decomposition\n",
    "    | llm\n",
    "    | StrOutputParser()\n",
    "    | (lambda x: x.split(\"\\n\"))\n",
    ")\n",
    "\n",
    "question = \"How to define that person is associated with specific region/state?\"\n",
    "questions = generate_queries_decomposition.invoke({\"question\": question})\n",
    "\n",
    "print(questions)"
   ]
  },
  {
   "cell_type": "code",
   "execution_count": 50,
   "metadata": {},
   "outputs": [],
   "source": [
    "template_5 = \"\"\"Here is the question you need to answer:\n",
    "\n",
    "\\n---\\n {question} \\n---\\n\n",
    "\n",
    "Here is any available background question + answer pairs:\n",
    "\n",
    "\\n---\\n {q_a_pairs} \\n---\\n\n",
    "\n",
    "Here is additional context relevant to the question:\n",
    "\n",
    "\\n---\\n {context} \\n---\\n\n",
    "\n",
    "Use the above context and any background question + answer pairs to answer the question: \\n {question}\n",
    "\"\"\"\n",
    "\n",
    "decomposition_prompt = ChatPromptTemplate.from_template(template_5)"
   ]
  },
  {
   "cell_type": "code",
   "execution_count": 51,
   "metadata": {},
   "outputs": [
    {
     "name": "stdout",
     "output_type": "stream",
     "text": [
      "Based on the provided context and background information, there are several methods and tools that can be used to verify a person's affiliation with a particular region or state:\n",
      "\n",
      "1. **Location of Residence**: One of the most straightforward methods is to verify where the person currently lives or has lived for a significant amount of time. For example, Denis Korolev lives in Georgia since 2023, indicating his affiliation with that region.\n",
      "\n",
      "2. **Educational Background**: Another method is to look at where the person studied or received their degree from. For instance, Nikolay Nikitin graduated from Moscow Institute of Physics and Technology, suggesting a connection to Moscow.\n",
      "\n",
      "3. **Professional Activities**: The type of work the person is involved in can also provide clues about their affiliation with a specific region. For example, Denis Borodin started his own law office in 2024, which could be linked to the region where he practices law.\n",
      "\n",
      "4. **Cultural References**: Any mentions of local events, landmarks, or traditions in the person's background information can also help verify their affiliation with a particular region. For example, the interior design agency founded by Denis Korolev, \"DenKoridzeN,\" is based in Georgia and worked on the yacht \"Dona Xenia.\"\n",
      "\n",
      "5. **Language Spoken**: Although not explicitly mentioned in the provided context, the language spoken by an individual can also be a strong indicator of their affiliation with a specific region or state, as certain languages are more commonly spoken in particular areas.\n",
      "\n",
      "Overall, a combination of these methods can be used to verify a person's affiliation with a particular region or state.\n"
     ]
    }
   ],
   "source": [
    "def format_qa_pair(question, answer):\n",
    "    formatted_string = \"\"\n",
    "    formatted_string += f\"Question: {question}\\nAnswer: {answer}\\n\\n\"\n",
    "    return formatted_string.strip()\n",
    "\n",
    "\n",
    "q_a_pairs = \"\"\n",
    "for q in questions:\n",
    "    rag_chain = (\n",
    "        {\"context\": itemgetter(\"question\") | retriever, \"question\": itemgetter(\"question\"), \"q_a_pairs\": itemgetter(\"q_a_pairs\")}\n",
    "        | decomposition_prompt\n",
    "        | llm\n",
    "        | StrOutputParser()\n",
    "    )\n",
    "    answer = rag_chain.invoke({\"question\": q, \"q_a_pairs\": q_a_pairs})\n",
    "    q_a_pair = format_qa_pair(q, answer)\n",
    "    q_a_pairs = q_a_pairs + \"\\n---\\n\" + q_a_pair\n",
    "\n",
    "print(answer)"
   ]
  },
  {
   "cell_type": "code",
   "execution_count": 52,
   "metadata": {},
   "outputs": [
    {
     "name": "stdout",
     "output_type": "stream",
     "text": [
      "1. Denis Borodin is associated with Irkutsk Region because he received his law degree from the University of Irkutsk. Additionally, he reactivated his lawyer's license after the arrest of Mr. Dadashevich in 2020, which led to the successful outcome of the case and the establishment of his own law office in 2024.\n",
      "\n",
      "2. Pavel Bazhenov is associated with Irkutsk Region as he is a professional coach at the \"ERMAK\" hockey club in Angarsk. He started his career as a professional hockey player in the \"First Hockey League\" as part of the \"ERMAK\" hockey team, which indicates his strong connection to the region's sports community.\n",
      "\n",
      "3. There are no individuals directly associated with Irkutsk Region based on the provided information.\n"
     ]
    }
   ],
   "source": [
    "final_answer = rag_chain.invoke(\n",
    "    {\n",
    "        \"question\": \"Name all people who are associated with Irkutsk Region based on the information provided. Explain reasons for each person in 2-3 sentences?\",\n",
    "        \"q_a_pairs\": q_a_pairs\n",
    "    }\n",
    ")\n",
    "print(final_answer)"
   ]
  },
  {
   "cell_type": "code",
   "execution_count": 53,
   "metadata": {},
   "outputs": [],
   "source": [
    "###############\n",
    "#  Step Back  #\n",
    "###############\n",
    "\n",
    "from langchain_core.prompts import FewShotChatMessagePromptTemplate\n",
    "examples = [\n",
    "    {\n",
    "        \"input\": \"Could the members of The Police perform lawful arrests?\",\n",
    "        \"output\": \"What can the members of The Police do?\"\n",
    "    },\n",
    "    {\n",
    "        \"input\": \"Jan Sindel was born in what country?\",\n",
    "        \"output\": \"What is Jan Sindel's personal history?\"\n",
    "    }\n",
    "]\n",
    "\n",
    "example_prompt = ChatPromptTemplate.from_messages(\n",
    "    [\n",
    "        (\"human\", \"{input}\"),\n",
    "        (\"ai\", \"{output}\"),\n",
    "    ]\n",
    ")\n",
    "\n",
    "few_shot_prompt = FewShotChatMessagePromptTemplate(\n",
    "    example_prompt=example_prompt,\n",
    "    examples=examples\n",
    ")\n",
    "\n",
    "prompt = ChatPromptTemplate.from_messages(\n",
    "    [\n",
    "        (\n",
    "            \"system\",\n",
    "            \"\"\"You are an expert at world knowledge. Your task is to step back and paraphrase a question to a \n",
    "            more generic step-back question, which is easier to answer. Here is a few examples:\"\"\"\n",
    "        ),\n",
    "        few_shot_prompt,\n",
    "        (\"user\", \"{question}\")\n",
    "    ]\n",
    ")"
   ]
  },
  {
   "cell_type": "code",
   "execution_count": 54,
   "metadata": {},
   "outputs": [
    {
     "data": {
      "text/plain": [
       "\"How can someone's regional affiliation be determined?\""
      ]
     },
     "execution_count": 54,
     "metadata": {},
     "output_type": "execute_result"
    }
   ],
   "source": [
    "generate_queries_step_back = prompt | llm | StrOutputParser()\n",
    "question = \"How to define that person is associated with specific region/state?\"\n",
    "generate_queries_step_back.invoke({\"question\": question})"
   ]
  },
  {
   "cell_type": "code",
   "execution_count": 56,
   "metadata": {},
   "outputs": [
    {
     "data": {
      "text/plain": [
       "'To define that a person is associated with a specific region or state, several factors can be considered:\\n\\n1. **Residence**: One of the most straightforward ways to determine a person\\'s association with a specific region or state is by their current residence. This can be established through official documents such as driver\\'s licenses, utility bills, or property ownership records.\\n\\n2. **Workplace**: The location of a person\\'s workplace can also indicate their association with a particular region or state. This can be determined through employment records, business registrations, or professional profiles.\\n\\n3. **Education**: The educational institutions a person has attended can provide clues about their association with a specific region or state. Alumni records or graduation certificates can confirm this connection.\\n\\n4. **Family Ties**: Family members or relatives residing in a particular region can also associate a person with that area. This can be established through family records, social media connections, or personal statements.\\n\\n5. **Community Involvement**: Participation in local community events, organizations, or activities can indicate a person\\'s association with a specific region or state. This can be verified through event attendance records, volunteer work, or community memberships.\\n\\nIn the context of the provided documents, Denis Korolev\\'s association with Georgia since 2023 is clearly defined through his residence in the state. Similarly, Nikolay Nikitin\\'s association with Moscow is evident from his graduation from the Moscow Institute of Physics and Technology. Denis Borodin\\'s connection to Irkutsk is established through his law degree from the University of Irkutsk. Pavel Bazhenov\\'s association with Angarsk is indicated by his coaching role at the \"ERMAK\" hockey club in Angarsk.'"
      ]
     },
     "execution_count": 56,
     "metadata": {},
     "output_type": "execute_result"
    }
   ],
   "source": [
    "from langchain_core.runnables import RunnableLambda\n",
    "\n",
    "response_prompt_template = \"\"\"You are an expert at world knowledge. I am going to ask you a question. Your response should be\n",
    "comprehensive and not contradicted with the following context if they are relevant. Otherwise, ignore them if they are not relevant.\n",
    "\n",
    "# {normal_context}\n",
    "# {step_back_context}\n",
    "\n",
    "# Original Question: {question}\n",
    "# Answer:\"\"\"\n",
    "\n",
    "response_prompt = ChatPromptTemplate.from_template(response_prompt_template)\n",
    "\n",
    "chain = (\n",
    "    {\n",
    "        \"normal_context\": RunnableLambda(lambda x: x[\"question\"]) | retriever,\n",
    "        \"step_back_context\": generate_queries_step_back | retriever,\n",
    "        \"question\": lambda x: x[\"question\"]\n",
    "    }\n",
    "    | response_prompt\n",
    "    | llm\n",
    "    | StrOutputParser()\n",
    ")\n",
    "\n",
    "chain.invoke({\"question\": question})"
   ]
  },
  {
   "cell_type": "code",
   "execution_count": null,
   "metadata": {},
   "outputs": [],
   "source": [
    "##########\n",
    "#  HyDE  #\n",
    "##########"
   ]
  }
 ],
 "metadata": {
  "kernelspec": {
   "display_name": "Python 3 (ipykernel)",
   "language": "python",
   "name": "python3"
  },
  "language_info": {
   "codemirror_mode": {
    "name": "ipython",
    "version": 3
   },
   "file_extension": ".py",
   "mimetype": "text/x-python",
   "name": "python",
   "nbconvert_exporter": "python",
   "pygments_lexer": "ipython3",
   "version": "3.11.9"
  }
 },
 "nbformat": 4,
 "nbformat_minor": 4
}
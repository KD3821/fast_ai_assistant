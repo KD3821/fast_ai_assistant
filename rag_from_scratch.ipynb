{
 "cells": [
  {
   "cell_type": "code",
   "execution_count": 1,
   "metadata": {},
   "outputs": [
    {
     "data": {
      "text/plain": [
       "True"
      ]
     },
     "execution_count": 1,
     "metadata": {},
     "output_type": "execute_result"
    }
   ],
   "source": [
    "import os\n",
    "from dotenv import load_dotenv\n",
    "\n",
    "load_dotenv()  # to make OPENAI_API_KEY and LANGCHAIN_API_KEY available"
   ]
  },
  {
   "cell_type": "code",
   "execution_count": 9,
   "metadata": {},
   "outputs": [
    {
     "data": {
      "text/plain": [
       "8"
      ]
     },
     "execution_count": 9,
     "metadata": {},
     "output_type": "execute_result"
    }
   ],
   "source": [
    "# Basics of vectorisation and embedding\n",
    "\n",
    "import numpy as np\n",
    "\n",
    "import tiktoken\n",
    "from langchain_openai import OpenAIEmbeddings\n",
    "\n",
    "embd = OpenAIEmbeddings(model=\"text-embedding-3-small\")\n",
    "\n",
    "question = \"What kind of pets do I like?\"\n",
    "document = \"My favorite pet is cat\"\n",
    "\n",
    "def num_tokens_from_string(string: str, encoding_name: str) -> int:\n",
    "    \"\"\"Returns the number of tokens in a text string\"\"\"\n",
    "    encoding = tiktoken.get_encoding(encoding_name)\n",
    "    num_tokens = len(encoding.encode(string))\n",
    "    return num_tokens\n",
    "\n",
    "print(num_tokens_from_string(question, \"cl100k_base\"))\n",
    "\n",
    "query_result = embd.embed_query(question)\n",
    "document_result = embd.embed_query(document)\n",
    "\n",
    "print(len(query_result))\n",
    "\n",
    "def cosine_similarity(vec1, vec2):\n",
    "    dot_product = np.dot(vec1, vec2)\n",
    "    norm_vec1 = np.linalg.norm(vec1)\n",
    "    norm_vec2 = np.linalg.norm(vec2)\n",
    "    return dot_product / (norm_vec1 * norm_vec2)\n",
    "\n",
    "similarity = cosine_similarity(query_result, document_result)\n",
    "print(\"Cosine Similarity:\", similarity)"
   ]
  },
  {
   "cell_type": "code",
   "execution_count": 2,
   "metadata": {},
   "outputs": [],
   "source": [
    "from langchain_openai import OpenAIEmbeddings\n",
    "from langchain.text_splitter import RecursiveCharacterTextSplitter\n",
    "from langchain_community.document_loaders import PyPDFDirectoryLoader\n",
    "from langchain_community.vectorstores import Chroma\n",
    "\n",
    "PDF_DOCS_PATH = \"./pdf_docs\"\n",
    "PDF_DOCS_CHROMA_PATH = \"./chroma_data\"\n",
    "EMBEDDING_MODEL = \"text-embedding-3-small\"\n",
    "\n",
    "loader = PyPDFDirectoryLoader(PDF_DOCS_PATH)\n",
    "docs = loader.load()\n",
    "\n",
    "text_splitter = RecursiveCharacterTextSplitter.from_tiktoken_encoder(\n",
    "    chunk_size=200, chunk_overlap=40\n",
    ")\n",
    "\n",
    "documents = text_splitter.split_documents(docs)\n",
    "\n",
    "vectorstore = Chroma.from_documents(\n",
    "    documents=documents,\n",
    "    embedding=OpenAIEmbeddings(model=EMBEDDING_MODEL),\n",
    "    persist_directory=PDF_DOCS_CHROMA_PATH\n",
    ")\n",
    "\n",
    "# retriever = vectorestore.as_retriever()"
   ]
  },
  {
   "cell_type": "code",
   "execution_count": 3,
   "metadata": {},
   "outputs": [
    {
     "name": "stdout",
     "output_type": "stream",
     "text": [
      "page_content='Denis Korolev is a highly qulified software engineer with wide range of skills:\\n- Web-development\\n- AI-development\\n- Edtech-development\\n- System Design\\nHis favorite Programming Language is Python. \\nHe lives in Georgia since 2023. Recently he founded an Interior Design Agency «DenKoridzeN» \\nwhich provides a high quality B2B service for clients from all over the world. \\n«DenKoridzeN» agency got famouse for the interior-remodeling project of the yacht «Dona Xenia».\\nThe project was finished in May of 2024. The cost of the project is $2450000.\\nAgency has 22 employees. Denis is planning that his agency have 40 employees till the end of \\n2025.' metadata={'source': 'pdf_docs/dk_story.pdf', 'page': 0}\n",
      "page_content='Pavel Bazhenov is a professional coach at  “ERMAK“ hockey club of Angarsk. He is coaching the \\nmen`s youth team. All the players are the same age - they were born in 2009.  \\nBeing a young boy Pavel himself was playing hockey on the same team at “ERMAK“ hockey club. \\nWhen he turned 20 years old he star ted his professional career at “First Hockey League“ as a part of \\n“ERMAK“ hockey team.  \\nAfter 1 year of professional playing he had to stop due to sports injury — foot fracture. One year \\nlater he recovered from injury and continued to play hockey at amateur  hockey league.  \\nIn 2015 Pavel started his career of a professional hockey coach for men`s youth team of' metadata={'source': 'pdf_docs/pb_story.pdf', 'page': 0}\n",
      "page_content='later he recovered from injury and continued to play hockey at amateur  hockey league.  \\nIn 2015 Pavel started his career of a professional hockey coach for men`s youth team of \\n“ERMAK“ hockey club. One of his two sons named Roman is playing on this team.  \\nRoman is one of the promising players on the team and Pavel is very prou d of him.' metadata={'source': 'pdf_docs/pb_story.pdf', 'page': 0}\n",
      "page_content='Nikolay Nikitin graduated from Moscow Institute of Physics and Technology in 2023 with \\nBachelor`s Degree in AeroSpace technology.\\nNikolay has started his IT-career two years before graduation as a Java Developer at Sberbank. \\nAfter six month of working as backend developer he decided to switch to the position of DevOps at \\nthe same company.\\nThat was a good decision because new position gave Nikolay a higher salary and less stress.\\nSince then the most of his daily workload consists of supervision of K8S clusters and orchestration \\nof Docker containers. In may of 2024 Nikolay has completed an “AWS Technical Essentials“ \\ncourse which allowes him to work as AWS certified specialist.\\nNikolay spends his free time playing video games. His favourite video game is “Honkai: Star Rail“.' metadata={'source': 'pdf_docs/nn_story.pdf', 'page': 0}\n",
      "page_content='Denis Borodin is a great lawer  and is best known for his legal aid in the D.Dadashevich case.\\nHe received his law degree from the University of Irkutsk, and after taking time off of being a \\nlawyer to pursue other businesses, he reactivated his lawyer’s license following Mr. Dadashevich’s \\narrest in 2020.\\nDue to the complexity of D.Dadashevich case the court hearings lasted for 3 years. The case \\nconsisted of 5 episodes of economic crimes. At the end of the trial, a verdict of acquittal was issued.\\nThe successful result of that case and financial support of Dadashevichs family allowed Denis to \\nstart his own law office “Borodin & Sons“ in 2024.' metadata={'source': 'pdf_docs/db_story.pdf', 'page': 0}\n",
      "page_content='Ilya Pischalnikov is mega businessman who owns quite a few companies. This is only few of the \\ncompanies that he is running:\\n- «Notishop»\\n- «TouchIP»\\n- «SuperBot72»\\n- «DevTrix&Co»\\n- «IPGazMyas»\\nIlya owns two yachts: «Dona Xenia» and «Nordev». All yachts are considerered to be a middle size \\nyachts: «Nordev» has a length of 65.5 meters, and «Dona Xenia» is 73 meters long. The design of \\nyachts interior was made by Georgian design agency «DenKoridzeN»\\nIlya takes 15 th place in Gorbes Rating List with the net worth of $2.5 billions.' metadata={'source': 'pdf_docs/ip_story.pdf', 'page': 0}\n"
     ]
    }
   ],
   "source": [
    "for i in documents:\n",
    "    print(i)"
   ]
  },
  {
   "cell_type": "code",
   "execution_count": 4,
   "metadata": {},
   "outputs": [
    {
     "data": {
      "text/plain": [
       "6"
      ]
     },
     "execution_count": 4,
     "metadata": {},
     "output_type": "execute_result"
    }
   ],
   "source": [
    "len(vectorstore.get()['documents'])"
   ]
  },
  {
   "cell_type": "code",
   "execution_count": 5,
   "metadata": {},
   "outputs": [],
   "source": [
    "all_docs = vectorstore.get()['documents']"
   ]
  },
  {
   "cell_type": "code",
   "execution_count": 6,
   "metadata": {},
   "outputs": [
    {
     "name": "stdout",
     "output_type": "stream",
     "text": [
      "Ilya Pischalnikov is mega businessman who owns quite a few companies. This is only few of the \n",
      "companies that he is running:\n",
      "- «Notishop»\n",
      "- «TouchIP»\n",
      "- «SuperBot72»\n",
      "- «DevTrix&Co»\n",
      "- «IPGazMyas»\n",
      "Ilya owns two yachts: «Dona Xenia» and «Nordev». All yachts are considerered to be a middle size \n",
      "yachts: «Nordev» has a length of 65.5 meters, and «Dona Xenia» is 73 meters long. The design of \n",
      "yachts interior was made by Georgian design agency «DenKoridzeN»\n",
      "Ilya takes 15 th place in Gorbes Rating List with the net worth of $2.5 billions.\n",
      "Nikolay Nikitin graduated from Moscow Institute of Physics and Technology in 2023 with \n",
      "Bachelor`s Degree in AeroSpace technology.\n",
      "Nikolay has started his IT-career two years before graduation as a Java Developer at Sberbank. \n",
      "After six month of working as backend developer he decided to switch to the position of DevOps at \n",
      "the same company.\n",
      "That was a good decision because new position gave Nikolay a higher salary and less stress.\n",
      "Since then the most of his daily workload consists of supervision of K8S clusters and orchestration \n",
      "of Docker containers. In may of 2024 Nikolay has completed an “AWS Technical Essentials“ \n",
      "course which allowes him to work as AWS certified specialist.\n",
      "Nikolay spends his free time playing video games. His favourite video game is “Honkai: Star Rail“.\n",
      "Denis Korolev is a highly qulified software engineer with wide range of skills:\n",
      "- Web-development\n",
      "- AI-development\n",
      "- Edtech-development\n",
      "- System Design\n",
      "His favorite Programming Language is Python. \n",
      "He lives in Georgia since 2023. Recently he founded an Interior Design Agency «DenKoridzeN» \n",
      "which provides a high quality B2B service for clients from all over the world. \n",
      "«DenKoridzeN» agency got famouse for the interior-remodeling project of the yacht «Dona Xenia».\n",
      "The project was finished in May of 2024. The cost of the project is $2450000.\n",
      "Agency has 22 employees. Denis is planning that his agency have 40 employees till the end of \n",
      "2025.\n",
      "Pavel Bazhenov is a professional coach at  “ERMAK“ hockey club of Angarsk. He is coaching the \n",
      "men`s youth team. All the players are the same age - they were born in 2009.  \n",
      "Being a young boy Pavel himself was playing hockey on the same team at “ERMAK“ hockey club. \n",
      "When he turned 20 years old he star ted his professional career at “First Hockey League“ as a part of \n",
      "“ERMAK“ hockey team.  \n",
      "After 1 year of professional playing he had to stop due to sports injury — foot fracture. One year \n",
      "later he recovered from injury and continued to play hockey at amateur  hockey league.  \n",
      "In 2015 Pavel started his career of a professional hockey coach for men`s youth team of\n",
      "later he recovered from injury and continued to play hockey at amateur  hockey league.  \n",
      "In 2015 Pavel started his career of a professional hockey coach for men`s youth team of \n",
      "“ERMAK“ hockey club. One of his two sons named Roman is playing on this team.  \n",
      "Roman is one of the promising players on the team and Pavel is very prou d of him.\n",
      "Denis Borodin is a great lawer  and is best known for his legal aid in the D.Dadashevich case.\n",
      "He received his law degree from the University of Irkutsk, and after taking time off of being a \n",
      "lawyer to pursue other businesses, he reactivated his lawyer’s license following Mr. Dadashevich’s \n",
      "arrest in 2020.\n",
      "Due to the complexity of D.Dadashevich case the court hearings lasted for 3 years. The case \n",
      "consisted of 5 episodes of economic crimes. At the end of the trial, a verdict of acquittal was issued.\n",
      "The successful result of that case and financial support of Dadashevichs family allowed Denis to \n",
      "start his own law office “Borodin & Sons“ in 2024.\n"
     ]
    }
   ],
   "source": [
    "for i in all_docs:\n",
    "    print(i)"
   ]
  },
  {
   "cell_type": "code",
   "execution_count": 21,
   "metadata": {},
   "outputs": [],
   "source": [
    "retriever = vectorstore.as_retriever(search_kwargs={\"k\": 2})"
   ]
  },
  {
   "cell_type": "code",
   "execution_count": 22,
   "metadata": {},
   "outputs": [],
   "source": [
    "docs = retriever.get_relevant_documents(\"Who owns 'DenKoridZen' company?\")"
   ]
  },
  {
   "cell_type": "code",
   "execution_count": 23,
   "metadata": {},
   "outputs": [
    {
     "data": {
      "text/plain": [
       "2"
      ]
     },
     "execution_count": 23,
     "metadata": {},
     "output_type": "execute_result"
    }
   ],
   "source": [
    "len(docs)"
   ]
  },
  {
   "cell_type": "code",
   "execution_count": 27,
   "metadata": {},
   "outputs": [
    {
     "data": {
      "text/plain": [
       "[Document(page_content='Denis Korolev is a highly qulified software engineer with wide range of skills:\\n- Web-development\\n- AI-development\\n- Edtech-development\\n- System Design\\nHis favorite Programming Language is Python. \\nHe lives in Georgia since 2023. Recently he founded an Interior Design Agency «DenKoridzeN» \\nwhich provides a high quality B2B service for clients from all over the world. \\n«DenKoridzeN» agency got famouse for the interior-remodeling project of the yacht «Dona Xenia».\\nThe project was finished in May of 2024. The cost of the project is $2450000.\\nAgency has 22 employees. Denis is planning that his agency have 40 employees till the end of \\n2025.', metadata={'page': 0, 'source': 'pdf_docs/dk_story.pdf'}),\n",
       " Document(page_content='Ilya Pischalnikov is mega businessman who owns quite a few companies. This is only few of the \\ncompanies that he is running:\\n- «Notishop»\\n- «TouchIP»\\n- «SuperBot72»\\n- «DevTrix&Co»\\n- «IPGazMyas»\\nIlya owns two yachts: «Dona Xenia» and «Nordev». All yachts are considerered to be a middle size \\nyachts: «Nordev» has a length of 65.5 meters, and «Dona Xenia» is 73 meters long. The design of \\nyachts interior was made by Georgian design agency «DenKoridzeN»\\nIlya takes 15 th place in Gorbes Rating List with the net worth of $2.5 billions.', metadata={'page': 0, 'source': 'pdf_docs/ip_story.pdf'})]"
      ]
     },
     "execution_count": 27,
     "metadata": {},
     "output_type": "execute_result"
    }
   ],
   "source": [
    "docs"
   ]
  },
  {
   "cell_type": "code",
   "execution_count": 30,
   "metadata": {},
   "outputs": [],
   "source": [
    "# post-processing\n",
    "def format_docs(documents):\n",
    "    return \"\\n---\\n\".join(doc.page_content for doc in docs)"
   ]
  },
  {
   "cell_type": "code",
   "execution_count": 31,
   "metadata": {},
   "outputs": [
    {
     "data": {
      "text/plain": [
       "'Denis Korolev is a highly qulified software engineer with wide range of skills:\\n- Web-development\\n- AI-development\\n- Edtech-development\\n- System Design\\nHis favorite Programming Language is Python. \\nHe lives in Georgia since 2023. Recently he founded an Interior Design Agency «DenKoridzeN» \\nwhich provides a high quality B2B service for clients from all over the world. \\n«DenKoridzeN» agency got famouse for the interior-remodeling project of the yacht «Dona Xenia».\\nThe project was finished in May of 2024. The cost of the project is $2450000.\\nAgency has 22 employees. Denis is planning that his agency have 40 employees till the end of \\n2025.\\n---\\nIlya Pischalnikov is mega businessman who owns quite a few companies. This is only few of the \\ncompanies that he is running:\\n- «Notishop»\\n- «TouchIP»\\n- «SuperBot72»\\n- «DevTrix&Co»\\n- «IPGazMyas»\\nIlya owns two yachts: «Dona Xenia» and «Nordev». All yachts are considerered to be a middle size \\nyachts: «Nordev» has a length of 65.5 meters, and «Dona Xenia» is 73 meters long. The design of \\nyachts interior was made by Georgian design agency «DenKoridzeN»\\nIlya takes 15 th place in Gorbes Rating List with the net worth of $2.5 billions.'"
      ]
     },
     "execution_count": 31,
     "metadata": {},
     "output_type": "execute_result"
    }
   ],
   "source": [
    "formatted_docs = format_docs(docs)\n",
    "formatted_docs"
   ]
  },
  {
   "cell_type": "code",
   "execution_count": 7,
   "metadata": {},
   "outputs": [
    {
     "name": "stdout",
     "output_type": "stream",
     "text": [
      "input_variables=['context', 'question'] messages=[HumanMessagePromptTemplate(prompt=PromptTemplate(input_variables=['context', 'question'], template='Answer the question based only on the following context:\\n{context}\\n\\nQuestion: {question}\\n'))]\n"
     ]
    }
   ],
   "source": [
    "# Generation\n",
    "\n",
    "from langchain_openai import ChatOpenAI\n",
    "from langchain.prompts import ChatPromptTemplate\n",
    "\n",
    "llm = ChatOpenAI(model_name=\"gpt-3.5-turbo\", temperature=0)\n",
    "\n",
    "template = \"\"\"Answer the question based only on the following context:\n",
    "{context}\n",
    "\n",
    "Question: {question}\n",
    "\"\"\"\n",
    "\n",
    "prompt = ChatPromptTemplate.from_template(template)\n",
    "print(prompt)"
   ]
  },
  {
   "cell_type": "code",
   "execution_count": 11,
   "metadata": {},
   "outputs": [],
   "source": [
    "# LangChain Expression Language (LCEL) chain = prompt | llm | ... | ...\n",
    "\n",
    "chain = prompt | llm"
   ]
  },
  {
   "cell_type": "code",
   "execution_count": 15,
   "metadata": {},
   "outputs": [
    {
     "data": {
      "text/plain": [
       "AIMessage(content=\"The remodeling of 'Dona Xenia' was finished in May of 2024.\", response_metadata={'token_usage': {'completion_tokens': 18, 'prompt_tokens': 224, 'total_tokens': 242}, 'model_name': 'gpt-3.5-turbo', 'system_fingerprint': None, 'finish_reason': 'stop', 'logprobs': None}, id='run-a9bef3cc-66d4-4cb8-a3e5-9bf8d52ddef7-0', usage_metadata={'input_tokens': 224, 'output_tokens': 18, 'total_tokens': 242})"
      ]
     },
     "execution_count": 15,
     "metadata": {},
     "output_type": "execute_result"
    }
   ],
   "source": [
    "chain.invoke({\"context\": docs, \"question\": \"When remodeling of 'Dona Xenia' was finished?\"})"
   ]
  },
  {
   "cell_type": "code",
   "execution_count": 17,
   "metadata": {},
   "outputs": [],
   "source": [
    "# one of the options for RAG-promts from LangChain\n",
    "from langchain import hub\n",
    "\n",
    "prompt_hub_rag = hub.pull(\"rlm/rag-prompt\")  # pulling from HUB"
   ]
  },
  {
   "cell_type": "code",
   "execution_count": 18,
   "metadata": {},
   "outputs": [
    {
     "data": {
      "text/plain": [
       "ChatPromptTemplate(input_variables=['context', 'question'], metadata={'lc_hub_owner': 'rlm', 'lc_hub_repo': 'rag-prompt', 'lc_hub_commit_hash': '50442af133e61576e74536c6556cefe1fac147cad032f4377b60c436e6cdcb6e'}, messages=[HumanMessagePromptTemplate(prompt=PromptTemplate(input_variables=['context', 'question'], template=\"You are an assistant for question-answering tasks. Use the following pieces of retrieved context to answer the question. If you don't know the answer, just say that you don't know. Use three sentences maximum and keep the answer concise.\\nQuestion: {question} \\nContext: {context} \\nAnswer:\"))])"
      ]
     },
     "execution_count": 18,
     "metadata": {},
     "output_type": "execute_result"
    }
   ],
   "source": [
    "prompt_hub_rag"
   ]
  },
  {
   "cell_type": "code",
   "execution_count": 19,
   "metadata": {},
   "outputs": [
    {
     "data": {
      "text/plain": [
       "ChatPromptTemplate(input_variables=['context', 'question'], messages=[HumanMessagePromptTemplate(prompt=PromptTemplate(input_variables=['context', 'question'], template='Answer the question based only on the following context:\\n{context}\\n\\nQuestion: {question}\\n'))])"
      ]
     },
     "execution_count": 19,
     "metadata": {},
     "output_type": "execute_result"
    }
   ],
   "source": [
    "prompt"
   ]
  },
  {
   "cell_type": "code",
   "execution_count": 5,
   "metadata": {},
   "outputs": [
    {
     "data": {
      "text/plain": [
       "'The Dadashevich case lasted for 3 years.'"
      ]
     },
     "execution_count": 5,
     "metadata": {},
     "output_type": "execute_result"
    }
   ],
   "source": [
    "from langchain_core.output_parsers import StrOutputParser\n",
    "from langchain_core.runnables import RunnablePassthrough\n",
    "\n",
    "retriever = vectorstore.as_retriever(search_kwargs={\"k\": 1})\n",
    "\n",
    "rag_chain = (\n",
    "    {\"context\": retriever, \"question\": RunnablePassthrough()}\n",
    "    | prompt\n",
    "    | llm\n",
    "    | StrOutputParser()\n",
    ")\n",
    "\n",
    "rag_chain.invoke(\"How long the Dadashevich case was?\")"
   ]
  },
  {
   "cell_type": "code",
   "execution_count": 7,
   "metadata": {},
   "outputs": [],
   "source": [
    "########################################### \n",
    "#   Multi Query: Different Perspectives   #\n",
    "###########################################\n",
    "\n",
    "retriever = vectorstore.as_retriever()\n",
    "\n",
    "template_p = \"\"\"You are an AI assistant. Your task is to generate five different versions of the given user question to\n",
    "retrieve relevant documents from a vector database. By generating multiple perspectives on the user question, your goal\n",
    "is to help the user overcome some of the limitations of the distance-based similarity search.\n",
    "Provide these alternative questions separated by newlines. Original question: {question}\"\"\"\n",
    "\n",
    "prompt_perspectives = ChatPromptTemplate.from_template(template_p)\n",
    "\n",
    "generate_queries = (\n",
    "    prompt_perspectives\n",
    "    | llm\n",
    "    | StrOutputParser()\n",
    "    | (lambda x: x.split(\"\\n\"))\n",
    ")"
   ]
  },
  {
   "cell_type": "code",
   "execution_count": 55,
   "metadata": {},
   "outputs": [
    {
     "name": "stdout",
     "output_type": "stream",
     "text": [
      "['HEY', 'TAKE', 'YOUR', 'MAMA', 'OUT', 'WITH', 'ONE', 'HEAD', 'LIGHT', 'BYE', 'BYE', 'MISS', 'AMERICAN', 'PIE']\n",
      "[['HEY', 'TAKE', 'YOUR', 'MAMA', 'OUT'], ['WITH', 'ONE', 'HEAD', 'LIGHT'], ['BYE', 'BYE', 'MISS', 'AMERICAN', 'PIE']]\n"
     ]
    }
   ],
   "source": [
    "# My list comprehension practice \n",
    "al = [['Hey', 'take', 'your', 'mama', 'out'], ['With', 'one', 'head', 'light'], ['Bye', 'bye', 'miss', 'American', 'Pie']]\n",
    "bl = [doc.upper() for song in al for doc in song]\n",
    "cl = [[doc.upper() for doc in song] for song in al]\n",
    "print(bl)\n",
    "print(cl)"
   ]
  },
  {
   "cell_type": "code",
   "execution_count": 9,
   "metadata": {},
   "outputs": [],
   "source": [
    "from langchain.load import dumps, loads\n",
    "\n",
    "def get_unique_union(documents: list[list]):\n",
    "    \"\"\"Unique union of retrieved documents\"\"\"\n",
    "    # Flattened list of lists, and convert each document to string\n",
    "    flattened_docs = [dumps(doc) for sublist in documents for doc in sublist]\n",
    "    unique_docs = list(set(flattened_docs))\n",
    "    return [loads(doc) for doc in unique_docs]\n",
    "\n",
    "question = \"Give the year of start and year of finish of the longest of Denis Borodin's jobs/projects?\""
   ]
  },
  {
   "cell_type": "code",
   "execution_count": 10,
   "metadata": {},
   "outputs": [],
   "source": [
    "retrieval_chain = generate_queries | retriever.map() | get_unique_union"
   ]
  },
  {
   "cell_type": "code",
   "execution_count": 53,
   "metadata": {},
   "outputs": [
    {
     "name": "stderr",
     "output_type": "stream",
     "text": [
      "Number of requested results 4 is greater than number of elements in index 3, updating n_results = 3\n",
      "Number of requested results 4 is greater than number of elements in index 3, updating n_results = 3\n",
      "Number of requested results 4 is greater than number of elements in index 3, updating n_results = 3\n",
      "Number of requested results 4 is greater than number of elements in index 3, updating n_results = 3\n",
      "Number of requested results 4 is greater than number of elements in index 3, updating n_results = 3\n",
      "/home/dk/PycharmProjects/llm_service/venv/lib/python3.11/site-packages/langchain_core/_api/beta_decorator.py:87: LangChainBetaWarning: The function `loads` is in beta. It is actively being worked on, so the API may change.\n",
      "  warn_beta(\n"
     ]
    }
   ],
   "source": [
    "docs = retrieval_chain.invoke({\"question\": question})"
   ]
  },
  {
   "cell_type": "code",
   "execution_count": 54,
   "metadata": {},
   "outputs": [
    {
     "data": {
      "text/plain": [
       "[Document(page_content='Ilya Pischalnikov is mega businessman who owns quite a few companies. This is only few of the \\ncompanies that he is running:\\n- «Notishop»\\n- «TouchIP»\\n- «SuperBot72»\\n- «DevTrix&Co»\\n- «IPGazMyas»\\nIlya owns two yachts: «Dona Xenia» and «Nordev». All yachts are considerered to be a middle size \\nyachts: «Nordev» has a length of 65.5 meters, and «Dona Xenia» is 73 meters long. The design of \\nyachts interior was made by Georgian design agency «DenKoridzeN»\\nIlya takes 15 th place in Gorbes Rating List with the net worth of $2.5 billions.', metadata={'page': 0, 'source': 'pdf_docs/ip_story.pdf'}),\n",
       " Document(page_content='Denis Borodin is a great lawer  and is best known for his legal aid in the D.Dadashevich case.\\nHe received his law degree from the University of Irkutsk, and after taking time off of being a \\nlawyer to pursue other businesses, he reactivated his lawyer’s license following Mr. Dadashevich’s \\narrest in 2020.\\nDue to the complexity of D.Dadashevich case the court hearings lasted for 3 years. The case \\nconsisted of 5 episodes of economic crimes. At the end of the trial, a verdict of acquittal was issued.\\nThe successful result of that case and financial support of Dadashevichs family allowed Denis to \\nstart his own law office “Borodin & Sons“ in 2024.', metadata={'page': 0, 'source': 'pdf_docs/db_story.pdf'}),\n",
       " Document(page_content='Denis Korolev is a highly qulified software engineer with wide range of skills:\\n- Web-development\\n- AI-development\\n- Edtech-development\\n- System Design\\nHis favorite Programming Language is Python. \\nHe lives in Georgia since 2023. Recently he founded an Interior Design Agency «DenKoridzeN» \\nwhich provides a high quality B2B service for clients from all over the world. \\n«DenKoridzeN» agency got famouse for the interior-remodeling project of the yacht «Dona Xenia».\\nThe project was finished in May of 2024. The cost of the project is $2450000.\\nAgency has 22 employees. Denis is planning that his agency have 40 employees till the end of \\n2025.', metadata={'page': 0, 'source': 'pdf_docs/dk_story.pdf'})]"
      ]
     },
     "execution_count": 54,
     "metadata": {},
     "output_type": "execute_result"
    }
   ],
   "source": [
    "docs"
   ]
  },
  {
   "cell_type": "code",
   "execution_count": 11,
   "metadata": {},
   "outputs": [
    {
     "name": "stderr",
     "output_type": "stream",
     "text": [
      "/home/dk/PycharmProjects/llm_service/venv/lib/python3.11/site-packages/langchain_core/_api/beta_decorator.py:87: LangChainBetaWarning: The function `loads` is in beta. It is actively being worked on, so the API may change.\n",
      "  warn_beta(\n"
     ]
    },
    {
     "data": {
      "text/plain": [
       "'Denis Borodin started his career as a lawyer in 2020 and finished the D.Dadashevich case in 2023, which lasted for 3 years.'"
      ]
     },
     "execution_count": 11,
     "metadata": {},
     "output_type": "execute_result"
    }
   ],
   "source": [
    "# RAG\n",
    "\n",
    "from operator import itemgetter\n",
    "\n",
    "template_1 = \"\"\"Answer the following question based on this context:\n",
    "\n",
    "{context}\n",
    "\n",
    "Question: {question}\n",
    "\"\"\"\n",
    "\n",
    "rag_prompt = ChatPromptTemplate.from_template(template_1)\n",
    "\n",
    "final_rag_chain = (\n",
    "    {\"context\": retrieval_chain, \"question\": itemgetter(\"question\")}\n",
    "    | rag_prompt\n",
    "    | llm\n",
    "    | StrOutputParser()\n",
    ")\n",
    "\n",
    "final_rag_chain.invoke({\"question\": question})"
   ]
  },
  {
   "cell_type": "code",
   "execution_count": 12,
   "metadata": {},
   "outputs": [
    {
     "data": {
      "text/plain": [
       "\"Based on the provided context, Denis Korolev, a highly qualified software engineer, founded an interior design agency called «DenKoridzeN» which provided interior remodeling services for Ilya Pischalnikov's yacht «Dona Xenia». Therefore, it can be inferred that Denis Korolev does cooperate with Ilya Pischalnikov in providing interior design services for his yacht.\""
      ]
     },
     "execution_count": 12,
     "metadata": {},
     "output_type": "execute_result"
    }
   ],
   "source": [
    "final_rag_chain.invoke({\"question\": \"Does Denis Korolev somehow cooperates with Ilya Pischalnikov?\"})"
   ]
  },
  {
   "cell_type": "code",
   "execution_count": 13,
   "metadata": {},
   "outputs": [
    {
     "data": {
      "text/plain": [
       "'Roman Bazhenov is approximately 16 years old, as he was born in 2009.'"
      ]
     },
     "execution_count": 13,
     "metadata": {},
     "output_type": "execute_result"
    }
   ],
   "source": [
    "final_rag_chain.invoke({\"question\": \"How old is Roman Bazhenov - a young hockey player from Irkutsk Region?\"})"
   ]
  },
  {
   "cell_type": "code",
   "execution_count": 14,
   "metadata": {},
   "outputs": [
    {
     "data": {
      "text/plain": [
       "\"Yes, Nikolay has the chance to use the skills obtained during his study at university at work. He graduated with a Bachelor's Degree in AeroSpace technology and started his IT career as a Java Developer, eventually transitioning to DevOps. His education and skills in technology and IT have allowed him to excel in his career and take on roles that utilize his knowledge and expertise.\""
      ]
     },
     "execution_count": 14,
     "metadata": {},
     "output_type": "execute_result"
    }
   ],
   "source": [
    "final_rag_chain.invoke({\"question\": \"Does Nikolay have chance to use skills obtained during his study at university at work?\"})"
   ]
  },
  {
   "cell_type": "code",
   "execution_count": 21,
   "metadata": {},
   "outputs": [],
   "source": [
    "###########################\n",
    "#   RAG-Fusion: Related   #\n",
    "###########################\n",
    "\n",
    "template_2 = \"\"\"You are a helpful assistant that generates multiple search queries based on a single input query.\\n\n",
    "Generate multiple search queries related to: {question}\\n\n",
    "Output (4 queries):\"\"\"\n",
    "\n",
    "prompt_rag_fusion = ChatPromptTemplate.from_template(template_2)\n",
    "\n",
    "generate_queries = (\n",
    "    prompt_rag_fusion\n",
    "    | llm\n",
    "    | StrOutputParser()\n",
    "    |(lambda x: x.split(\"\\n\"))\n",
    ")"
   ]
  },
  {
   "cell_type": "code",
   "execution_count": 22,
   "metadata": {},
   "outputs": [],
   "source": [
    "def reciprocal_rank_fusion(results: list[list], k=60):\n",
    "    \"\"\"Reciprocal_rank_fusion that takes multiple lists of ranked \n",
    "    documents and an optional parameter k used in the RRF formula\"\"\"\n",
    "\n",
    "    fused_scores = {}  # to hold fused scores for each unique document\n",
    "\n",
    "    for docs in results:\n",
    "        for rank, doc in enumerate(docs):  # iterate through each document in the list with its rank (position in the list)\n",
    "            doc_str = dumps(doc)\n",
    "            if doc_str not in fused_scores:  # if not in fused_scores then add it with initial score of 0\n",
    "                fused_scores[doc_str] = 0\n",
    "            \n",
    "            previous_score = fused_scores[doc_str]  # retrieve the current score of the doc if any\n",
    "            \n",
    "            fused_scores[doc_str] += 1 / (rank + 1)  # update the score of the doc with formula: 1 / (rank + 1)\n",
    "\n",
    "    # sort the docs based on their fused scores in DESC order to get the final reranked results\n",
    "    reranked_results = [\n",
    "        (loads(doc), score) for doc, score in sorted(fused_scores.items(), key=lambda x: x[1], reverse=True)\n",
    "    ]\n",
    "    return reranked_results  # list of tuples like (doc, fused_score)\n",
    "\n",
    "retrieval_chain_rag_fusion = generate_queries | retriever.map() | reciprocal_rank_fusion\n",
    "docs = retrieval_chain_rag_fusion.invoke({\"question\": \"Does Nikolay have chance to use skills obtained during his study at university at work?\"})"
   ]
  },
  {
   "cell_type": "code",
   "execution_count": 23,
   "metadata": {},
   "outputs": [
    {
     "name": "stdout",
     "output_type": "stream",
     "text": [
      "6\n",
      "[(Document(page_content='Nikolay Nikitin graduated from Moscow Institute of Physics and Technology in 2023 with \\nBachelor`s Degree in AeroSpace technology.\\nNikolay has started his IT-career two years before graduation as a Java Developer at Sberbank. \\nAfter six month of working as backend developer he decided to switch to the position of DevOps at \\nthe same company.\\nThat was a good decision because new position gave Nikolay a higher salary and less stress.\\nSince then the most of his daily workload consists of supervision of K8S clusters and orchestration \\nof Docker containers. In may of 2024 Nikolay has completed an “AWS Technical Essentials“ \\ncourse which allowes him to work as AWS certified specialist.\\nNikolay spends his free time playing video games. His favourite video game is “Honkai: Star Rail“.', metadata={'page': 0, 'source': 'pdf_docs/nn_story.pdf'}), 4.0), (Document(page_content='Denis Korolev is a highly qulified software engineer with wide range of skills:\\n- Web-development\\n- AI-development\\n- Edtech-development\\n- System Design\\nHis favorite Programming Language is Python. \\nHe lives in Georgia since 2023. Recently he founded an Interior Design Agency «DenKoridzeN» \\nwhich provides a high quality B2B service for clients from all over the world. \\n«DenKoridzeN» agency got famouse for the interior-remodeling project of the yacht «Dona Xenia».\\nThe project was finished in May of 2024. The cost of the project is $2450000.\\nAgency has 22 employees. Denis is planning that his agency have 40 employees till the end of \\n2025.', metadata={'page': 0, 'source': 'pdf_docs/dk_story.pdf'}), 2.0), (Document(page_content='later he recovered from injury and continued to play hockey at amateur  hockey league.  \\nIn 2015 Pavel started his career of a professional hockey coach for men`s youth team of \\n“ERMAK“ hockey club. One of his two sons named Roman is playing on this team.  \\nRoman is one of the promising players on the team and Pavel is very prou d of him.', metadata={'page': 0, 'source': 'pdf_docs/pb_story.pdf'}), 1.0833333333333333), (Document(page_content='Pavel Bazhenov is a professional coach at  “ERMAK“ hockey club of Angarsk. He is coaching the \\nmen`s youth team. All the players are the same age - they were born in 2009.  \\nBeing a young boy Pavel himself was playing hockey on the same team at “ERMAK“ hockey club. \\nWhen he turned 20 years old he star ted his professional career at “First Hockey League“ as a part of \\n“ERMAK“ hockey team.  \\nAfter 1 year of professional playing he had to stop due to sports injury — foot fracture. One year \\nlater he recovered from injury and continued to play hockey at amateur  hockey league.  \\nIn 2015 Pavel started his career of a professional hockey coach for men`s youth team of', metadata={'page': 0, 'source': 'pdf_docs/pb_story.pdf'}), 0.5833333333333333), (Document(page_content='Denis Borodin is a great lawer  and is best known for his legal aid in the D.Dadashevich case.\\nHe received his law degree from the University of Irkutsk, and after taking time off of being a \\nlawyer to pursue other businesses, he reactivated his lawyer’s license following Mr. Dadashevich’s \\narrest in 2020.\\nDue to the complexity of D.Dadashevich case the court hearings lasted for 3 years. The case \\nconsisted of 5 episodes of economic crimes. At the end of the trial, a verdict of acquittal was issued.\\nThe successful result of that case and financial support of Dadashevichs family allowed Denis to \\nstart his own law office “Borodin & Sons“ in 2024.', metadata={'page': 0, 'source': 'pdf_docs/db_story.pdf'}), 0.3333333333333333), (Document(page_content='Ilya Pischalnikov is mega businessman who owns quite a few companies. This is only few of the \\ncompanies that he is running:\\n- «Notishop»\\n- «TouchIP»\\n- «SuperBot72»\\n- «DevTrix&Co»\\n- «IPGazMyas»\\nIlya owns two yachts: «Dona Xenia» and «Nordev». All yachts are considerered to be a middle size \\nyachts: «Nordev» has a length of 65.5 meters, and «Dona Xenia» is 73 meters long. The design of \\nyachts interior was made by Georgian design agency «DenKoridzeN»\\nIlya takes 15 th place in Gorbes Rating List with the net worth of $2.5 billions.', metadata={'page': 0, 'source': 'pdf_docs/ip_story.pdf'}), 0.3333333333333333)]\n"
     ]
    }
   ],
   "source": [
    "print(len(docs))\n",
    "print(docs)"
   ]
  },
  {
   "cell_type": "code",
   "execution_count": 24,
   "metadata": {},
   "outputs": [
    {
     "data": {
      "text/plain": [
       "'Yes, Nikolay has the chance to use the skills obtained during his study at university at work. He graduated with a Bachelor\\'s Degree in AeroSpace technology, and although he started his IT career as a Java Developer and then transitioned to DevOps, his daily workload now consists of supervision of K8S clusters and orchestration of Docker containers, which are related to his technical background in AeroSpace technology. Additionally, he completed an \"AWS Technical Essentials\" course, which further enhances his skills and knowledge in the IT field.'"
      ]
     },
     "execution_count": 24,
     "metadata": {},
     "output_type": "execute_result"
    }
   ],
   "source": [
    "question_3 = \"Does Nikolay have chance to use skills obtained during his study at university at work?\"\n",
    "\n",
    "template_3 = \"\"\"Answer the following question based on the context:\n",
    "\n",
    "{context}\n",
    "\n",
    "Question: {question}\n",
    "\"\"\"\n",
    "\n",
    "prompt = ChatPromptTemplate.from_template(template_3)\n",
    "\n",
    "final_rag_chain = (\n",
    "    {\"context\": retrieval_chain_rag_fusion, \"question\": itemgetter(\"question\")}\n",
    "    | prompt\n",
    "    | llm\n",
    "    | StrOutputParser()\n",
    ")\n",
    "\n",
    "final_rag_chain.invoke({\"question\": question_3})"
   ]
  },
  {
   "cell_type": "code",
   "execution_count": 25,
   "metadata": {},
   "outputs": [
    {
     "data": {
      "text/plain": [
       "'Based on the information provided, the yacht \"Dona Xenia\" owned by Ilya Pischalnikov is considered more awesome because it is longer at 73 meters compared to the \"Nordev\" yacht which is 65.5 meters long. Additionally, the interior design of \"Dona Xenia\" was done by the Georgian design agency \"DenKoridzeN,\" which adds to its appeal and luxury.'"
      ]
     },
     "execution_count": 25,
     "metadata": {},
     "output_type": "execute_result"
    }
   ],
   "source": [
    "final_rag_chain.invoke({\"question\": \"Which of Ilya's yachts is more awesome and why?\"})"
   ]
  },
  {
   "cell_type": "code",
   "execution_count": 26,
   "metadata": {},
   "outputs": [
    {
     "data": {
      "text/plain": [
       "'Based on the information provided, the only person mentioned who is associated with Irkutsk Region is Denis Borodin.'"
      ]
     },
     "execution_count": 26,
     "metadata": {},
     "output_type": "execute_result"
    }
   ],
   "source": [
    "final_rag_chain.invoke({\"question\": \"Provide Firstname and Lastname of all people from Irkutsk Region based on the information provided?\"})"
   ]
  },
  {
   "cell_type": "code",
   "execution_count": 49,
   "metadata": {},
   "outputs": [
    {
     "name": "stdout",
     "output_type": "stream",
     "text": [
      "[\"1. What are the common indicators or characteristics that can help determine a person's association with a specific region or state?\", \"2. How can one identify a person's connection to a particular region or state based on their cultural background or language spoken?\", \"3. Are there any specific methods or tools available to verify a person's affiliation with a particular region or state?\"]\n"
     ]
    }
   ],
   "source": [
    "###################\n",
    "#  Decomposition  #\n",
    "###################\n",
    "\n",
    "template_4 = \"\"\"You are a helpful assistant that generates multiple sub-questions to an input question.\\n\n",
    "The goal is to break down the input into a set of sub-problems / sub-questions that can be answered in isolation.\\n\n",
    "Generate multiple search queries related to: {question}\\n\n",
    "Output (3 queries):\"\"\"\n",
    "\n",
    "prompt_decomposition = ChatPromptTemplate.from_template(template_4)\n",
    "\n",
    "generate_queries_decomposition = (\n",
    "    prompt_decomposition\n",
    "    | llm\n",
    "    | StrOutputParser()\n",
    "    | (lambda x: x.split(\"\\n\"))\n",
    ")\n",
    "\n",
    "question = \"How to define that person is associated with specific region/state?\"\n",
    "questions = generate_queries_decomposition.invoke({\"question\": question})\n",
    "\n",
    "print(questions)"
   ]
  },
  {
   "cell_type": "code",
   "execution_count": 50,
   "metadata": {},
   "outputs": [],
   "source": [
    "template_5 = \"\"\"Here is the question you need to answer:\n",
    "\n",
    "\\n---\\n {question} \\n---\\n\n",
    "\n",
    "Here is any available background question + answer pairs:\n",
    "\n",
    "\\n---\\n {q_a_pairs} \\n---\\n\n",
    "\n",
    "Here is additional context relevant to the question:\n",
    "\n",
    "\\n---\\n {context} \\n---\\n\n",
    "\n",
    "Use the above context and any background question + answer pairs to answer the question: \\n {question}\n",
    "\"\"\"\n",
    "\n",
    "decomposition_prompt = ChatPromptTemplate.from_template(template_5)"
   ]
  },
  {
   "cell_type": "code",
   "execution_count": 51,
   "metadata": {},
   "outputs": [
    {
     "name": "stdout",
     "output_type": "stream",
     "text": [
      "Based on the provided context and background information, there are several methods and tools that can be used to verify a person's affiliation with a particular region or state:\n",
      "\n",
      "1. **Location of Residence**: One of the most straightforward methods is to verify where the person currently lives or has lived for a significant amount of time. For example, Denis Korolev lives in Georgia since 2023, indicating his affiliation with that region.\n",
      "\n",
      "2. **Educational Background**: Another method is to look at where the person studied or received their degree from. For instance, Nikolay Nikitin graduated from Moscow Institute of Physics and Technology, suggesting a connection to Moscow.\n",
      "\n",
      "3. **Professional Activities**: The type of work the person is involved in can also provide clues about their affiliation with a specific region. For example, Denis Borodin started his own law office in 2024, which could be linked to the region where he practices law.\n",
      "\n",
      "4. **Cultural References**: Any mentions of local events, landmarks, or traditions in the person's background information can also help verify their affiliation with a particular region. For example, the interior design agency founded by Denis Korolev, \"DenKoridzeN,\" is based in Georgia and worked on the yacht \"Dona Xenia.\"\n",
      "\n",
      "5. **Language Spoken**: Although not explicitly mentioned in the provided context, the language spoken by an individual can also be a strong indicator of their affiliation with a specific region or state, as certain languages are more commonly spoken in particular areas.\n",
      "\n",
      "Overall, a combination of these methods can be used to verify a person's affiliation with a particular region or state.\n"
     ]
    }
   ],
   "source": [
    "def format_qa_pair(question, answer):\n",
    "    formatted_string = \"\"\n",
    "    formatted_string += f\"Question: {question}\\nAnswer: {answer}\\n\\n\"\n",
    "    return formatted_string.strip()\n",
    "\n",
    "\n",
    "q_a_pairs = \"\"\n",
    "for q in questions:\n",
    "    rag_chain = (\n",
    "        {\"context\": itemgetter(\"question\") | retriever, \"question\": itemgetter(\"question\"), \"q_a_pairs\": itemgetter(\"q_a_pairs\")}\n",
    "        | decomposition_prompt\n",
    "        | llm\n",
    "        | StrOutputParser()\n",
    "    )\n",
    "    answer = rag_chain.invoke({\"question\": q, \"q_a_pairs\": q_a_pairs})\n",
    "    q_a_pair = format_qa_pair(q, answer)\n",
    "    q_a_pairs = q_a_pairs + \"\\n---\\n\" + q_a_pair\n",
    "\n",
    "print(answer)"
   ]
  },
  {
   "cell_type": "code",
   "execution_count": 52,
   "metadata": {},
   "outputs": [
    {
     "name": "stdout",
     "output_type": "stream",
     "text": [
      "1. Denis Borodin is associated with Irkutsk Region because he received his law degree from the University of Irkutsk. Additionally, he reactivated his lawyer's license after the arrest of Mr. Dadashevich in 2020, which led to the successful outcome of the case and the establishment of his own law office in 2024.\n",
      "\n",
      "2. Pavel Bazhenov is associated with Irkutsk Region as he is a professional coach at the \"ERMAK\" hockey club in Angarsk. He started his career as a professional hockey player in the \"First Hockey League\" as part of the \"ERMAK\" hockey team, which indicates his strong connection to the region's sports community.\n",
      "\n",
      "3. There are no individuals directly associated with Irkutsk Region based on the provided information.\n"
     ]
    }
   ],
   "source": [
    "final_answer = rag_chain.invoke(\n",
    "    {\n",
    "        \"question\": \"Name all people who are associated with Irkutsk Region based on the information provided. Explain reasons for each person in 2-3 sentences?\",\n",
    "        \"q_a_pairs\": q_a_pairs\n",
    "    }\n",
    ")\n",
    "print(final_answer)"
   ]
  },
  {
   "cell_type": "code",
   "execution_count": 53,
   "metadata": {},
   "outputs": [],
   "source": [
    "###############\n",
    "#  Step Back  #\n",
    "###############\n",
    "\n",
    "from langchain_core.prompts import FewShotChatMessagePromptTemplate\n",
    "examples = [\n",
    "    {\n",
    "        \"input\": \"Could the members of The Police perform lawful arrests?\",\n",
    "        \"output\": \"What can the members of The Police do?\"\n",
    "    },\n",
    "    {\n",
    "        \"input\": \"Jan Sindel was born in what country?\",\n",
    "        \"output\": \"What is Jan Sindel's personal history?\"\n",
    "    }\n",
    "]\n",
    "\n",
    "example_prompt = ChatPromptTemplate.from_messages(\n",
    "    [\n",
    "        (\"human\", \"{input}\"),\n",
    "        (\"ai\", \"{output}\"),\n",
    "    ]\n",
    ")\n",
    "\n",
    "few_shot_prompt = FewShotChatMessagePromptTemplate(\n",
    "    example_prompt=example_prompt,\n",
    "    examples=examples\n",
    ")\n",
    "\n",
    "prompt = ChatPromptTemplate.from_messages(\n",
    "    [\n",
    "        (\n",
    "            \"system\",\n",
    "            \"\"\"You are an expert at world knowledge. Your task is to step back and paraphrase a question to a \n",
    "            more generic step-back question, which is easier to answer. Here is a few examples:\"\"\"\n",
    "        ),\n",
    "        few_shot_prompt,\n",
    "        (\"user\", \"{question}\")\n",
    "    ]\n",
    ")"
   ]
  },
  {
   "cell_type": "code",
   "execution_count": 54,
   "metadata": {},
   "outputs": [
    {
     "data": {
      "text/plain": [
       "\"How can someone's regional affiliation be determined?\""
      ]
     },
     "execution_count": 54,
     "metadata": {},
     "output_type": "execute_result"
    }
   ],
   "source": [
    "generate_queries_step_back = prompt | llm | StrOutputParser()\n",
    "question = \"How to define that person is associated with specific region/state?\"\n",
    "generate_queries_step_back.invoke({\"question\": question})"
   ]
  },
  {
   "cell_type": "code",
   "execution_count": 56,
   "metadata": {},
   "outputs": [
    {
     "data": {
      "text/plain": [
       "'To define that a person is associated with a specific region or state, several factors can be considered:\\n\\n1. **Residence**: One of the most straightforward ways to determine a person\\'s association with a specific region or state is by their current residence. This can be established through official documents such as driver\\'s licenses, utility bills, or property ownership records.\\n\\n2. **Workplace**: The location of a person\\'s workplace can also indicate their association with a particular region or state. This can be determined through employment records, business registrations, or professional profiles.\\n\\n3. **Education**: The educational institutions a person has attended can provide clues about their association with a specific region or state. Alumni records or graduation certificates can confirm this connection.\\n\\n4. **Family Ties**: Family members or relatives residing in a particular region can also associate a person with that area. This can be established through family records, social media connections, or personal statements.\\n\\n5. **Community Involvement**: Participation in local community events, organizations, or activities can indicate a person\\'s association with a specific region or state. This can be verified through event attendance records, volunteer work, or community memberships.\\n\\nIn the context of the provided documents, Denis Korolev\\'s association with Georgia since 2023 is clearly defined through his residence in the state. Similarly, Nikolay Nikitin\\'s association with Moscow is evident from his graduation from the Moscow Institute of Physics and Technology. Denis Borodin\\'s connection to Irkutsk is established through his law degree from the University of Irkutsk. Pavel Bazhenov\\'s association with Angarsk is indicated by his coaching role at the \"ERMAK\" hockey club in Angarsk.'"
      ]
     },
     "execution_count": 56,
     "metadata": {},
     "output_type": "execute_result"
    }
   ],
   "source": [
    "from langchain_core.runnables import RunnableLambda\n",
    "\n",
    "response_prompt_template = \"\"\"You are an expert at world knowledge. I am going to ask you a question. Your response should be\n",
    "comprehensive and not contradicted with the following context if they are relevant. Otherwise, ignore them if they are not relevant.\n",
    "\n",
    "# {normal_context}\n",
    "# {step_back_context}\n",
    "\n",
    "# Original Question: {question}\n",
    "# Answer:\"\"\"\n",
    "\n",
    "response_prompt = ChatPromptTemplate.from_template(response_prompt_template)\n",
    "\n",
    "chain = (\n",
    "    {\n",
    "        \"normal_context\": RunnableLambda(lambda x: x[\"question\"]) | retriever,\n",
    "        \"step_back_context\": generate_queries_step_back | retriever,\n",
    "        \"question\": lambda x: x[\"question\"]\n",
    "    }\n",
    "    | response_prompt\n",
    "    | llm\n",
    "    | StrOutputParser()\n",
    ")\n",
    "\n",
    "chain.invoke({\"question\": question})"
   ]
  },
  {
   "cell_type": "code",
   "execution_count": 13,
   "metadata": {},
   "outputs": [
    {
     "data": {
      "text/plain": [
       "'In order to define the level of cooperation between individuals or companies, it is important to consider the frequency and depth of interactions between them. One way to measure cooperation is to analyze the number of collaborative projects or joint ventures that have been undertaken between the parties in question. Additionally, the extent to which resources, information, or expertise are shared can also be indicative of the level of cooperation. \\n\\nAnother important factor to consider is the level of trust and communication between the parties. Cooperation often requires a certain degree of mutual understanding and willingness to work together towards a common goal. Lack of communication or trust can hinder the ability of individuals or companies to effectively collaborate with each other.\\n\\nFurthermore, the presence of formal agreements or contracts outlining the terms of cooperation can also be used to define the level of collaboration between parties. These agreements can help establish clear expectations and responsibilities, as well as provide a framework for resolving conflicts or disputes that may arise during the course of the collaboration.\\n\\nOverall, defining the level of cooperation between individuals or companies involves considering a combination of factors such as the frequency of interactions, the sharing of resources and information, the level of trust and communication, and the presence of formal agreements. By examining these factors, it is possible to determine the extent to which parties are cooperating with each other.'"
      ]
     },
     "execution_count": 13,
     "metadata": {},
     "output_type": "execute_result"
    }
   ],
   "source": [
    "#############################################\n",
    "#  HyDE - hypothetical document embeddings  #\n",
    "#############################################\n",
    "from langchain_core.output_parsers import StrOutputParser\n",
    "\n",
    "retriever = vectorstore.as_retriever()\n",
    "\n",
    "template_6 = \"\"\"Please write a scientific paper passage to answer the question\n",
    "Question: {question}\n",
    "Passage:\"\"\"\n",
    "\n",
    "prompt_hyde = ChatPromptTemplate.from_template(template_6)\n",
    "\n",
    "generate_docs_for_retrieval = (\n",
    "    prompt_hyde | llm | StrOutputParser()\n",
    ")\n",
    "\n",
    "question = \"How to define that few people/companies cooperate with each other?\"\n",
    "generate_docs_for_retrieval.invoke({\"question\": question})"
   ]
  },
  {
   "cell_type": "code",
   "execution_count": 14,
   "metadata": {},
   "outputs": [
    {
     "data": {
      "text/plain": [
       "[Document(page_content='Denis Korolev is a highly qulified software engineer with wide range of skills:\\n- Web-development\\n- AI-development\\n- Edtech-development\\n- System Design\\nHis favorite Programming Language is Python. \\nHe lives in Georgia since 2023. Recently he founded an Interior Design Agency «DenKoridzeN» \\nwhich provides a high quality B2B service for clients from all over the world. \\n«DenKoridzeN» agency got famouse for the interior-remodeling project of the yacht «Dona Xenia».\\nThe project was finished in May of 2024. The cost of the project is $2450000.\\nAgency has 22 employees. Denis is planning that his agency have 40 employees till the end of \\n2025.', metadata={'page': 0, 'source': 'pdf_docs/dk_story.pdf'}),\n",
       " Document(page_content='Ilya Pischalnikov is mega businessman who owns quite a few companies. This is only few of the \\ncompanies that he is running:\\n- «Notishop»\\n- «TouchIP»\\n- «SuperBot72»\\n- «DevTrix&Co»\\n- «IPGazMyas»\\nIlya owns two yachts: «Dona Xenia» and «Nordev». All yachts are considerered to be a middle size \\nyachts: «Nordev» has a length of 65.5 meters, and «Dona Xenia» is 73 meters long. The design of \\nyachts interior was made by Georgian design agency «DenKoridzeN»\\nIlya takes 15 th place in Gorbes Rating List with the net worth of $2.5 billions.', metadata={'page': 0, 'source': 'pdf_docs/ip_story.pdf'}),\n",
       " Document(page_content='Nikolay Nikitin graduated from Moscow Institute of Physics and Technology in 2023 with \\nBachelor`s Degree in AeroSpace technology.\\nNikolay has started his IT-career two years before graduation as a Java Developer at Sberbank. \\nAfter six month of working as backend developer he decided to switch to the position of DevOps at \\nthe same company.\\nThat was a good decision because new position gave Nikolay a higher salary and less stress.\\nSince then the most of his daily workload consists of supervision of K8S clusters and orchestration \\nof Docker containers. In may of 2024 Nikolay has completed an “AWS Technical Essentials“ \\ncourse which allowes him to work as AWS certified specialist.\\nNikolay spends his free time playing video games. His favourite video game is “Honkai: Star Rail“.', metadata={'page': 0, 'source': 'pdf_docs/nn_story.pdf'}),\n",
       " Document(page_content='Denis Borodin is a great lawer  and is best known for his legal aid in the D.Dadashevich case.\\nHe received his law degree from the University of Irkutsk, and after taking time off of being a \\nlawyer to pursue other businesses, he reactivated his lawyer’s license following Mr. Dadashevich’s \\narrest in 2020.\\nDue to the complexity of D.Dadashevich case the court hearings lasted for 3 years. The case \\nconsisted of 5 episodes of economic crimes. At the end of the trial, a verdict of acquittal was issued.\\nThe successful result of that case and financial support of Dadashevichs family allowed Denis to \\nstart his own law office “Borodin & Sons“ in 2024.', metadata={'page': 0, 'source': 'pdf_docs/db_story.pdf'})]"
      ]
     },
     "execution_count": 14,
     "metadata": {},
     "output_type": "execute_result"
    }
   ],
   "source": [
    "# Retrieve\n",
    "\n",
    "retrieval_chain = generate_docs_for_retrieval | retriever\n",
    "\n",
    "retrieved_docs = retrieval_chain.invoke({\"question\": question})\n",
    "\n",
    "retrieved_docs"
   ]
  },
  {
   "cell_type": "code",
   "execution_count": 15,
   "metadata": {},
   "outputs": [
    {
     "data": {
      "text/plain": [
       "'1. Denis Korolev with Ilya Pischalnikov: Denis Korolev\\'s interior design agency, \"DenKoridzeN,\" worked on the interior remodeling project of Ilya Pischalnikov\\'s yacht, \"Dona Xenia.\" This collaboration occurred because Ilya Pischalnikov owns the yacht and wanted to enhance its interior design, leading him to hire Denis Korolev\\'s agency for the project.\\n\\n2. Nikolay Nikitin with Denis Korolev: There is no direct cooperation mentioned between Nikolay Nikitin and Denis Korolev in the provided context.'"
      ]
     },
     "execution_count": 15,
     "metadata": {},
     "output_type": "execute_result"
    }
   ],
   "source": [
    "# RAG\n",
    "\n",
    "template_7 = \"\"\"Answer the following question based on this context:\n",
    "\n",
    "{context}\n",
    "\n",
    "Question: {question}\n",
    "\"\"\"\n",
    "\n",
    "prompt = ChatPromptTemplate.from_template(template_7)\n",
    "\n",
    "final_rag_chain = (\n",
    "    prompt\n",
    "    | llm\n",
    "    | StrOutputParser()\n",
    ")\n",
    "\n",
    "final_rag_chain.invoke(\n",
    "    {\"context\": retrieved_docs, \"question\": \"Name all people/companies who have cooperated with each other in format <'Name of person/company' with 'Name of person/company'>. Explain why in 2-3 sentences for each case of cooperation?\"}\n",
    ")"
   ]
  },
  {
   "cell_type": "code",
   "execution_count": 17,
   "metadata": {},
   "outputs": [],
   "source": [
    "#######################\n",
    "#   Logical Routing   #\n",
    "#######################\n",
    "\n",
    "from typing import Literal\n",
    "\n",
    "from langchain_core.pydantic_v1 import BaseModel, Field\n",
    "\n",
    "#  python_docs, js_docs, golang_docs can be replaced with VectorDB, GraphDB, RelationalDB\n",
    "class RouteQuery(BaseModel):\n",
    "    \"\"\"Route a user query to the most relevant datasource\"\"\"\n",
    "    datasource: Literal[\"python_docs\", \"js_docs\", \"golang_docs\"] = Field(\n",
    "        ...,\n",
    "        description=\"Given a user question choose which datasource would be most relevant for answering their question\"\n",
    "    )\n",
    "\n",
    "\n",
    "structured_llm = llm.with_structured_output(RouteQuery)\n",
    "\n",
    "system = \"\"\"You are an expert at routing a user question to the appropriate data source.\n",
    "Based on the programming language the question is referring to, route it to the relevant data source.\"\"\"\n",
    "\n",
    "prompt = ChatPromptTemplate.from_messages(\n",
    "    [\n",
    "        (\"system\", system),\n",
    "        (\"human\", \"{question}\")\n",
    "    ]\n",
    ")\n",
    "\n",
    "router = prompt | structured_llm   # define the router"
   ]
  },
  {
   "cell_type": "code",
   "execution_count": 18,
   "metadata": {},
   "outputs": [
    {
     "name": "stdout",
     "output_type": "stream",
     "text": [
      "datasource='python_docs'\n"
     ]
    }
   ],
   "source": [
    "question = \"\"\"Why doesn't the following code work:\n",
    "\n",
    "from langchain_core.prompts import ChatPromptTemplate\n",
    "\n",
    "prompt = ChatPromptTemplate.from_messages([\"human\", \"speak in {language}\"])\n",
    "prompt.invoke(\"french\")\n",
    "\"\"\"\n",
    "\n",
    "result = router.invoke({\"question\": question})\n",
    "print(result)"
   ]
  },
  {
   "cell_type": "code",
   "execution_count": 19,
   "metadata": {},
   "outputs": [
    {
     "name": "stdout",
     "output_type": "stream",
     "text": [
      "datasource='js_docs'\n"
     ]
    }
   ],
   "source": [
    "question = \"\"\"Why doesn't the following code work:\n",
    "\n",
    "import {store} from \"@/store.js\"\n",
    "\n",
    "app = app.use(store)\n",
    "\"\"\"\n",
    "\n",
    "result = router.invoke({\"question\": question})\n",
    "print(result)"
   ]
  },
  {
   "cell_type": "code",
   "execution_count": 20,
   "metadata": {},
   "outputs": [],
   "source": [
    "# helpful function to reason over 'datasource'\n",
    "def choose_route(result):\n",
    "    if \"python_docs\" in result.datasource.lower():\n",
    "        return \"Chain for Python docs\"\n",
    "    elif \"js_docs\" in result.datasource.lower():\n",
    "        return \"Chain for JS docs\"\n",
    "    else:\n",
    "        return \"Chain for Golang docs\"\n",
    "        \n",
    "from langchain_core.runnables import RunnableLambda\n",
    "\n",
    "full_chain = router | RunnableLambda(choose_route)"
   ]
  },
  {
   "cell_type": "code",
   "execution_count": 21,
   "metadata": {},
   "outputs": [
    {
     "data": {
      "text/plain": [
       "'Chain for JS docs'"
      ]
     },
     "execution_count": 21,
     "metadata": {},
     "output_type": "execute_result"
    }
   ],
   "source": [
    "full_chain.invoke({\"question\": question})"
   ]
  },
  {
   "cell_type": "code",
   "execution_count": 27,
   "metadata": {},
   "outputs": [
    {
     "name": "stdout",
     "output_type": "stream",
     "text": [
      "Using ENGLISH\n",
      "The phrase \"break a leg\" is a common idiom in English that is used to wish someone good luck, especially before a performance or presentation. It is believed to have originated in the theater world, where saying \"good luck\" is considered bad luck, so instead actors and performers say \"break a leg\" as a way to wish each other success without jinxing the performance.\n"
     ]
    }
   ],
   "source": [
    "########################\n",
    "#   Semantic Routing   #\n",
    "########################\n",
    "\n",
    "from langchain.utils.math import cosine_similarity\n",
    "from langchain.prompts import PromptTemplate\n",
    "from langchain_core.runnables import RunnablePassthrough\n",
    "\n",
    "# two prompts\n",
    "english_template = \"\"\"You are a very smart English Language professor. \\\n",
    "You are great at answering questions about English Language as a foreign language and about Enlish words, proverbs and idioms in a concise and easy to understand manner. \\\n",
    "When you don't know the answer to a question you admit that you don't know.\n",
    "\n",
    "Here is the question:\n",
    "{query}\"\"\"\n",
    "\n",
    "math_template = \"\"\"You are a very good mathematician. You are great at answering math questions. \\\n",
    "You are so good because you are able to break down hard problems into their component parts, \\\n",
    "answer the component parts, and then put them together to answer the broader question.\n",
    "\n",
    "Here is the question:\n",
    "{query}\"\"\"\n",
    "\n",
    "# embed prompts\n",
    "prompt_templates = [english_template, math_template]\n",
    "embeddings = OpenAIEmbeddings(model=EMBEDDING_MODEL)\n",
    "prompt_embeddings = embeddings.embed_documents(prompt_templates)\n",
    "\n",
    "# route question to prompt\n",
    "def prompt_router(input):\n",
    "    query_embedding = embeddings.embed_query(input[\"query\"])\n",
    "    similarity = cosine_similarity([query_embedding], prompt_embeddings)[0]\n",
    "    most_similar = prompt_templates[similarity.argmax()]\n",
    "    print(\"Using MATH\" if most_similar == math_template else \"Using ENGLISH\")\n",
    "    return PromptTemplate.from_template(most_similar)\n",
    "\n",
    "chain = (\n",
    "    {\"query\": RunnablePassthrough()}\n",
    "    | RunnableLambda(prompt_router)\n",
    "    | llm\n",
    "    | StrOutputParser()\n",
    ")\n",
    "\n",
    "answer = chain.invoke(\"What is a meaning of 'break a leg' phrase?\")\n",
    "print(answer)"
   ]
  },
  {
   "cell_type": "code",
   "execution_count": 35,
   "metadata": {},
   "outputs": [
    {
     "data": {
      "text/plain": [
       "{'source': 'pbAd8O1Lvm4',\n",
       " 'title': 'Self-reflective RAG with LangGraph: Self-RAG and CRAG',\n",
       " 'description': 'Unknown',\n",
       " 'view_count': 18992,\n",
       " 'thumbnail_url': 'https://i.ytimg.com/vi/pbAd8O1Lvm4/hq720.jpg',\n",
       " 'publish_date': '2024-02-07 00:00:00',\n",
       " 'length': 1058,\n",
       " 'author': 'LangChain'}"
      ]
     },
     "execution_count": 35,
     "metadata": {},
     "output_type": "execute_result"
    }
   ],
   "source": [
    "################################################\n",
    "#    Query structuring for metadata filters    #  https://python.langchain.com/v0.1/docs/modules/data_connection/retrievers/self_query/\n",
    "################################################\n",
    "\n",
    "from langchain_community.document_loaders import YoutubeLoader\n",
    "\n",
    "docs = YoutubeLoader.from_youtube_url(\n",
    "    \"https://www.youtube.com/watch?v=pbAd8O1Lvm4\", add_video_info=True\n",
    ").load()\n",
    "\n",
    "docs[0].metadata"
   ]
  },
  {
   "cell_type": "code",
   "execution_count": 34,
   "metadata": {},
   "outputs": [],
   "source": [
    "import datetime\n",
    "from typing import Literal, Optional, Tuple\n",
    "from langchain_core.pydantic_v1 import BaseModel, Field\n",
    "\n",
    "class TutorialSearch(BaseModel):\n",
    "    \"\"\"Search over a DB of tutorial videos about software library.\"\"\"\n",
    "\n",
    "    content_search: str = Field(\n",
    "        ...,\n",
    "        description=\"Similarity search query applied to video transcripts.\"\n",
    "    )\n",
    "    title_search: str = Field(\n",
    "        ...,\n",
    "        description=(\n",
    "            \"Alternative version of the content search query to apply to video titles. \"\n",
    "            \"Should be succinct and only include key words that could be in a video title.\"\n",
    "        )\n",
    "    )\n",
    "    min_view_count: Optional[int] = Field(\n",
    "        None,\n",
    "        description=\"Minimum view count filter, inclusive. Only use if explicitly specified.\"\n",
    "    )\n",
    "    max_view_count: Optional[int] = Field(\n",
    "        None,\n",
    "        description=\"Maximum view count filter, exclusive. Only use if explicitly specified.\"\n",
    "    )\n",
    "    earliest_publish_date: Optional[datetime.date] = Field(\n",
    "        None,\n",
    "        description=\"Earliest publish date filter, inclusive. Only use if explicitly specified.\"\n",
    "    )\n",
    "    latest_publish_date: Optional[datetime.date] = Field(\n",
    "        None,\n",
    "        description=\"Latest publish date filter, exclusive. Only use if explicitly specified.\"\n",
    "    )\n",
    "    min_length_sec: Optional[int] = Field(\n",
    "        None,\n",
    "        description=\"Minimum video length in seconds, inclusive. Only use if explicity specified.\"\n",
    "    )\n",
    "    max_length_sec: Optional[int] = Field(\n",
    "        None,\n",
    "        description=\"Maximum video length in seconds, exclusive. Only use if explicity specified.\"\n",
    "    )\n",
    "\n",
    "    def pretty_print(self) -> None:\n",
    "        for field in self.__fields__:\n",
    "            if getattr(self, field) is not None and (\n",
    "                getattr(self, field) != getattr(self.__fields__[field], \"default\", None)\n",
    "            ):\n",
    "                print(f\"{field}: {getattr(self, field)}\")"
   ]
  },
  {
   "cell_type": "code",
   "execution_count": 37,
   "metadata": {},
   "outputs": [],
   "source": [
    "system = \"\"\"You are an expert at converting user questions into database queries. \\\n",
    "You have access to a database of tutorial videos about a software library for building LLM-powered applications. \\\n",
    "Given a question, return a database query optimized to retrieve the most relevant results.\n",
    "\n",
    "If there are acronyms or words you are not familiar with, do not try to rephrase them.\"\"\"\n",
    "\n",
    "prompt = ChatPromptTemplate.from_messages(\n",
    "    [\n",
    "        (\"system\", system),\n",
    "        (\"human\", \"{question}\")\n",
    "    ]\n",
    ")\n",
    "\n",
    "structured_llm = llm.with_structured_output(TutorialSearch)\n",
    "query_analyzer = prompt | structured_llm"
   ]
  },
  {
   "cell_type": "code",
   "execution_count": 38,
   "metadata": {},
   "outputs": [
    {
     "name": "stdout",
     "output_type": "stream",
     "text": [
      "content_search: Rag from scratch\n",
      "title_search: Rag from scratch\n"
     ]
    }
   ],
   "source": [
    "query_analyzer.invoke({\"question\": \"Rag from scratch\"}).pretty_print()"
   ]
  },
  {
   "cell_type": "code",
   "execution_count": 39,
   "metadata": {},
   "outputs": [
    {
     "name": "stdout",
     "output_type": "stream",
     "text": [
      "content_search: chat langchain\n",
      "title_search: chat langchain\n",
      "earliest_publish_date: 2023-01-01\n",
      "latest_publish_date: 2024-01-01\n"
     ]
    }
   ],
   "source": [
    "query_analyzer.invoke({\"question\": \"videos on chat langchain published in 2023\"}).pretty_print()"
   ]
  },
  {
   "cell_type": "code",
   "execution_count": 40,
   "metadata": {},
   "outputs": [
    {
     "name": "stdout",
     "output_type": "stream",
     "text": [
      "content_search: chat langchain\n",
      "title_search: chat langchain\n",
      "earliest_publish_date: 2024-01-01\n"
     ]
    }
   ],
   "source": [
    "query_analyzer.invoke({\"question\": \"videos that are focused on the topic of chat langchain that are published before 2024\"}).pretty_print()"
   ]
  },
  {
   "cell_type": "code",
   "execution_count": 41,
   "metadata": {},
   "outputs": [
    {
     "name": "stdout",
     "output_type": "stream",
     "text": [
      "content_search: multi-modal models in an agent\n",
      "title_search: multi-modal models agent\n",
      "max_length_sec: 300\n"
     ]
    }
   ],
   "source": [
    "query_analyzer.invoke(\n",
    "    {\n",
    "        \"question\": \"how to use multi-modal models in an agent, only videos under 5 minutes\"\n",
    "    }\n",
    ").pretty_print()"
   ]
  },
  {
   "cell_type": "code",
   "execution_count": 42,
   "metadata": {},
   "outputs": [
    {
     "name": "stderr",
     "output_type": "stream",
     "text": [
      "WARNING:root:USER_AGENT environment variable not set, consider setting it to identify your requests.\n"
     ]
    }
   ],
   "source": [
    "#######################################\n",
    "#   Multi-Representation (INDEXING)   #\n",
    "#######################################\n",
    "\n",
    "from langchain_community.document_loaders import WebBaseLoader\n",
    "from langchain_text_splitters import RecursiveCharacterTextSplitter\n",
    "\n",
    "loader = WebBaseLoader(\"https://lilianweng.github.io/posts/2023-06-23-agent/\")\n",
    "docs = loader.load()\n",
    "\n",
    "loader = WebBaseLoader(\"https://lilianweng.github.io/posts/2024-02-05-human-data-quality/\")\n",
    "docs.extend(loader.load())"
   ]
  },
  {
   "cell_type": "code",
   "execution_count": 44,
   "metadata": {},
   "outputs": [],
   "source": [
    "import uuid\n",
    "\n",
    "from langchain_core.documents import Document\n",
    "\n",
    "chain = (\n",
    "    {\"doc\": lambda x: x.page_content}\n",
    "    | ChatPromptTemplate.from_template(\"Summerize the following document:\\n\\n{doc}\")\n",
    "    | ChatOpenAI(model_name=\"gpt-3.5-turbo\", max_retries=0)\n",
    "    | StrOutputParser()\n",
    ")\n",
    "\n",
    "summaries = chain.batch(docs, {\"max_concurrency\": 5})"
   ]
  },
  {
   "cell_type": "code",
   "execution_count": 45,
   "metadata": {},
   "outputs": [
    {
     "data": {
      "text/plain": [
       "['The document discusses LLM-powered autonomous agents, where large language models serve as the core controller. It covers components such as planning, memory, and tool use, along with case studies and proof-of-concept examples. Challenges include the finite context length, reliability of the natural language interface, and difficulties in long-term planning and task decomposition. Various research papers and projects in this field are referenced for further reading.',\n",
       " 'The document discusses the importance of high-quality human data in training deep learning models. It covers topics such as the wisdom of the crowd, rater agreement, rater disagreement, two paradigms for data annotation, and methods to identify and exclude data points with potentially incorrect labels during model training. The document also explores techniques like influence functions, tracking prediction changes during training, and noisy cross-validation to improve data quality. It provides examples of studies and experiments in the field of human data quality and model training.']"
      ]
     },
     "execution_count": 45,
     "metadata": {},
     "output_type": "execute_result"
    }
   ],
   "source": [
    "summaries"
   ]
  },
  {
   "cell_type": "code",
   "execution_count": 50,
   "metadata": {},
   "outputs": [],
   "source": [
    "from langchain.storage import InMemoryByteStore\n",
    "from langchain_openai import OpenAIEmbeddings\n",
    "from langchain_community.vectorstores import Chroma\n",
    "from langchain.retrievers.multi_vector import MultiVectorRetriever\n",
    "\n",
    "vectorstore_m = Chroma(\n",
    "    collection_name=\"summeries\",\n",
    "    embedding_function=OpenAIEmbeddings(model=\"text-embedding-3-small\")\n",
    ")\n",
    "\n",
    "store = InMemoryByteStore()  # the storage for the parent docs\n",
    "id_key = \"doc_id\"\n",
    "\n",
    "retriever_m = MultiVectorRetriever(\n",
    "    vectorstore=vectorstore_m,\n",
    "    byte_store=store,\n",
    "    id_key=id_key  # this id_key will be used when we call 'get_relevant_documents(query)'\n",
    ")\n",
    "doc_ids = [str(uuid.uuid4()) for _ in docs]\n",
    "\n",
    "summary_docs = [Document(page_content=s, metadata={id_key: doc_ids[i]}) for i, s in enumerate(summaries)]  # docs linked to summaries\n",
    "\n",
    "retriever_m.vectorstore.add_documents(summary_docs)\n",
    "retriever_m.docstore.mset(list(zip(doc_ids, docs)))"
   ]
  },
  {
   "cell_type": "code",
   "execution_count": 52,
   "metadata": {},
   "outputs": [
    {
     "data": {
      "text/plain": [
       "Document(page_content='The document discusses LLM-powered autonomous agents, where large language models serve as the core controller. It covers components such as planning, memory, and tool use, along with case studies and proof-of-concept examples. Challenges include the finite context length, reliability of the natural language interface, and difficulties in long-term planning and task decomposition. Various research papers and projects in this field are referenced for further reading.', metadata={'doc_id': 'e8adbcd0-1263-415e-86ac-9e516e9fe27b'})"
      ]
     },
     "execution_count": 52,
     "metadata": {},
     "output_type": "execute_result"
    }
   ],
   "source": [
    "query = \"Memory in agents\"\n",
    "\n",
    "sub_docs = vectorstore_m.similarity_search(query=query, k=1)\n",
    "sub_docs[0]"
   ]
  },
  {
   "cell_type": "code",
   "execution_count": 54,
   "metadata": {},
   "outputs": [
    {
     "data": {
      "text/plain": [
       "[Document(page_content='The document discusses LLM-powered autonomous agents, where large language models serve as the core controller. It covers components such as planning, memory, and tool use, along with case studies and proof-of-concept examples. Challenges include the finite context length, reliability of the natural language interface, and difficulties in long-term planning and task decomposition. Various research papers and projects in this field are referenced for further reading.', metadata={'doc_id': 'e8adbcd0-1263-415e-86ac-9e516e9fe27b'})]"
      ]
     },
     "execution_count": 54,
     "metadata": {},
     "output_type": "execute_result"
    }
   ],
   "source": [
    "sub_docs  # a list"
   ]
  },
  {
   "cell_type": "code",
   "execution_count": 56,
   "metadata": {},
   "outputs": [
    {
     "name": "stderr",
     "output_type": "stream",
     "text": [
      "/home/dk/PycharmProjects/llm_service/venv/lib/python3.11/site-packages/langchain_core/_api/deprecation.py:119: LangChainDeprecationWarning: The method `BaseRetriever.get_relevant_documents` was deprecated in langchain-core 0.1.46 and will be removed in 0.3.0. Use invoke instead.\n",
      "  warn_deprecated(\n"
     ]
    },
    {
     "data": {
      "text/plain": [
       "\"\\n\\n\\n\\n\\n\\nLLM Powered Autonomous Agents | Lil'Log\\n\\n\\n\\n\\n\\n\\n\\n\\n\\n\\n\\n\\n\\n\\n\\n\\n\\n\\n\\n\\n\\n\\n\\n\\n\\n\\n\\n\\n\\n\\n\\n\\n\\n\\n\\n\\n\\n\\n\\nLil'Log\\n\\n\\n\\n\\n\\n\\n\\n\\n\\n\\n\\n\\n\\n\\n\\n\\n\\n\\n\\n\\n\\n\\nPosts\\n\\n\\n\\n\\nArchive\\n\\n\\n\\n\\nSearch\\n\\n\\n\\n\\nTags\\n\\n\\n\\n\\nFAQ\\n\\n\\n\\n\\nemojisearch.app\\n\\n\\n\\n\\n\\n\\n\\n\\n\\n      LLM Powered Autonomous Agents\\n    \\nDate: June 23, 2023  |  Estimated Reading Time: 31 min  |  Author: Lilian Weng\\n\\n\\n \\n\\n\\nTable of Contents\\n\\n\\n\\nAgent System Overview\\n\\nComponent One: Planning\\n\\nTask Decomposition\\n\\nSelf-Reflection\\n\\n\\nComponent Two: Memory\\n\\nTypes of Memory\\n\\nMaximum Inner Product Search (MIPS)\\n\\n\""
      ]
     },
     "execution_count": 56,
     "metadata": {},
     "output_type": "execute_result"
    }
   ],
   "source": [
    "retrieved_docs = retriever_m.get_relevant_documents(query, n_results=1)\n",
    "retrieved_docs[0].page_content[0: 500]"
   ]
  },
  {
   "cell_type": "code",
   "execution_count": 57,
   "metadata": {},
   "outputs": [
    {
     "data": {
      "text/plain": [
       "'\\n\\n\\n\\n\\n\\nLLM Powered Autonomous Agents | Lil\\'Log\\n\\n\\n\\n\\n\\n\\n\\n\\n\\n\\n\\n\\n\\n\\n\\n\\n\\n\\n\\n\\n\\n\\n\\n\\n\\n\\n\\n\\n\\n\\n\\n\\n\\n\\n\\n\\n\\n\\n\\nLil\\'Log\\n\\n\\n\\n\\n\\n\\n\\n\\n\\n\\n\\n\\n\\n\\n\\n\\n\\n\\n\\n\\n\\n\\nPosts\\n\\n\\n\\n\\nArchive\\n\\n\\n\\n\\nSearch\\n\\n\\n\\n\\nTags\\n\\n\\n\\n\\nFAQ\\n\\n\\n\\n\\nemojisearch.app\\n\\n\\n\\n\\n\\n\\n\\n\\n\\n      LLM Powered Autonomous Agents\\n    \\nDate: June 23, 2023  |  Estimated Reading Time: 31 min  |  Author: Lilian Weng\\n\\n\\n \\n\\n\\nTable of Contents\\n\\n\\n\\nAgent System Overview\\n\\nComponent One: Planning\\n\\nTask Decomposition\\n\\nSelf-Reflection\\n\\n\\nComponent Two: Memory\\n\\nTypes of Memory\\n\\nMaximum Inner Product Search (MIPS)\\n\\n\\nComponent Three: Tool Use\\n\\nCase Studies\\n\\nScientific Discovery Agent\\n\\nGenerative Agents Simulation\\n\\nProof-of-Concept Examples\\n\\n\\nChallenges\\n\\nCitation\\n\\nReferences\\n\\n\\n\\n\\n\\nBuilding agents with LLM (large language model) as its core controller is a cool concept. Several proof-of-concepts demos, such as AutoGPT, GPT-Engineer and BabyAGI, serve as inspiring examples. The potentiality of LLM extends beyond generating well-written copies, stories, essays and programs; it can be framed as a powerful general problem solver.\\nAgent System Overview#\\nIn a LLM-powered autonomous agent system, LLM functions as the agent’s brain, complemented by several key components:\\n\\nPlanning\\n\\nSubgoal and decomposition: The agent breaks down large tasks into smaller, manageable subgoals, enabling efficient handling of complex tasks.\\nReflection and refinement: The agent can do self-criticism and self-reflection over past actions, learn from mistakes and refine them for future steps, thereby improving the quality of final results.\\n\\n\\nMemory\\n\\nShort-term memory: I would consider all the in-context learning (See Prompt Engineering) as utilizing short-term memory of the model to learn.\\nLong-term memory: This provides the agent with the capability to retain and recall (infinite) information over extended periods, often by leveraging an external vector store and fast retrieval.\\n\\n\\nTool use\\n\\nThe agent learns to call external APIs for extra information that is missing from the model weights (often hard to change after pre-training), including current information, code execution capability, access to proprietary information sources and more.\\n\\n\\n\\n\\nFig. 1. Overview of a LLM-powered autonomous agent system.\\nComponent One: Planning#\\nA complicated task usually involves many steps. An agent needs to know what they are and plan ahead.\\nTask Decomposition#\\nChain of thought (CoT; Wei et al. 2022) has become a standard prompting technique for enhancing model performance on complex tasks. The model is instructed to “think step by step” to utilize more test-time computation to decompose hard tasks into smaller and simpler steps. CoT transforms big tasks into multiple manageable tasks and shed lights into an interpretation of the model’s thinking process.\\nTree of Thoughts (Yao et al. 2023) extends CoT by exploring multiple reasoning possibilities at each step. It first decomposes the problem into multiple thought steps and generates multiple thoughts per step, creating a tree structure. The search process can be BFS (breadth-first search) or DFS (depth-first search) with each state evaluated by a classifier (via a prompt) or majority vote.\\nTask decomposition can be done (1) by LLM with simple prompting like \"Steps for XYZ.\\\\n1.\", \"What are the subgoals for achieving XYZ?\", (2) by using task-specific instructions; e.g. \"Write a story outline.\" for writing a novel, or (3) with human inputs.\\nAnother quite distinct approach, LLM+P (Liu et al. 2023), involves relying on an external classical planner to do long-horizon planning. This approach utilizes the Planning Domain Definition Language (PDDL) as an intermediate interface to describe the planning problem. In this process, LLM (1) translates the problem into “Problem PDDL”, then (2) requests a classical planner to generate a PDDL plan based on an existing “Domain PDDL”, and finally (3) translates the PDDL plan back into natural language. Essentially, the planning step is outsourced to an external tool, assuming the availability of domain-specific PDDL and a suitable planner which is common in certain robotic setups but not in many other domains.\\nSelf-Reflection#\\nSelf-reflection is a vital aspect that allows autonomous agents to improve iteratively by refining past action decisions and correcting previous mistakes. It plays a crucial role in real-world tasks where trial and error are inevitable.\\nReAct (Yao et al. 2023) integrates reasoning and acting within LLM by extending the action space to be a combination of task-specific discrete actions and the language space. The former enables LLM to interact with the environment (e.g. use Wikipedia search API), while the latter prompting LLM to generate reasoning traces in natural language.\\nThe ReAct prompt template incorporates explicit steps for LLM to think, roughly formatted as:\\nThought: ...\\nAction: ...\\nObservation: ...\\n... (Repeated many times)\\n\\nFig. 2.  Examples of reasoning trajectories for knowledge-intensive tasks (e.g. HotpotQA, FEVER) and decision-making tasks (e.g. AlfWorld Env, WebShop). (Image source: Yao et al. 2023).\\nIn both experiments on knowledge-intensive tasks and decision-making tasks, ReAct works better than the Act-only baseline where Thought: … step is removed.\\nReflexion (Shinn & Labash 2023) is a framework to equips agents with dynamic memory and self-reflection capabilities to improve reasoning skills. Reflexion has a standard RL setup, in which the reward model provides a simple binary reward and the action space follows the setup in ReAct where the task-specific action space is augmented with language to enable complex reasoning steps. After each action $a_t$, the agent computes a heuristic $h_t$ and optionally may decide to reset the environment to start a new trial depending on the self-reflection results.\\n\\nFig. 3. Illustration of the Reflexion framework. (Image source: Shinn & Labash, 2023)\\nThe heuristic function determines when the trajectory is inefficient or contains hallucination and should be stopped. Inefficient planning refers to trajectories that take too long without success. Hallucination is defined as encountering a sequence of consecutive identical actions that lead to the same observation in the environment.\\nSelf-reflection is created by showing two-shot examples to LLM and each example is a pair of (failed trajectory, ideal reflection for guiding future changes in the plan). Then reflections are added into the agent’s working memory, up to three, to be used as context for querying LLM.\\n\\nFig. 4. Experiments on AlfWorld Env and HotpotQA. Hallucination is a more common failure than inefficient planning in AlfWorld. (Image source: Shinn & Labash, 2023)\\nChain of Hindsight (CoH; Liu et al. 2023) encourages the model to improve on its own outputs by explicitly presenting it with a sequence of past outputs, each annotated with feedback. Human feedback data is a collection of $D_h = \\\\{(x, y_i , r_i , z_i)\\\\}_{i=1}^n$, where $x$ is the prompt, each $y_i$ is a model completion, $r_i$ is the human rating of $y_i$, and $z_i$ is the corresponding human-provided hindsight feedback. Assume the feedback tuples are ranked by reward, $r_n \\\\geq r_{n-1} \\\\geq \\\\dots \\\\geq r_1$ The process is supervised fine-tuning where the data is a sequence in the form of $\\\\tau_h = (x, z_i, y_i, z_j, y_j, \\\\dots, z_n, y_n)$, where $\\\\leq i \\\\leq j \\\\leq n$. The model is finetuned to only predict $y_n$ where conditioned on the sequence prefix, such that the model can self-reflect to produce better output based on the feedback sequence. The model can optionally receive multiple rounds of instructions with human annotators at test time.\\nTo avoid overfitting, CoH adds a regularization term to maximize the log-likelihood of the pre-training dataset. To avoid shortcutting and copying (because there are many common words in feedback sequences), they randomly mask 0% - 5% of past tokens during training.\\nThe training dataset in their experiments is a combination of WebGPT comparisons, summarization from human feedback and human preference dataset.\\n\\nFig. 5. After fine-tuning with CoH, the model can follow instructions to produce outputs with incremental improvement in a sequence. (Image source: Liu et al. 2023)\\nThe idea of CoH is to present a history of sequentially improved outputs  in context and train the model to take on the trend to produce better outputs. Algorithm Distillation (AD; Laskin et al. 2023) applies the same idea to cross-episode trajectories in reinforcement learning tasks, where an algorithm is encapsulated in a long history-conditioned policy. Considering that an agent interacts with the environment many times and in each episode the agent gets a little better, AD concatenates this learning history and feeds that into the model. Hence we should expect the next predicted action to lead to better performance than previous trials. The goal is to learn the process of RL instead of training a task-specific policy itself.\\n\\nFig. 6. Illustration of how Algorithm Distillation (AD) works. (Image source: Laskin et al. 2023).\\nThe paper hypothesizes that any algorithm that generates a set of learning histories can be distilled into a neural network by performing behavioral cloning over actions. The history data is generated by a set of source policies, each trained for a specific task. At the training stage, during each RL run, a random task is sampled and a subsequence of multi-episode history is used for training, such that the learned policy is task-agnostic.\\nIn reality, the model has limited context window length, so episodes should be short enough to construct multi-episode history. Multi-episodic contexts of 2-4 episodes are necessary to learn a near-optimal in-context RL algorithm. The emergence of in-context RL requires long enough context.\\nIn comparison with three baselines, including ED (expert distillation, behavior cloning with expert trajectories instead of learning history), source policy (used for generating trajectories for distillation by UCB), RL^2 (Duan et al. 2017; used as upper bound since it needs online RL), AD demonstrates in-context RL with performance getting close to RL^2 despite only using offline RL and learns much faster than other baselines. When conditioned on partial training history of the source policy, AD also improves much faster than ED baseline.\\n\\nFig. 7. Comparison of AD, ED, source policy and RL^2 on environments that require memory and exploration. Only binary reward is assigned. The source policies are trained with A3C for \"dark\" environments and DQN for watermaze.(Image source: Laskin et al. 2023)\\nComponent Two: Memory#\\n(Big thank you to ChatGPT for helping me draft this section. I’ve learned a lot about the human brain and data structure for fast MIPS in my conversations with ChatGPT.)\\nTypes of Memory#\\nMemory can be defined as the processes used to acquire, store, retain, and later retrieve information. There are several types of memory in human brains.\\n\\n\\nSensory Memory: This is the earliest stage of memory, providing the ability to retain impressions of sensory information (visual, auditory, etc) after the original stimuli have ended. Sensory memory typically only lasts for up to a few seconds. Subcategories include iconic memory (visual), echoic memory (auditory), and haptic memory (touch).\\n\\n\\nShort-Term Memory (STM) or Working Memory: It stores information that we are currently aware of and needed to carry out complex cognitive tasks such as learning and reasoning. Short-term memory is believed to have the capacity of about 7 items (Miller 1956) and lasts for 20-30 seconds.\\n\\n\\nLong-Term Memory (LTM): Long-term memory can store information for a remarkably long time, ranging from a few days to decades, with an essentially unlimited storage capacity. There are two subtypes of LTM:\\n\\nExplicit / declarative memory: This is memory of facts and events, and refers to those memories that can be consciously recalled, including episodic memory (events and experiences) and semantic memory (facts and concepts).\\nImplicit / procedural memory: This type of memory is unconscious and involves skills and routines that are performed automatically, like riding a bike or typing on a keyboard.\\n\\n\\n\\n\\nFig. 8. Categorization of human memory.\\nWe can roughly consider the following mappings:\\n\\nSensory memory as learning embedding representations for raw inputs, including text, image or other modalities;\\nShort-term memory as in-context learning. It is short and finite, as it is restricted by the finite context window length of Transformer.\\nLong-term memory as the external vector store that the agent can attend to at query time, accessible via fast retrieval.\\n\\nMaximum Inner Product Search (MIPS)#\\nThe external memory can alleviate the restriction of finite attention span.  A standard practice is to save the embedding representation of information into a vector store database that can support fast maximum inner-product search (MIPS). To optimize the retrieval speed, the common choice is the approximate nearest neighbors (ANN)\\u200b algorithm to return approximately top k nearest neighbors to trade off a little accuracy lost for a huge speedup.\\nA couple common choices of ANN algorithms for fast MIPS:\\n\\nLSH (Locality-Sensitive Hashing): It introduces a hashing function such that similar input items are mapped to the same buckets with high probability, where the number of buckets is much smaller than the number of inputs.\\nANNOY (Approximate Nearest Neighbors Oh Yeah): The core data structure are random projection trees, a set of binary trees where each non-leaf node represents a hyperplane splitting the input space into half and each leaf stores one data point. Trees are built independently and at random, so to some extent, it mimics a hashing function. ANNOY search happens in all the trees to iteratively search through the half that is closest to the query and then aggregates the results. The idea is quite related to KD tree but a lot more scalable.\\nHNSW (Hierarchical Navigable Small World): It is inspired by the idea of small world networks where most nodes can be reached by any other nodes within a small number of steps; e.g. “six degrees of separation” feature of social networks. HNSW builds hierarchical layers of these small-world graphs, where the bottom layers contain the actual data points. The layers in the middle create shortcuts to speed up search. When performing a search, HNSW starts from a random node in the top layer and navigates towards the target. When it can’t get any closer, it moves down to the next layer, until it reaches the bottom layer. Each move in the upper layers can potentially cover a large distance in the data space, and each move in the lower layers refines the search quality.\\nFAISS (Facebook AI Similarity Search): It operates on the assumption that in high dimensional space, distances between nodes follow a Gaussian distribution and thus there should exist clustering of data points. FAISS applies vector quantization by partitioning the vector space into clusters and then refining the quantization within clusters. Search first looks for cluster candidates with coarse quantization and then further looks into each cluster with finer quantization.\\nScaNN (Scalable Nearest Neighbors): The main innovation in ScaNN is anisotropic vector quantization. It quantizes a data point $x_i$ to $\\\\tilde{x}_i$ such that the inner product $\\\\langle q, x_i \\\\rangle$ is as similar to the original distance of $\\\\angle q, \\\\tilde{x}_i$ as possible, instead of picking the closet quantization centroid points.\\n\\n\\nFig. 9. Comparison of MIPS algorithms, measured in recall@10. (Image source: Google Blog, 2020)\\nCheck more MIPS algorithms and performance comparison in ann-benchmarks.com.\\nComponent Three: Tool Use#\\nTool use is a remarkable and distinguishing characteristic of human beings. We create, modify and utilize external objects to do things that go beyond our physical and cognitive limits. Equipping LLMs with external tools can significantly extend the model capabilities.\\n\\nFig. 10. A picture of a sea otter using rock to crack open a seashell, while floating in the water. While some other animals can use tools, the complexity is not comparable with humans. (Image source: Animals using tools)\\nMRKL (Karpas et al. 2022), short for “Modular Reasoning, Knowledge and Language”, is a neuro-symbolic architecture for autonomous agents. A MRKL system is proposed to contain a collection of “expert” modules and the general-purpose LLM works as a router to route inquiries to the best suitable expert module. These modules can be neural (e.g. deep learning models) or symbolic (e.g. math calculator, currency converter, weather API).\\nThey did an experiment on fine-tuning LLM to call a calculator, using arithmetic as a test case. Their experiments showed that it was harder to solve verbal math problems than explicitly stated math problems because LLMs (7B Jurassic1-large model) failed to extract the right arguments for the basic arithmetic reliably. The results highlight when the external symbolic tools can work reliably, knowing when to and how to use the tools are crucial, determined by the LLM capability.\\nBoth TALM (Tool Augmented Language Models; Parisi et al. 2022) and Toolformer (Schick et al. 2023) fine-tune a LM to learn to use external tool APIs. The dataset is expanded based on whether a newly added API call annotation can improve the quality of model outputs. See more details in the “External APIs” section of Prompt Engineering.\\nChatGPT Plugins and OpenAI API  function calling are good examples of LLMs augmented with tool use capability working in practice. The collection of tool APIs can be provided by other developers (as in Plugins) or self-defined (as in function calls).\\nHuggingGPT (Shen et al. 2023) is a framework to use ChatGPT as the task planner to select models available in HuggingFace platform according to the model descriptions and summarize the response based on the execution results.\\n\\nFig. 11. Illustration of how HuggingGPT works. (Image source: Shen et al. 2023)\\nThe system comprises of 4 stages:\\n(1) Task planning: LLM works as the brain and parses the user requests into multiple tasks. There are four attributes associated with each task: task type, ID, dependencies, and arguments. They use few-shot examples to guide LLM to do task parsing and planning.\\nInstruction:\\n\\nThe AI assistant can parse user input to several tasks: [{\"task\": task, \"id\", task_id, \"dep\": dependency_task_ids, \"args\": {\"text\": text, \"image\": URL, \"audio\": URL, \"video\": URL}}]. The \"dep\" field denotes the id of the previous task which generates a new resource that the current task relies on. A special tag \"-task_id\" refers to the generated text image, audio and video in the dependency task with id as task_id. The task MUST be selected from the following options: {{ Available Task List }}. There is a logical relationship between tasks, please note their order. If the user input can\\'t be parsed, you need to reply empty JSON. Here are several cases for your reference: {{ Demonstrations }}. The chat history is recorded as {{ Chat History }}. From this chat history, you can find the path of the user-mentioned resources for your task planning.\\n\\n(2) Model selection: LLM distributes the tasks to expert models, where the request is framed as a multiple-choice question. LLM is presented with a list of models to choose from. Due to the limited context length, task type based filtration is needed.\\nInstruction:\\n\\nGiven the user request and the call command, the AI assistant helps the user to select a suitable model from a list of models to process the user request. The AI assistant merely outputs the model id of the most appropriate model. The output must be in a strict JSON format: \"id\": \"id\", \"reason\": \"your detail reason for the choice\". We have a list of models for you to choose from {{ Candidate Models }}. Please select one model from the list.\\n\\n(3) Task execution: Expert models execute on the specific tasks and log results.\\nInstruction:\\n\\nWith the input and the inference results, the AI assistant needs to describe the process and results. The previous stages can be formed as - User Input: {{ User Input }}, Task Planning: {{ Tasks }}, Model Selection: {{ Model Assignment }}, Task Execution: {{ Predictions }}. You must first answer the user\\'s request in a straightforward manner. Then describe the task process and show your analysis and model inference results to the user in the first person. If inference results contain a file path, must tell the user the complete file path.\\n\\n(4) Response generation: LLM receives the execution results and provides summarized results to users.\\nTo put HuggingGPT into real world usage, a couple challenges need to solve: (1) Efficiency improvement is needed as both LLM inference rounds and interactions with other models slow down the process; (2) It relies on a long context window to communicate over complicated task content; (3) Stability improvement of LLM outputs and external model services.\\nAPI-Bank (Li et al. 2023) is a benchmark for evaluating the performance of tool-augmented LLMs. It contains 53 commonly used API tools, a complete tool-augmented LLM workflow, and 264 annotated dialogues that involve 568 API calls. The selection of APIs is quite diverse, including search engines, calculator, calendar queries, smart home control, schedule management, health data management, account authentication workflow and more. Because there are a large number of APIs, LLM first has access to API search engine to find the right API to call and then uses the corresponding documentation to make a call.\\n\\nFig. 12. Pseudo code of how LLM makes an API call in API-Bank. (Image source: Li et al. 2023)\\nIn the API-Bank workflow, LLMs need to make a couple of decisions and at each step we can evaluate how accurate that decision is. Decisions include:\\n\\nWhether an API call is needed.\\nIdentify the right API to call: if not good enough, LLMs need to iteratively modify the API inputs (e.g. deciding search keywords for Search Engine API).\\nResponse based on the API results: the model can choose to refine and call again if results are not satisfied.\\n\\nThis benchmark evaluates the agent’s tool use capabilities at three levels:\\n\\nLevel-1 evaluates the ability to call the API. Given an API’s description, the model needs to determine whether to call a given API, call it correctly, and respond properly to API returns.\\nLevel-2 examines the ability to retrieve the API. The model needs to search for possible APIs that may solve the user’s requirement and learn how to use them by reading documentation.\\nLevel-3 assesses the ability to plan API beyond retrieve and call. Given unclear user requests (e.g. schedule group meetings, book flight/hotel/restaurant for a trip), the model may have to conduct multiple API calls to solve it.\\n\\nCase Studies#\\nScientific Discovery Agent#\\nChemCrow (Bran et al. 2023) is a domain-specific example in which LLM is augmented with 13 expert-designed tools to accomplish tasks across organic synthesis, drug discovery, and materials design. The workflow, implemented in LangChain, reflects what was previously described in the ReAct and MRKLs and combines CoT reasoning with tools relevant to the tasks:\\n\\nThe LLM is provided with a list of tool names, descriptions of their utility, and details about the expected input/output.\\nIt is then instructed to answer a user-given prompt using the tools provided when necessary. The instruction suggests the model to follow the ReAct format - Thought, Action, Action Input, Observation.\\n\\nOne interesting observation is that while the LLM-based evaluation concluded that GPT-4 and ChemCrow perform nearly equivalently, human evaluations with experts oriented towards the completion and chemical correctness of the solutions showed that ChemCrow outperforms GPT-4 by a large margin. This indicates a potential problem with using LLM to evaluate its own performance on domains that requires deep expertise. The lack of expertise may cause LLMs not knowing its flaws and thus cannot well judge the correctness of task results.\\nBoiko et al. (2023) also looked into LLM-empowered agents for scientific discovery, to handle autonomous design, planning, and performance of complex scientific experiments. This agent can use tools to browse the Internet, read documentation, execute code, call robotics experimentation APIs and leverage other LLMs.\\nFor example, when requested to \"develop a novel anticancer drug\", the model came up with the following reasoning steps:\\n\\ninquired about current trends in anticancer drug discovery;\\nselected a target;\\nrequested a scaffold targeting these compounds;\\nOnce the compound was identified, the model attempted its synthesis.\\n\\nThey also discussed the risks, especially with illicit drugs and bioweapons. They developed a test set containing a list of known chemical weapon agents and asked the agent to synthesize them. 4 out of 11 requests (36%) were accepted to obtain a synthesis solution and the agent attempted to consult documentation to execute the procedure. 7 out of 11 were rejected and among these 7 rejected cases, 5 happened after a Web search while 2 were rejected based on prompt only.\\nGenerative Agents Simulation#\\nGenerative Agents (Park, et al. 2023) is super fun experiment where 25 virtual characters, each controlled by a LLM-powered agent, are living and interacting in a sandbox environment, inspired by The Sims. Generative agents create believable simulacra of human behavior for interactive applications.\\nThe design of generative agents combines LLM with memory, planning and reflection mechanisms to enable agents to behave conditioned on past experience, as well as to interact with other agents.\\n\\nMemory stream: is a long-term memory module (external database) that records a comprehensive list of agents’ experience in natural language.\\n\\nEach element is an observation, an event directly provided by the agent.\\n- Inter-agent communication can trigger new natural language statements.\\n\\n\\nRetrieval model: surfaces the context to inform the agent’s behavior, according to relevance, recency and importance.\\n\\nRecency: recent events have higher scores\\nImportance: distinguish mundane from core memories. Ask LM directly.\\nRelevance: based on how related it is to the current situation / query.\\n\\n\\nReflection mechanism: synthesizes memories into higher level inferences over time and guides the agent’s future behavior. They are higher-level summaries of past events (<- note that this is a bit different from self-reflection above)\\n\\nPrompt LM with 100 most recent observations and to generate 3 most salient high-level questions given a set of observations/statements. Then ask LM to answer those questions.\\n\\n\\nPlanning & Reacting: translate the reflections and the environment information into actions\\n\\nPlanning is essentially in order to optimize believability at the moment vs in time.\\nPrompt template: {Intro of an agent X}. Here is X\\'s plan today in broad strokes: 1)\\nRelationships between agents and observations of one agent by another are all taken into consideration for planning and reacting.\\nEnvironment information is present in a tree structure.\\n\\n\\n\\n\\nFig. 13. The generative agent architecture. (Image source: Park et al. 2023)\\nThis fun simulation results in emergent social behavior, such as information diffusion, relationship memory (e.g. two agents continuing the conversation topic) and coordination of social events (e.g. host a party and invite many others).\\nProof-of-Concept Examples#\\nAutoGPT has drawn a lot of attention into the possibility of setting up autonomous agents with LLM as the main controller. It has quite a lot of reliability issues given the natural language interface, but nevertheless a cool proof-of-concept demo. A lot of code in AutoGPT is about format parsing.\\nHere is the system message used by AutoGPT, where {{...}} are user inputs:\\nYou are {{ai-name}}, {{user-provided AI bot description}}.\\nYour decisions must always be made independently without seeking user assistance. Play to your strengths as an LLM and pursue simple strategies with no legal complications.\\n\\nGOALS:\\n\\n1. {{user-provided goal 1}}\\n2. {{user-provided goal 2}}\\n3. ...\\n4. ...\\n5. ...\\n\\nConstraints:\\n1. ~4000 word limit for short term memory. Your short term memory is short, so immediately save important information to files.\\n2. If you are unsure how you previously did something or want to recall past events, thinking about similar events will help you remember.\\n3. No user assistance\\n4. Exclusively use the commands listed in double quotes e.g. \"command name\"\\n5. Use subprocesses for commands that will not terminate within a few minutes\\n\\nCommands:\\n1. Google Search: \"google\", args: \"input\": \"<search>\"\\n2. Browse Website: \"browse_website\", args: \"url\": \"<url>\", \"question\": \"<what_you_want_to_find_on_website>\"\\n3. Start GPT Agent: \"start_agent\", args: \"name\": \"<name>\", \"task\": \"<short_task_desc>\", \"prompt\": \"<prompt>\"\\n4. Message GPT Agent: \"message_agent\", args: \"key\": \"<key>\", \"message\": \"<message>\"\\n5. List GPT Agents: \"list_agents\", args:\\n6. Delete GPT Agent: \"delete_agent\", args: \"key\": \"<key>\"\\n7. Clone Repository: \"clone_repository\", args: \"repository_url\": \"<url>\", \"clone_path\": \"<directory>\"\\n8. Write to file: \"write_to_file\", args: \"file\": \"<file>\", \"text\": \"<text>\"\\n9. Read file: \"read_file\", args: \"file\": \"<file>\"\\n10. Append to file: \"append_to_file\", args: \"file\": \"<file>\", \"text\": \"<text>\"\\n11. Delete file: \"delete_file\", args: \"file\": \"<file>\"\\n12. Search Files: \"search_files\", args: \"directory\": \"<directory>\"\\n13. Analyze Code: \"analyze_code\", args: \"code\": \"<full_code_string>\"\\n14. Get Improved Code: \"improve_code\", args: \"suggestions\": \"<list_of_suggestions>\", \"code\": \"<full_code_string>\"\\n15. Write Tests: \"write_tests\", args: \"code\": \"<full_code_string>\", \"focus\": \"<list_of_focus_areas>\"\\n16. Execute Python File: \"execute_python_file\", args: \"file\": \"<file>\"\\n17. Generate Image: \"generate_image\", args: \"prompt\": \"<prompt>\"\\n18. Send Tweet: \"send_tweet\", args: \"text\": \"<text>\"\\n19. Do Nothing: \"do_nothing\", args:\\n20. Task Complete (Shutdown): \"task_complete\", args: \"reason\": \"<reason>\"\\n\\nResources:\\n1. Internet access for searches and information gathering.\\n2. Long Term memory management.\\n3. GPT-3.5 powered Agents for delegation of simple tasks.\\n4. File output.\\n\\nPerformance Evaluation:\\n1. Continuously review and analyze your actions to ensure you are performing to the best of your abilities.\\n2. Constructively self-criticize your big-picture behavior constantly.\\n3. Reflect on past decisions and strategies to refine your approach.\\n4. Every command has a cost, so be smart and efficient. Aim to complete tasks in the least number of steps.\\n\\nYou should only respond in JSON format as described below\\nResponse Format:\\n{\\n    \"thoughts\": {\\n        \"text\": \"thought\",\\n        \"reasoning\": \"reasoning\",\\n        \"plan\": \"- short bulleted\\\\n- list that conveys\\\\n- long-term plan\",\\n        \"criticism\": \"constructive self-criticism\",\\n        \"speak\": \"thoughts summary to say to user\"\\n    },\\n    \"command\": {\\n        \"name\": \"command name\",\\n        \"args\": {\\n            \"arg name\": \"value\"\\n        }\\n    }\\n}\\nEnsure the response can be parsed by Python json.loads\\nGPT-Engineer is another project to create a whole repository of code given a task specified in natural language. The GPT-Engineer is instructed to think over a list of smaller components to build and ask for user input to clarify questions as needed.\\nHere are a sample conversation for task clarification sent to OpenAI ChatCompletion endpoint used by GPT-Engineer. The user inputs are wrapped in {{user input text}}.\\n[\\n  {\\n    \"role\": \"system\",\\n    \"content\": \"You will read instructions and not carry them out, only seek to clarify them.\\\\nSpecifically you will first summarise a list of super short bullets of areas that need clarification.\\\\nThen you will pick one clarifying question, and wait for an answer from the user.\\\\n\"\\n  },\\n  {\\n    \"role\": \"user\",\\n    \"content\": \"We are writing {{a Super Mario game in python. MVC components split in separate files. Keyboard control.}}\\\\n\"\\n  },\\n  {\\n    \"role\": \"assistant\",\\n    \"content\": \"Summary of areas that need clarification:\\\\n1. Specifics of the Super Mario game (e.g. level design, characters, gameplay mechanics)\\\\n2. Details about the MVC components (e.g. which components are in each file)\\\\n3. Keyboard control implementation (e.g. which keys to use, how to handle input)\\\\n\\\\nClarifying question:\\\\nCan you provide more details about the Super Mario game, such as level design, characters, and gameplay mechanics?\"\\n  },\\n  {\\n    \"role\": \"user\",\\n    \"content\": \"{{There are 10 levels in total. The main character is a plumber named Mario, who can walk and jump. It is a classical platform game just like Super Mario. The main character moves from left to right, trying to get to the destination, where there are many obstacles and attacks from enemies in the process.}}\\\\n\\\\nIs anything else unclear? If yes, only answer in the form:\\\\n{remaining unclear areas} remaining questions.\\\\n{Next question}\\\\nIf everything is sufficiently clear, only answer \\\\\"Nothing more to clarify.\\\\\".\"\\n  },\\n  {\\n    \"role\": \"assistant\",\\n    \"content\": \"Remaining unclear areas: 2 remaining questions.\\\\nCan you provide more information about how the MVC components are split into separate files?\"\\n  },\\n  {\\n    \"role\": \"user\",\\n    \"content\": \"{{Make your own assumptions and state them explicitly before starting}}\"\\n  }\\n]\\nThen after these clarification, the agent moved into the code writing mode with a different system message.\\nSystem message:\\n\\nYou will get instructions for code to write.\\nYou will write a very long answer. Make sure that every detail of the architecture is, in the end, implemented as code.\\nMake sure that every detail of the architecture is, in the end, implemented as code.\\nThink step by step and reason yourself to the right decisions to make sure we get it right.\\nYou will first lay out the names of the core classes, functions, methods that will be necessary, as well as a quick comment on their purpose.\\nThen you will output the content of each file including ALL code.\\nEach file must strictly follow a markdown code block format, where the following tokens must be replaced such that\\nFILENAME is the lowercase file name including the file extension,\\nLANG is the markup code block language for the code’s language, and CODE is the code:\\nFILENAME\\nCODE\\nYou will start with the “entrypoint” file, then go to the ones that are imported by that file, and so on.\\nPlease note that the code should be fully functional. No placeholders.\\nFollow a language and framework appropriate best practice file naming convention.\\nMake sure that files contain all imports, types etc. Make sure that code in different files are compatible with each other.\\nEnsure to implement all code, if you are unsure, write a plausible implementation.\\nInclude module dependency or package manager dependency definition file.\\nBefore you finish, double check that all parts of the architecture is present in the files.\\nUseful to know:\\nYou almost always put different classes in different files.\\nFor Python, you always create an appropriate requirements.txt file.\\nFor NodeJS, you always create an appropriate package.json file.\\nYou always add a comment briefly describing the purpose of the function definition.\\nYou try to add comments explaining very complex bits of logic.\\nYou always follow the best practices for the requested languages in terms of describing the code written as a defined\\npackage/project.\\nPython toolbelt preferences:\\n\\npytest\\ndataclasses\\n\\n\\nConversatin samples:\\n[\\n  {\\n    \"role\": \"system\",\\n    \"content\": \"You will get instructions for code to write.\\\\nYou will write a very long answer. Make sure that every detail of the architecture is, in the end, implemented as code.\\\\nMake sure that every detail of the architecture is, in the end, implemented as code.\\\\n\\\\nThink step by step and reason yourself to the right decisions to make sure we get it right.\\\\nYou will first lay out the names of the core classes, functions, methods that will be necessary, as well as a quick comment on their purpose.\\\\n\\\\nThen you will output the content of each file including ALL code.\\\\nEach file must strictly follow a markdown code block format, where the following tokens must be replaced such that\\\\nFILENAME is the lowercase file name including the file extension,\\\\nLANG is the markup code block language for the code\\'s language, and CODE is the code:\\\\n\\\\nFILENAME\\\\n```LANG\\\\nCODE\\\\n```\\\\n\\\\nYou will start with the \\\\\"entrypoint\\\\\" file, then go to the ones that are imported by that file, and so on.\\\\nPlease note that the code should be fully functional. No placeholders.\\\\n\\\\nFollow a language and framework appropriate best practice file naming convention.\\\\nMake sure that files contain all imports, types etc. Make sure that code in different files are compatible with each other.\\\\nEnsure to implement all code, if you are unsure, write a plausible implementation.\\\\nInclude module dependency or package manager dependency definition file.\\\\nBefore you finish, double check that all parts of the architecture is present in the files.\\\\n\\\\nUseful to know:\\\\nYou almost always put different classes in different files.\\\\nFor Python, you always create an appropriate requirements.txt file.\\\\nFor NodeJS, you always create an appropriate package.json file.\\\\nYou always add a comment briefly describing the purpose of the function definition.\\\\nYou try to add comments explaining very complex bits of logic.\\\\nYou always follow the best practices for the requested languages in terms of describing the code written as a defined\\\\npackage/project.\\\\n\\\\n\\\\nPython toolbelt preferences:\\\\n- pytest\\\\n- dataclasses\\\\n\"\\n  },\\n #  … same conversation as earlier, ended with \"Make your own assumptions and state them explicitly before starting\".\\n  {\\n    \"role\": \"assistant\",\\n    \"content\": \"Assumptions:\\\\n1. Model: The model will contain the game\\'s data, such as level information, character states, and enemy positions.\\\\n2. View: The view will handle the game\\'s visuals, including rendering the game objects, backgrounds, and updating the display.\\\\n3. Controller: The controller will manage user input, such as keyboard controls, and update the model accordingly.\\\\n\\\\nWith these assumptions in mind, is there any specific aspect of the keyboard control implementation you would like me to clarify?\"\\n  },\\n  {\\n    \"role\": \"user\",\\n    \"content\": \"Please now remember the steps:\\\\n\\\\nThink step by step and reason yourself to the right decisions to make sure we get it right.\\\\nFirst lay out the names of the core classes, functions, methods that will be necessary, As well as a quick comment on their purpose.\\\\n\\\\nThen you will output the content of each file including ALL code.\\\\nEach file must strictly follow a markdown code block format, where the following tokens must be replaced such that\\\\nFILENAME is the lowercase file name including the file extension,\\\\nLANG is the markup code block language for the code\\'s language, and CODE is the code:\\\\n\\\\nFILENAME\\\\n```LANG\\\\nCODE\\\\n```\\\\n\\\\nPlease note that the code should be fully functional. No placeholders.\\\\n\\\\nYou will start with the \\\\\"entrypoint\\\\\" file, then go to the ones that are imported by that file, and so on.\\\\nFollow a language and framework appropriate best practice file naming convention.\\\\nMake sure that files contain all imports, types etc. The code should be fully functional. Make sure that code in different files are compatible with each other.\\\\nBefore you finish, double check that all parts of the architecture is present in the files.\\\\n\"\\n  }\\n]\\nChallenges#\\nAfter going through key ideas and demos of building LLM-centered agents, I start to see a couple common limitations:\\n\\n\\nFinite context length: The restricted context capacity limits the inclusion of historical information, detailed instructions, API call context, and responses. The design of the system has to work with this limited communication bandwidth, while mechanisms like self-reflection to learn from past mistakes would benefit a lot from long or infinite context windows. Although vector stores and retrieval can provide access to a larger knowledge pool, their representation power is not as powerful as full attention.\\n\\n\\nChallenges in long-term planning and task decomposition: Planning over a lengthy history and effectively exploring the solution space remain challenging. LLMs struggle to adjust plans when faced with unexpected errors, making them less robust compared to humans who learn from trial and error.\\n\\n\\nReliability of natural language interface: Current agent system relies on natural language as an interface between LLMs and external components such as memory and tools. However, the reliability of model outputs is questionable, as LLMs may make formatting errors and occasionally exhibit rebellious behavior (e.g. refuse to follow an instruction). Consequently, much of the agent demo code focuses on parsing model output.\\n\\n\\nCitation#\\nCited as:\\n\\nWeng, Lilian. (Jun 2023). “LLM-powered Autonomous Agents”. Lil’Log. https://lilianweng.github.io/posts/2023-06-23-agent/.\\n\\nOr\\n@article{weng2023agent,\\n  title   = \"LLM-powered Autonomous Agents\",\\n  author  = \"Weng, Lilian\",\\n  journal = \"lilianweng.github.io\",\\n  year    = \"2023\",\\n  month   = \"Jun\",\\n  url     = \"https://lilianweng.github.io/posts/2023-06-23-agent/\"\\n}\\nReferences#\\n[1] Wei et al. “Chain of thought prompting elicits reasoning in large language models.” NeurIPS 2022\\n[2] Yao et al. “Tree of Thoughts: Dliberate Problem Solving with Large Language Models.” arXiv preprint arXiv:2305.10601 (2023).\\n[3] Liu et al. “Chain of Hindsight Aligns Language Models with Feedback\\n“ arXiv preprint arXiv:2302.02676 (2023).\\n[4] Liu et al. “LLM+P: Empowering Large Language Models with Optimal Planning Proficiency” arXiv preprint arXiv:2304.11477 (2023).\\n[5] Yao et al. “ReAct: Synergizing reasoning and acting in language models.” ICLR 2023.\\n[6] Google Blog. “Announcing ScaNN: Efficient Vector Similarity Search” July 28, 2020.\\n[7] https://chat.openai.com/share/46ff149e-a4c7-4dd7-a800-fc4a642ea389\\n[8] Shinn & Labash. “Reflexion: an autonomous agent with dynamic memory and self-reflection” arXiv preprint arXiv:2303.11366 (2023).\\n[9] Laskin et al. “In-context Reinforcement Learning with Algorithm Distillation” ICLR 2023.\\n[10] Karpas et al. “MRKL Systems A modular, neuro-symbolic architecture that combines large language models, external knowledge sources and discrete reasoning.” arXiv preprint arXiv:2205.00445 (2022).\\n[11] Nakano et al. “Webgpt: Browser-assisted question-answering with human feedback.” arXiv preprint arXiv:2112.09332 (2021).\\n[12] Parisi et al. “TALM: Tool Augmented Language Models”\\n[13] Schick et al. “Toolformer: Language Models Can Teach Themselves to Use Tools.” arXiv preprint arXiv:2302.04761 (2023).\\n[14] Weaviate Blog. Why is Vector Search so fast? Sep 13, 2022.\\n[15] Li et al. “API-Bank: A Benchmark for Tool-Augmented LLMs” arXiv preprint arXiv:2304.08244 (2023).\\n[16] Shen et al. “HuggingGPT: Solving AI Tasks with ChatGPT and its Friends in HuggingFace” arXiv preprint arXiv:2303.17580 (2023).\\n[17] Bran et al. “ChemCrow: Augmenting large-language models with chemistry tools.” arXiv preprint arXiv:2304.05376 (2023).\\n[18] Boiko et al. “Emergent autonomous scientific research capabilities of large language models.” arXiv preprint arXiv:2304.05332 (2023).\\n[19] Joon Sung Park, et al. “Generative Agents: Interactive Simulacra of Human Behavior.” arXiv preprint arXiv:2304.03442 (2023).\\n[20] AutoGPT. https://github.com/Significant-Gravitas/Auto-GPT\\n[21] GPT-Engineer. https://github.com/AntonOsika/gpt-engineer\\n\\n\\n\\nnlp\\nlanguage-model\\nagent\\nsteerability\\nprompting\\n\\n\\n\\n« \\n\\nAdversarial Attacks on LLMs\\n\\n\\n »\\n\\nPrompt Engineering\\n\\n\\n\\n\\n\\n\\n\\n\\n\\n\\n\\n\\n\\n\\n\\n\\n\\n\\n\\n\\n\\n\\n\\n\\n\\n\\n\\n\\n\\n\\n\\n\\n\\n\\n\\n\\n\\n\\n© 2024 Lil\\'Log\\n\\n        Powered by\\n        Hugo &\\n        PaperMod\\n\\n\\n\\n\\n\\n\\n\\n\\n\\n\\n\\n\\n\\n'"
      ]
     },
     "execution_count": 57,
     "metadata": {},
     "output_type": "execute_result"
    }
   ],
   "source": [
    "retrieved_docs[0].page_content"
   ]
  },
  {
   "cell_type": "code",
   "execution_count": 58,
   "metadata": {},
   "outputs": [],
   "source": [
    "#########################\n",
    "#   Raptor (INDEXING)   #\n",
    "#########################\n"
   ]
  }
 ],
 "metadata": {
  "kernelspec": {
   "display_name": "Python 3 (ipykernel)",
   "language": "python",
   "name": "python3"
  },
  "language_info": {
   "codemirror_mode": {
    "name": "ipython",
    "version": 3
   },
   "file_extension": ".py",
   "mimetype": "text/x-python",
   "name": "python",
   "nbconvert_exporter": "python",
   "pygments_lexer": "ipython3",
   "version": "3.11.9"
  }
 },
 "nbformat": 4,
 "nbformat_minor": 4
}

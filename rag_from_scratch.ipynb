{
 "cells": [
  {
   "cell_type": "code",
   "execution_count": 1,
   "metadata": {},
   "outputs": [
    {
     "data": {
      "text/plain": [
       "True"
      ]
     },
     "execution_count": 1,
     "metadata": {},
     "output_type": "execute_result"
    }
   ],
   "source": [
    "import os\n",
    "from dotenv import load_dotenv\n",
    "\n",
    "load_dotenv()  # to make OPENAI_API_KEY and LANGCHAIN_API_KEY available"
   ]
  },
  {
   "cell_type": "code",
   "execution_count": 9,
   "metadata": {},
   "outputs": [
    {
     "data": {
      "text/plain": [
       "8"
      ]
     },
     "execution_count": 9,
     "metadata": {},
     "output_type": "execute_result"
    }
   ],
   "source": [
    "# Basics of vectorisation and embedding\n",
    "\n",
    "import numpy as np\n",
    "\n",
    "import tiktoken\n",
    "from langchain_openai import OpenAIEmbeddings\n",
    "\n",
    "embd = OpenAIEmbeddings(model=\"text-embedding-3-small\")\n",
    "\n",
    "question = \"What kind of pets do I like?\"\n",
    "document = \"My favorite pet is cat\"\n",
    "\n",
    "def num_tokens_from_string(string: str, encoding_name: str) -> int:\n",
    "    \"\"\"Returns the number of tokens in a text string\"\"\"\n",
    "    encoding = tiktoken.get_encoding(encoding_name)\n",
    "    num_tokens = len(encoding.encode(string))\n",
    "    return num_tokens\n",
    "\n",
    "print(num_tokens_from_string(question, \"cl100k_base\"))\n",
    "\n",
    "query_result = embd.embed_query(question)\n",
    "document_result = embd.embed_query(document)\n",
    "\n",
    "print(len(query_result))\n",
    "\n",
    "def cosine_similarity(vec1, vec2):\n",
    "    dot_product = np.dot(vec1, vec2)\n",
    "    norm_vec1 = np.linalg.norm(vec1)\n",
    "    norm_vec2 = np.linalg.norm(vec2)\n",
    "    return dot_product / (norm_vec1 * norm_vec2)\n",
    "\n",
    "similarity = cosine_similarity(query_result, document_result)\n",
    "print(\"Cosine Similarity:\", similarity)"
   ]
  },
  {
   "cell_type": "code",
   "execution_count": 2,
   "metadata": {},
   "outputs": [],
   "source": [
    "from langchain_openai import OpenAIEmbeddings\n",
    "from langchain.text_splitter import RecursiveCharacterTextSplitter\n",
    "from langchain_community.document_loaders import PyPDFDirectoryLoader\n",
    "from langchain_community.vectorstores import Chroma\n",
    "\n",
    "PDF_DOCS_PATH = \"./pdf_docs\"\n",
    "PDF_DOCS_CHROMA_PATH = \"./chroma_data\"\n",
    "EMBEDDING_MODEL = \"text-embedding-3-small\"\n",
    "\n",
    "loader = PyPDFDirectoryLoader(PDF_DOCS_PATH)\n",
    "docs = loader.load()\n",
    "\n",
    "text_splitter = RecursiveCharacterTextSplitter.from_tiktoken_encoder(\n",
    "    chunk_size=200, chunk_overlap=40\n",
    ")\n",
    "\n",
    "documents = text_splitter.split_documents(docs)\n",
    "\n",
    "vectorestore = Chroma.from_documents(\n",
    "    documents=documents,\n",
    "    embedding=OpenAIEmbeddings(model=EMBEDDING_MODEL),\n",
    "    persist_directory=PDF_DOCS_CHROMA_PATH\n",
    ")\n",
    "\n",
    "# retriever = vectorestore.as_retriever()"
   ]
  },
  {
   "cell_type": "code",
   "execution_count": 21,
   "metadata": {},
   "outputs": [],
   "source": [
    "retriever = vectorestore.as_retriever(search_kwargs={\"k\": 2})"
   ]
  },
  {
   "cell_type": "code",
   "execution_count": 22,
   "metadata": {},
   "outputs": [],
   "source": [
    "docs = retriever.get_relevant_documents(\"Who owns 'DenKoridZen' company?\")"
   ]
  },
  {
   "cell_type": "code",
   "execution_count": 23,
   "metadata": {},
   "outputs": [
    {
     "data": {
      "text/plain": [
       "2"
      ]
     },
     "execution_count": 23,
     "metadata": {},
     "output_type": "execute_result"
    }
   ],
   "source": [
    "len(docs)"
   ]
  },
  {
   "cell_type": "code",
   "execution_count": 27,
   "metadata": {},
   "outputs": [
    {
     "data": {
      "text/plain": [
       "[Document(page_content='Denis Korolev is a highly qulified software engineer with wide range of skills:\\n- Web-development\\n- AI-development\\n- Edtech-development\\n- System Design\\nHis favorite Programming Language is Python. \\nHe lives in Georgia since 2023. Recently he founded an Interior Design Agency «DenKoridzeN» \\nwhich provides a high quality B2B service for clients from all over the world. \\n«DenKoridzeN» agency got famouse for the interior-remodeling project of the yacht «Dona Xenia».\\nThe project was finished in May of 2024. The cost of the project is $2450000.\\nAgency has 22 employees. Denis is planning that his agency have 40 employees till the end of \\n2025.', metadata={'page': 0, 'source': 'pdf_docs/dk_story.pdf'}),\n",
       " Document(page_content='Ilya Pischalnikov is mega businessman who owns quite a few companies. This is only few of the \\ncompanies that he is running:\\n- «Notishop»\\n- «TouchIP»\\n- «SuperBot72»\\n- «DevTrix&Co»\\n- «IPGazMyas»\\nIlya owns two yachts: «Dona Xenia» and «Nordev». All yachts are considerered to be a middle size \\nyachts: «Nordev» has a length of 65.5 meters, and «Dona Xenia» is 73 meters long. The design of \\nyachts interior was made by Georgian design agency «DenKoridzeN»\\nIlya takes 15 th place in Gorbes Rating List with the net worth of $2.5 billions.', metadata={'page': 0, 'source': 'pdf_docs/ip_story.pdf'})]"
      ]
     },
     "execution_count": 27,
     "metadata": {},
     "output_type": "execute_result"
    }
   ],
   "source": [
    "docs"
   ]
  },
  {
   "cell_type": "code",
   "execution_count": 30,
   "metadata": {},
   "outputs": [],
   "source": [
    "# post-processing\n",
    "def format_docs(documents):\n",
    "    return \"\\n---\\n\".join(doc.page_content for doc in docs)"
   ]
  },
  {
   "cell_type": "code",
   "execution_count": 31,
   "metadata": {},
   "outputs": [
    {
     "data": {
      "text/plain": [
       "'Denis Korolev is a highly qulified software engineer with wide range of skills:\\n- Web-development\\n- AI-development\\n- Edtech-development\\n- System Design\\nHis favorite Programming Language is Python. \\nHe lives in Georgia since 2023. Recently he founded an Interior Design Agency «DenKoridzeN» \\nwhich provides a high quality B2B service for clients from all over the world. \\n«DenKoridzeN» agency got famouse for the interior-remodeling project of the yacht «Dona Xenia».\\nThe project was finished in May of 2024. The cost of the project is $2450000.\\nAgency has 22 employees. Denis is planning that his agency have 40 employees till the end of \\n2025.\\n---\\nIlya Pischalnikov is mega businessman who owns quite a few companies. This is only few of the \\ncompanies that he is running:\\n- «Notishop»\\n- «TouchIP»\\n- «SuperBot72»\\n- «DevTrix&Co»\\n- «IPGazMyas»\\nIlya owns two yachts: «Dona Xenia» and «Nordev». All yachts are considerered to be a middle size \\nyachts: «Nordev» has a length of 65.5 meters, and «Dona Xenia» is 73 meters long. The design of \\nyachts interior was made by Georgian design agency «DenKoridzeN»\\nIlya takes 15 th place in Gorbes Rating List with the net worth of $2.5 billions.'"
      ]
     },
     "execution_count": 31,
     "metadata": {},
     "output_type": "execute_result"
    }
   ],
   "source": [
    "formatted_docs = format_docs(docs)\n",
    "formatted_docs"
   ]
  },
  {
   "cell_type": "code",
   "execution_count": 3,
   "metadata": {},
   "outputs": [
    {
     "name": "stdout",
     "output_type": "stream",
     "text": [
      "input_variables=['context', 'question'] messages=[HumanMessagePromptTemplate(prompt=PromptTemplate(input_variables=['context', 'question'], template='Answer the question based only on the following context:\\n{context}\\n\\nQuestion: {question}\\n'))]\n"
     ]
    }
   ],
   "source": [
    "# Generation\n",
    "\n",
    "from langchain_openai import ChatOpenAI\n",
    "from langchain.prompts import ChatPromptTemplate\n",
    "\n",
    "llm = ChatOpenAI(model_name=\"gpt-3.5-turbo\", temperature=0)\n",
    "\n",
    "template = \"\"\"Answer the question based only on the following context:\n",
    "{context}\n",
    "\n",
    "Question: {question}\n",
    "\"\"\"\n",
    "\n",
    "prompt = ChatPromptTemplate.from_template(template)\n",
    "print(prompt)"
   ]
  },
  {
   "cell_type": "code",
   "execution_count": 11,
   "metadata": {},
   "outputs": [],
   "source": [
    "# LangChain Expression Language (LCEL) chain = prompt | llm | ... | ...\n",
    "\n",
    "chain = prompt | llm"
   ]
  },
  {
   "cell_type": "code",
   "execution_count": 15,
   "metadata": {},
   "outputs": [
    {
     "data": {
      "text/plain": [
       "AIMessage(content=\"The remodeling of 'Dona Xenia' was finished in May of 2024.\", response_metadata={'token_usage': {'completion_tokens': 18, 'prompt_tokens': 224, 'total_tokens': 242}, 'model_name': 'gpt-3.5-turbo', 'system_fingerprint': None, 'finish_reason': 'stop', 'logprobs': None}, id='run-a9bef3cc-66d4-4cb8-a3e5-9bf8d52ddef7-0', usage_metadata={'input_tokens': 224, 'output_tokens': 18, 'total_tokens': 242})"
      ]
     },
     "execution_count": 15,
     "metadata": {},
     "output_type": "execute_result"
    }
   ],
   "source": [
    "chain.invoke({\"context\": docs, \"question\": \"When remodeling of 'Dona Xenia' was finished?\"})"
   ]
  },
  {
   "cell_type": "code",
   "execution_count": 17,
   "metadata": {},
   "outputs": [],
   "source": [
    "# one of the options for RAG-promts from LangChain\n",
    "from langchain import hub\n",
    "\n",
    "prompt_hub_rag = hub.pull(\"rlm/rag-prompt\")  # pulling from HUB"
   ]
  },
  {
   "cell_type": "code",
   "execution_count": 18,
   "metadata": {},
   "outputs": [
    {
     "data": {
      "text/plain": [
       "ChatPromptTemplate(input_variables=['context', 'question'], metadata={'lc_hub_owner': 'rlm', 'lc_hub_repo': 'rag-prompt', 'lc_hub_commit_hash': '50442af133e61576e74536c6556cefe1fac147cad032f4377b60c436e6cdcb6e'}, messages=[HumanMessagePromptTemplate(prompt=PromptTemplate(input_variables=['context', 'question'], template=\"You are an assistant for question-answering tasks. Use the following pieces of retrieved context to answer the question. If you don't know the answer, just say that you don't know. Use three sentences maximum and keep the answer concise.\\nQuestion: {question} \\nContext: {context} \\nAnswer:\"))])"
      ]
     },
     "execution_count": 18,
     "metadata": {},
     "output_type": "execute_result"
    }
   ],
   "source": [
    "prompt_hub_rag"
   ]
  },
  {
   "cell_type": "code",
   "execution_count": 19,
   "metadata": {},
   "outputs": [
    {
     "data": {
      "text/plain": [
       "ChatPromptTemplate(input_variables=['context', 'question'], messages=[HumanMessagePromptTemplate(prompt=PromptTemplate(input_variables=['context', 'question'], template='Answer the question based only on the following context:\\n{context}\\n\\nQuestion: {question}\\n'))])"
      ]
     },
     "execution_count": 19,
     "metadata": {},
     "output_type": "execute_result"
    }
   ],
   "source": [
    "prompt"
   ]
  },
  {
   "cell_type": "code",
   "execution_count": 5,
   "metadata": {},
   "outputs": [
    {
     "data": {
      "text/plain": [
       "'The Dadashevich case lasted for 3 years.'"
      ]
     },
     "execution_count": 5,
     "metadata": {},
     "output_type": "execute_result"
    }
   ],
   "source": [
    "from langchain_core.output_parsers import StrOutputParser\n",
    "from langchain_core.runnables import RunnablePassthrough\n",
    "\n",
    "retriever = vectorestore.as_retriever(search_kwargs={\"k\": 1})\n",
    "\n",
    "rag_chain = (\n",
    "    {\"context\": retriever, \"question\": RunnablePassthrough()}\n",
    "    | prompt\n",
    "    | llm\n",
    "    | StrOutputParser()\n",
    ")\n",
    "\n",
    "rag_chain.invoke(\"How long the Dadashevich case was?\")"
   ]
  },
  {
   "cell_type": "code",
   "execution_count": 7,
   "metadata": {},
   "outputs": [],
   "source": [
    "# Multi Query: Different Perspectives \n",
    "\n",
    "retriever = vectorestore.as_retriever()\n",
    "\n",
    "template_p = \"\"\"You are an AI assistant. Your task is to generate five different versions of the given user question to\n",
    "retrieve relevant documents from a vector database. By generating multiple perspectives on the user question, your goal\n",
    "is to help the user overcome some of the limitations of the distance-based similarity search.\n",
    "Provide these alternative questions separated by newlines. Original question: {question}\"\"\"\n",
    "\n",
    "prompt_perspectives = ChatPromptTemplate.from_template(template_p)\n",
    "\n",
    "generate_queries = (\n",
    "    prompt_perspectives\n",
    "    | llm\n",
    "    | StrOutputParser()\n",
    "    | (lambda x: x.split(\"\\n\"))\n",
    ")"
   ]
  },
  {
   "cell_type": "code",
   "execution_count": 55,
   "metadata": {},
   "outputs": [
    {
     "name": "stdout",
     "output_type": "stream",
     "text": [
      "['HEY', 'TAKE', 'YOUR', 'MAMA', 'OUT', 'WITH', 'ONE', 'HEAD', 'LIGHT', 'BYE', 'BYE', 'MISS', 'AMERICAN', 'PIE']\n",
      "[['HEY', 'TAKE', 'YOUR', 'MAMA', 'OUT'], ['WITH', 'ONE', 'HEAD', 'LIGHT'], ['BYE', 'BYE', 'MISS', 'AMERICAN', 'PIE']]\n"
     ]
    }
   ],
   "source": [
    "# My list comprehension practice \n",
    "al = [['Hey', 'take', 'your', 'mama', 'out'], ['With', 'one', 'head', 'light'], ['Bye', 'bye', 'miss', 'American', 'Pie']]\n",
    "bl = [doc.upper() for song in al for doc in song]\n",
    "cl = [[doc.upper() for doc in song] for song in al]\n",
    "print(bl)\n",
    "print(cl)"
   ]
  },
  {
   "cell_type": "code",
   "execution_count": 9,
   "metadata": {},
   "outputs": [],
   "source": [
    "from langchain.load import dumps, loads\n",
    "\n",
    "def get_unique_union(documents: list[list]):\n",
    "    \"\"\"Unique union of retrieved documents\"\"\"\n",
    "    # Flattened list of lists, and convert each document to string\n",
    "    flattened_docs = [dumps(doc) for sublist in documents for doc in sublist]\n",
    "    unique_docs = list(set(flattened_docs))\n",
    "    return [loads(doc) for doc in unique_docs]\n",
    "\n",
    "question = \"Give the year of start and year of finish of the longest of Denis Borodin's jobs/projects?\""
   ]
  },
  {
   "cell_type": "code",
   "execution_count": 10,
   "metadata": {},
   "outputs": [],
   "source": [
    "retrieval_chain = generate_queries | retriever.map() | get_unique_union"
   ]
  },
  {
   "cell_type": "code",
   "execution_count": 53,
   "metadata": {},
   "outputs": [
    {
     "name": "stderr",
     "output_type": "stream",
     "text": [
      "Number of requested results 4 is greater than number of elements in index 3, updating n_results = 3\n",
      "Number of requested results 4 is greater than number of elements in index 3, updating n_results = 3\n",
      "Number of requested results 4 is greater than number of elements in index 3, updating n_results = 3\n",
      "Number of requested results 4 is greater than number of elements in index 3, updating n_results = 3\n",
      "Number of requested results 4 is greater than number of elements in index 3, updating n_results = 3\n",
      "/home/dk/PycharmProjects/llm_service/venv/lib/python3.11/site-packages/langchain_core/_api/beta_decorator.py:87: LangChainBetaWarning: The function `loads` is in beta. It is actively being worked on, so the API may change.\n",
      "  warn_beta(\n"
     ]
    }
   ],
   "source": [
    "docs = retrieval_chain.invoke({\"question\": question})"
   ]
  },
  {
   "cell_type": "code",
   "execution_count": 54,
   "metadata": {},
   "outputs": [
    {
     "data": {
      "text/plain": [
       "[Document(page_content='Ilya Pischalnikov is mega businessman who owns quite a few companies. This is only few of the \\ncompanies that he is running:\\n- «Notishop»\\n- «TouchIP»\\n- «SuperBot72»\\n- «DevTrix&Co»\\n- «IPGazMyas»\\nIlya owns two yachts: «Dona Xenia» and «Nordev». All yachts are considerered to be a middle size \\nyachts: «Nordev» has a length of 65.5 meters, and «Dona Xenia» is 73 meters long. The design of \\nyachts interior was made by Georgian design agency «DenKoridzeN»\\nIlya takes 15 th place in Gorbes Rating List with the net worth of $2.5 billions.', metadata={'page': 0, 'source': 'pdf_docs/ip_story.pdf'}),\n",
       " Document(page_content='Denis Borodin is a great lawer  and is best known for his legal aid in the D.Dadashevich case.\\nHe received his law degree from the University of Irkutsk, and after taking time off of being a \\nlawyer to pursue other businesses, he reactivated his lawyer’s license following Mr. Dadashevich’s \\narrest in 2020.\\nDue to the complexity of D.Dadashevich case the court hearings lasted for 3 years. The case \\nconsisted of 5 episodes of economic crimes. At the end of the trial, a verdict of acquittal was issued.\\nThe successful result of that case and financial support of Dadashevichs family allowed Denis to \\nstart his own law office “Borodin & Sons“ in 2024.', metadata={'page': 0, 'source': 'pdf_docs/db_story.pdf'}),\n",
       " Document(page_content='Denis Korolev is a highly qulified software engineer with wide range of skills:\\n- Web-development\\n- AI-development\\n- Edtech-development\\n- System Design\\nHis favorite Programming Language is Python. \\nHe lives in Georgia since 2023. Recently he founded an Interior Design Agency «DenKoridzeN» \\nwhich provides a high quality B2B service for clients from all over the world. \\n«DenKoridzeN» agency got famouse for the interior-remodeling project of the yacht «Dona Xenia».\\nThe project was finished in May of 2024. The cost of the project is $2450000.\\nAgency has 22 employees. Denis is planning that his agency have 40 employees till the end of \\n2025.', metadata={'page': 0, 'source': 'pdf_docs/dk_story.pdf'})]"
      ]
     },
     "execution_count": 54,
     "metadata": {},
     "output_type": "execute_result"
    }
   ],
   "source": [
    "docs"
   ]
  },
  {
   "cell_type": "code",
   "execution_count": 11,
   "metadata": {},
   "outputs": [
    {
     "name": "stderr",
     "output_type": "stream",
     "text": [
      "/home/dk/PycharmProjects/llm_service/venv/lib/python3.11/site-packages/langchain_core/_api/beta_decorator.py:87: LangChainBetaWarning: The function `loads` is in beta. It is actively being worked on, so the API may change.\n",
      "  warn_beta(\n"
     ]
    },
    {
     "data": {
      "text/plain": [
       "'Denis Borodin started his career as a lawyer in 2020 and finished the D.Dadashevich case in 2023, which lasted for 3 years.'"
      ]
     },
     "execution_count": 11,
     "metadata": {},
     "output_type": "execute_result"
    }
   ],
   "source": [
    "# RAG\n",
    "\n",
    "from operator import itemgetter\n",
    "\n",
    "template_1 = \"\"\"Answer the following question based on this context:\n",
    "\n",
    "{context}\n",
    "\n",
    "Question: {question}\n",
    "\"\"\"\n",
    "\n",
    "rag_prompt = ChatPromptTemplate.from_template(template_1)\n",
    "\n",
    "final_rag_chain = (\n",
    "    {\"context\": retrieval_chain, \"question\": itemgetter(\"question\")}\n",
    "    | rag_prompt\n",
    "    | llm\n",
    "    | StrOutputParser()\n",
    ")\n",
    "\n",
    "final_rag_chain.invoke({\"question\": question})"
   ]
  },
  {
   "cell_type": "code",
   "execution_count": 12,
   "metadata": {},
   "outputs": [
    {
     "data": {
      "text/plain": [
       "\"Based on the provided context, Denis Korolev, a highly qualified software engineer, founded an interior design agency called «DenKoridzeN» which provided interior remodeling services for Ilya Pischalnikov's yacht «Dona Xenia». Therefore, it can be inferred that Denis Korolev does cooperate with Ilya Pischalnikov in providing interior design services for his yacht.\""
      ]
     },
     "execution_count": 12,
     "metadata": {},
     "output_type": "execute_result"
    }
   ],
   "source": [
    "final_rag_chain.invoke({\"question\": \"Does Denis Korolev somehow cooperates with Ilya Pischalnikov?\"})"
   ]
  },
  {
   "cell_type": "code",
   "execution_count": 13,
   "metadata": {},
   "outputs": [
    {
     "data": {
      "text/plain": [
       "'Roman Bazhenov is approximately 16 years old, as he was born in 2009.'"
      ]
     },
     "execution_count": 13,
     "metadata": {},
     "output_type": "execute_result"
    }
   ],
   "source": [
    "final_rag_chain.invoke({\"question\": \"How old is Roman Bazhenov - a young hockey player from Irkutsk Region?\"})"
   ]
  },
  {
   "cell_type": "code",
   "execution_count": 14,
   "metadata": {},
   "outputs": [
    {
     "data": {
      "text/plain": [
       "\"Yes, Nikolay has the chance to use the skills obtained during his study at university at work. He graduated with a Bachelor's Degree in AeroSpace technology and started his IT career as a Java Developer, eventually transitioning to DevOps. His education and skills in technology and IT have allowed him to excel in his career and take on roles that utilize his knowledge and expertise.\""
      ]
     },
     "execution_count": 14,
     "metadata": {},
     "output_type": "execute_result"
    }
   ],
   "source": [
    "final_rag_chain.invoke({\"question\": \"Does Nikolay have chance to use skills obtained during his study at university at work?\"})"
   ]
  },
  {
   "cell_type": "code",
   "execution_count": 21,
   "metadata": {},
   "outputs": [],
   "source": [
    "# RAG-Fusion: Related\n",
    "\n",
    "template_2 = \"\"\"You are a helpful assistant that generates multiple search queries based on a single input query.\\n\n",
    "Generate multiple search queries related to: {question}\\n\n",
    "Output (4 queries):\"\"\"\n",
    "\n",
    "prompt_rag_fusion = ChatPromptTemplate.from_template(template_2)\n",
    "\n",
    "generate_queries = (\n",
    "    prompt_rag_fusion\n",
    "    | llm\n",
    "    | StrOutputParser()\n",
    "    |(lambda x: x.split(\"\\n\"))\n",
    ")"
   ]
  },
  {
   "cell_type": "code",
   "execution_count": 22,
   "metadata": {},
   "outputs": [],
   "source": [
    "def reciprocal_rank_fusion(results: list[list], k=60):\n",
    "    \"\"\"Reciprocal_rank_fusion that takes multiple lists of ranked \n",
    "    documents and an optional parameter k used in the RRF formula\"\"\"\n",
    "\n",
    "    fused_scores = {}  # to hold fused scores for each unique document\n",
    "\n",
    "    for docs in results:\n",
    "        for rank, doc in enumerate(docs):  # iterate through each document in the list with its rank (position in the list)\n",
    "            doc_str = dumps(doc)\n",
    "            if doc_str not in fused_scores:  # if not in fused_scores then add it with initial score of 0\n",
    "                fused_scores[doc_str] = 0\n",
    "            \n",
    "            previous_score = fused_scores[doc_str]  # retrieve the current score of the doc if any\n",
    "            \n",
    "            fused_scores[doc_str] += 1 / (rank + 1)  # update the score of the doc with formula: 1 / (rank + 1)\n",
    "\n",
    "    # sort the docs based on their fused scores in DESC order to get the final reranked results\n",
    "    reranked_results = [\n",
    "        (loads(doc), score) for doc, score in sorted(fused_scores.items(), key=lambda x: x[1], reverse=True)\n",
    "    ]\n",
    "    return reranked_results  # list of tuples like (doc, fused_score)\n",
    "\n",
    "retrieval_chain_rag_fusion = generate_queries | retriever.map() | reciprocal_rank_fusion\n",
    "docs = retrieval_chain_rag_fusion.invoke({\"question\": \"Does Nikolay have chance to use skills obtained during his study at university at work?\"})"
   ]
  },
  {
   "cell_type": "code",
   "execution_count": 23,
   "metadata": {},
   "outputs": [
    {
     "name": "stdout",
     "output_type": "stream",
     "text": [
      "6\n",
      "[(Document(page_content='Nikolay Nikitin graduated from Moscow Institute of Physics and Technology in 2023 with \\nBachelor`s Degree in AeroSpace technology.\\nNikolay has started his IT-career two years before graduation as a Java Developer at Sberbank. \\nAfter six month of working as backend developer he decided to switch to the position of DevOps at \\nthe same company.\\nThat was a good decision because new position gave Nikolay a higher salary and less stress.\\nSince then the most of his daily workload consists of supervision of K8S clusters and orchestration \\nof Docker containers. In may of 2024 Nikolay has completed an “AWS Technical Essentials“ \\ncourse which allowes him to work as AWS certified specialist.\\nNikolay spends his free time playing video games. His favourite video game is “Honkai: Star Rail“.', metadata={'page': 0, 'source': 'pdf_docs/nn_story.pdf'}), 4.0), (Document(page_content='Denis Korolev is a highly qulified software engineer with wide range of skills:\\n- Web-development\\n- AI-development\\n- Edtech-development\\n- System Design\\nHis favorite Programming Language is Python. \\nHe lives in Georgia since 2023. Recently he founded an Interior Design Agency «DenKoridzeN» \\nwhich provides a high quality B2B service for clients from all over the world. \\n«DenKoridzeN» agency got famouse for the interior-remodeling project of the yacht «Dona Xenia».\\nThe project was finished in May of 2024. The cost of the project is $2450000.\\nAgency has 22 employees. Denis is planning that his agency have 40 employees till the end of \\n2025.', metadata={'page': 0, 'source': 'pdf_docs/dk_story.pdf'}), 2.0), (Document(page_content='later he recovered from injury and continued to play hockey at amateur  hockey league.  \\nIn 2015 Pavel started his career of a professional hockey coach for men`s youth team of \\n“ERMAK“ hockey club. One of his two sons named Roman is playing on this team.  \\nRoman is one of the promising players on the team and Pavel is very prou d of him.', metadata={'page': 0, 'source': 'pdf_docs/pb_story.pdf'}), 1.0833333333333333), (Document(page_content='Pavel Bazhenov is a professional coach at  “ERMAK“ hockey club of Angarsk. He is coaching the \\nmen`s youth team. All the players are the same age - they were born in 2009.  \\nBeing a young boy Pavel himself was playing hockey on the same team at “ERMAK“ hockey club. \\nWhen he turned 20 years old he star ted his professional career at “First Hockey League“ as a part of \\n“ERMAK“ hockey team.  \\nAfter 1 year of professional playing he had to stop due to sports injury — foot fracture. One year \\nlater he recovered from injury and continued to play hockey at amateur  hockey league.  \\nIn 2015 Pavel started his career of a professional hockey coach for men`s youth team of', metadata={'page': 0, 'source': 'pdf_docs/pb_story.pdf'}), 0.5833333333333333), (Document(page_content='Denis Borodin is a great lawer  and is best known for his legal aid in the D.Dadashevich case.\\nHe received his law degree from the University of Irkutsk, and after taking time off of being a \\nlawyer to pursue other businesses, he reactivated his lawyer’s license following Mr. Dadashevich’s \\narrest in 2020.\\nDue to the complexity of D.Dadashevich case the court hearings lasted for 3 years. The case \\nconsisted of 5 episodes of economic crimes. At the end of the trial, a verdict of acquittal was issued.\\nThe successful result of that case and financial support of Dadashevichs family allowed Denis to \\nstart his own law office “Borodin & Sons“ in 2024.', metadata={'page': 0, 'source': 'pdf_docs/db_story.pdf'}), 0.3333333333333333), (Document(page_content='Ilya Pischalnikov is mega businessman who owns quite a few companies. This is only few of the \\ncompanies that he is running:\\n- «Notishop»\\n- «TouchIP»\\n- «SuperBot72»\\n- «DevTrix&Co»\\n- «IPGazMyas»\\nIlya owns two yachts: «Dona Xenia» and «Nordev». All yachts are considerered to be a middle size \\nyachts: «Nordev» has a length of 65.5 meters, and «Dona Xenia» is 73 meters long. The design of \\nyachts interior was made by Georgian design agency «DenKoridzeN»\\nIlya takes 15 th place in Gorbes Rating List with the net worth of $2.5 billions.', metadata={'page': 0, 'source': 'pdf_docs/ip_story.pdf'}), 0.3333333333333333)]\n"
     ]
    }
   ],
   "source": [
    "print(len(docs))\n",
    "print(docs)"
   ]
  },
  {
   "cell_type": "code",
   "execution_count": 24,
   "metadata": {},
   "outputs": [
    {
     "data": {
      "text/plain": [
       "'Yes, Nikolay has the chance to use the skills obtained during his study at university at work. He graduated with a Bachelor\\'s Degree in AeroSpace technology, and although he started his IT career as a Java Developer and then transitioned to DevOps, his daily workload now consists of supervision of K8S clusters and orchestration of Docker containers, which are related to his technical background in AeroSpace technology. Additionally, he completed an \"AWS Technical Essentials\" course, which further enhances his skills and knowledge in the IT field.'"
      ]
     },
     "execution_count": 24,
     "metadata": {},
     "output_type": "execute_result"
    }
   ],
   "source": [
    "question_3 = \"Does Nikolay have chance to use skills obtained during his study at university at work?\"\n",
    "\n",
    "template_3 = \"\"\"Answer the following question based on the context:\n",
    "\n",
    "{context}\n",
    "\n",
    "Question: {question}\n",
    "\"\"\"\n",
    "\n",
    "prompt = ChatPromptTemplate.from_template(template_3)\n",
    "\n",
    "final_rag_chain = (\n",
    "    {\"context\": retrieval_chain_rag_fusion, \"question\": itemgetter(\"question\")}\n",
    "    | prompt\n",
    "    | llm\n",
    "    | StrOutputParser()\n",
    ")\n",
    "\n",
    "final_rag_chain.invoke({\"question\": question_3})"
   ]
  }
 ],
 "metadata": {
  "kernelspec": {
   "display_name": "Python 3 (ipykernel)",
   "language": "python",
   "name": "python3"
  },
  "language_info": {
   "codemirror_mode": {
    "name": "ipython",
    "version": 3
   },
   "file_extension": ".py",
   "mimetype": "text/x-python",
   "name": "python",
   "nbconvert_exporter": "python",
   "pygments_lexer": "ipython3",
   "version": "3.11.9"
  }
 },
 "nbformat": 4,
 "nbformat_minor": 4
}

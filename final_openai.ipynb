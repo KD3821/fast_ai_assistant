{
 "cells": [
  {
   "cell_type": "code",
   "execution_count": 1,
   "metadata": {},
   "outputs": [],
   "source": [
    "import os\n",
    "from openai import OpenAI\n",
    "from dotenv import load_dotenv\n",
    "load_dotenv()\n",
    "\n",
    "client = OpenAI(api_key=os.getenv('OPENAI_API_KEY'))"
   ]
  },
  {
   "cell_type": "code",
   "execution_count": 2,
   "metadata": {},
   "outputs": [],
   "source": [
    "from langchain_community.document_loaders import PyPDFDirectoryLoader\n",
    "from langchain.text_splitter import RecursiveCharacterTextSplitter\n",
    "from langchain_community.vectorstores import Chroma\n",
    "from langchain_openai import OpenAIEmbeddings\n",
    "\n",
    "PDF_DOCS_PATH = \"./pdf_docs\"\n",
    "PDF_DOCS_CHROMA_PATH = \"./chroma_data\"\n",
    "EMBEDDING_MODEL = \"text-embedding-3-small\"\n",
    "\n",
    "loader = PyPDFDirectoryLoader(PDF_DOCS_PATH)\n",
    "documents = loader.load()\n",
    "text_splitter = RecursiveCharacterTextSplitter(chunk_size=200, chunk_overlap=40)\n",
    "final_documents = text_splitter.split_documents(documents)\n",
    "\n",
    "pdf_docs_vector_db = Chroma.from_documents(\n",
    "    final_documents,\n",
    "    OpenAIEmbeddings(model=EMBEDDING_MODEL),\n",
    "    persist_directory=PDF_DOCS_CHROMA_PATH\n",
    ")"
   ]
  },
  {
   "cell_type": "code",
   "execution_count": 247,
   "metadata": {},
   "outputs": [],
   "source": [
    "from langchain_openai import ChatOpenAI\n",
    "from langchain.prompts import ChatPromptTemplate\n",
    "\n",
    "from langchain.chains import create_retrieval_chain, create_history_aware_retriever\n",
    "from langchain_core.prompts import MessagesPlaceholder\n",
    "from langchain.chains.combine_documents import create_stuff_documents_chain\n",
    "\n",
    "from langchain_core.chat_history import BaseChatMessageHistory\n",
    "from langchain_community.chat_message_histories import ChatMessageHistory\n",
    "from langchain_core.runnables.history import RunnableWithMessageHistory\n",
    "# from langchain_core.messages import AIMessage, HumanMessage\n",
    "\n",
    "\n",
    "chat_model = ChatOpenAI(model=\"gpt-3.5-turbo\", temperature=0)\n",
    "\n",
    "pdf_docs_retriever = pdf_docs_vector_db.as_retriever(k=5)\n",
    "\n",
    "contextualize_system_prompt = \"\"\"\n",
    "Given a chat history and the latest user question which might reference context in the chat history,\n",
    "formulate a standalone question which can be understood without the chat history.\n",
    "Do NOT answer the question, just reformulate it if needed and otherwise return it as is.\"\n",
    "\"\"\"\n",
    "\n",
    "contextualize_prompt = ChatPromptTemplate.from_messages(\n",
    "    [\n",
    "        (\"system\", contextualize_system_prompt),\n",
    "        MessagesPlaceholder(\"chat_history\"),\n",
    "        (\"human\", \"{input}\")\n",
    "    ]\n",
    ")\n",
    "\n",
    "history_aware_pdf_docs_retriever = create_history_aware_retriever(\n",
    "    chat_model, pdf_docs_retriever, contextualize_prompt\n",
    ")\n",
    "\n",
    "pdf_docs_template_str = \"\"\"\n",
    "Your job is to answer questions about mentioned person's business, occupation, career, professional skills.\n",
    "Only answer person-related questions.\n",
    "Be as detailed as possible but don't make up any information that's not from the context.\n",
    "If you don't know an answer, say you don't know.\n",
    "\n",
    "{context}\n",
    "\"\"\"\n",
    "\n",
    "prompt = ChatPromptTemplate.from_messages(\n",
    "    [\n",
    "        (\"system\", pdf_docs_template_str),\n",
    "        MessagesPlaceholder(\"chat_history\"),\n",
    "        (\"human\", \"{input}\")\n",
    "    ]\n",
    ")\n",
    "\n",
    "qa_chain = create_stuff_documents_chain(chat_model, prompt)\n",
    "\n",
    "pdf_docs_chain = create_retrieval_chain(history_aware_pdf_docs_retriever, qa_chain)\n",
    "\n",
    "store = {}\n",
    "\n",
    "def get_session_history(session_id: str) -> BaseChatMessageHistory:\n",
    "    if session_id not in store:\n",
    "        store[session_id] = ChatMessageHistory()\n",
    "    return store.get(session_id)\n",
    "        \n",
    "\n",
    "pdf_docs_rag_chain = RunnableWithMessageHistory(\n",
    "    pdf_docs_chain,\n",
    "    get_session_history,\n",
    "    input_messages_key=\"input\",\n",
    "    history_messages_key=\"chat_history\",\n",
    "    output_messages_key=\"answer\",\n",
    ")\n",
    "\n",
    "    \n",
    "# chat_history = list()\n",
    "\n",
    "\n",
    "# def update_history(history, request, reply):\n",
    "#     history.extend([\n",
    "#         HumanMessage(content=request),\n",
    "#         AIMessage(content=reply.get(\"answer\"))\n",
    "#     ])\n",
    "#     return history"
   ]
  },
  {
   "cell_type": "code",
   "execution_count": 242,
   "metadata": {},
   "outputs": [],
   "source": [
    "query = \"What is Denis's doing for living?\""
   ]
  },
  {
   "cell_type": "code",
   "execution_count": 248,
   "metadata": {},
   "outputs": [
    {
     "name": "stderr",
     "output_type": "stream",
     "text": [
      "Parent run 3180e265-091c-4ebe-a516-bfaadc96b14f not found for run 8f3d46ec-da47-4010-a2c8-16f14db71c62. Treating as a root run.\n"
     ]
    }
   ],
   "source": [
    "# res = pdf_docs_chain.invoke({\"input\": query, \"chat_history\": chat_history})\n",
    "res = pdf_docs_rag_chain.invoke({\"input\": query}, config={\"configurable\": {\"session_id\": \"abc123\"}})"
   ]
  },
  {
   "cell_type": "code",
   "execution_count": 249,
   "metadata": {},
   "outputs": [
    {
     "data": {
      "text/plain": [
       "'Denis Korolev is a highly qualified software engineer. He is involved in various aspects of software development, including web development, AI development, edtech development, and system design. His primary occupation is in the field of software engineering.'"
      ]
     },
     "execution_count": 249,
     "metadata": {},
     "output_type": "execute_result"
    }
   ],
   "source": [
    "res.get(\"answer\")"
   ]
  },
  {
   "cell_type": "code",
   "execution_count": 177,
   "metadata": {},
   "outputs": [
    {
     "name": "stdout",
     "output_type": "stream",
     "text": [
      "[HumanMessage(content=\"What is Denis's doing for living?\"), AIMessage(content='Denis Korolev is a highly qualified software engineer. He is involved in various aspects of software development, including web development, AI development, edtech development, and system design. His primary occupation is working in the field of software engineering.')]\n"
     ]
    }
   ],
   "source": [
    "print(update_history(chat_history, query, res))"
   ]
  },
  {
   "cell_type": "code",
   "execution_count": 250,
   "metadata": {},
   "outputs": [],
   "source": [
    "query2 = \"What is his major field?\""
   ]
  },
  {
   "cell_type": "code",
   "execution_count": 251,
   "metadata": {},
   "outputs": [
    {
     "name": "stderr",
     "output_type": "stream",
     "text": [
      "Parent run ba1c41fc-f911-4a14-9d65-1916b50a3d73 not found for run d3216e9b-8492-4e80-9ebd-23829ffaf82e. Treating as a root run.\n"
     ]
    }
   ],
   "source": [
    "# res2 = pdf_docs_chain.invoke({\"input\": query2, \"chat_history\": chat_history})\n",
    "res2 = pdf_docs_rag_chain.invoke({\"input\": query2}, config={\"configurable\": {\"session_id\": \"abc123\"}})"
   ]
  },
  {
   "cell_type": "code",
   "execution_count": 252,
   "metadata": {},
   "outputs": [
    {
     "data": {
      "text/plain": [
       "\"Denis Korolev's major field is software engineering, with a focus on web development, AI development, edtech development, and system design. He is highly skilled and experienced in these areas, making software engineering his primary expertise.\""
      ]
     },
     "execution_count": 252,
     "metadata": {},
     "output_type": "execute_result"
    }
   ],
   "source": [
    "res2.get(\"answer\")"
   ]
  },
  {
   "cell_type": "code",
   "execution_count": 181,
   "metadata": {},
   "outputs": [
    {
     "name": "stdout",
     "output_type": "stream",
     "text": [
      "[HumanMessage(content=\"What is Denis's doing for living?\"), AIMessage(content='Denis Korolev is a highly qualified software engineer. He is involved in various aspects of software development, including web development, AI development, edtech development, and system design. His primary occupation is working in the field of software engineering.'), HumanMessage(content='What is his major field?'), AIMessage(content=\"Denis Korolev's major field is software engineering, with a focus on web development, AI development, edtech development, and system design. He is highly skilled in these areas and has a wide range of expertise in software development.\")]\n"
     ]
    }
   ],
   "source": [
    "print(update_history(chat_history, query2, res2))"
   ]
  },
  {
   "cell_type": "code",
   "execution_count": 253,
   "metadata": {},
   "outputs": [],
   "source": [
    "query3 = 'I will call Denis a \"TECH_MAN\" during our conversation, so for you \"TECH_MAN\" equals \"Denis Korolev\"'"
   ]
  },
  {
   "cell_type": "code",
   "execution_count": 254,
   "metadata": {},
   "outputs": [
    {
     "name": "stderr",
     "output_type": "stream",
     "text": [
      "Parent run f444073f-d384-4a2b-a2aa-83b6c81053b5 not found for run 96988bb6-b30e-41f0-9314-bce635fdc5d5. Treating as a root run.\n"
     ]
    }
   ],
   "source": [
    "# res3 = pdf_docs_chain.invoke({\"input\": query3, \"chat_history\": chat_history})\n",
    "res3 = pdf_docs_rag_chain.invoke({\"input\": query3}, config={\"configurable\": {\"session_id\": \"abc123\"}})"
   ]
  },
  {
   "cell_type": "code",
   "execution_count": 255,
   "metadata": {},
   "outputs": [
    {
     "data": {
      "text/plain": [
       "'Got it! When you refer to \"TECH_MAN,\" I will understand that you are talking about Denis Korolev. Feel free to ask any questions you have about him or his professional background.'"
      ]
     },
     "execution_count": 255,
     "metadata": {},
     "output_type": "execute_result"
    }
   ],
   "source": [
    "res3.get(\"answer\")"
   ]
  },
  {
   "cell_type": "code",
   "execution_count": 186,
   "metadata": {},
   "outputs": [
    {
     "name": "stdout",
     "output_type": "stream",
     "text": [
      "[HumanMessage(content=\"What is Denis's doing for living?\"), AIMessage(content='Denis Korolev is a highly qualified software engineer. He is involved in various aspects of software development, including web development, AI development, edtech development, and system design. His primary occupation is working in the field of software engineering.'), HumanMessage(content='What is his major field?'), AIMessage(content=\"Denis Korolev's major field is software engineering, with a focus on web development, AI development, edtech development, and system design. He is highly skilled in these areas and has a wide range of expertise in software development.\"), HumanMessage(content='I will call Denis a \"TECH_MAN\" during our conversation, so for you \"TECH_MAN\" equals \"Denis Korolev\"'), AIMessage(content='Got it! When you refer to \"TECH_MAN,\" I will understand that you are talking about Denis Korolev. Feel free to ask any questions you have about him.')]\n"
     ]
    }
   ],
   "source": [
    "print(update_history(chat_history, query3, res3))"
   ]
  },
  {
   "cell_type": "code",
   "execution_count": 256,
   "metadata": {},
   "outputs": [],
   "source": [
    "query4 = \"Now tell me what do you know about Ilya's occupation?\""
   ]
  },
  {
   "cell_type": "code",
   "execution_count": 257,
   "metadata": {},
   "outputs": [
    {
     "name": "stderr",
     "output_type": "stream",
     "text": [
      "Parent run cc87c360-2bab-4312-aba8-32bfdd21ec05 not found for run 2d8fcf4b-98dc-4e05-9b3c-72087ae538d6. Treating as a root run.\n"
     ]
    }
   ],
   "source": [
    "# res4 = pdf_docs_chain.invoke({\"input\": query4, \"chat_history\": chat_history})\n",
    "res4 = pdf_docs_rag_chain.invoke({\"input\": query4}, config={\"configurable\": {\"session_id\": \"abc123\"}})"
   ]
  },
  {
   "cell_type": "code",
   "execution_count": 258,
   "metadata": {},
   "outputs": [
    {
     "data": {
      "text/plain": [
       "'Ilya Pischalnikov is a mega businessman who owns several companies. Some of the companies he is running include \"Notishop,\" \"TouchIP,\" \"SuperBot72,\" \"DevTrix&Co,\" and \"IPGazMyas.\" His occupation primarily revolves around managing and overseeing these businesses, which contribute to his significant net worth and ranking on the Forbes list.'"
      ]
     },
     "execution_count": 258,
     "metadata": {},
     "output_type": "execute_result"
    }
   ],
   "source": [
    "res4.get(\"answer\")"
   ]
  },
  {
   "cell_type": "code",
   "execution_count": 190,
   "metadata": {},
   "outputs": [
    {
     "name": "stdout",
     "output_type": "stream",
     "text": [
      "[HumanMessage(content=\"What is Denis's doing for living?\"), AIMessage(content='Denis Korolev is a highly qualified software engineer. He is involved in various aspects of software development, including web development, AI development, edtech development, and system design. His primary occupation is working in the field of software engineering.'), HumanMessage(content='What is his major field?'), AIMessage(content=\"Denis Korolev's major field is software engineering, with a focus on web development, AI development, edtech development, and system design. He is highly skilled in these areas and has a wide range of expertise in software development.\"), HumanMessage(content='I will call Denis a \"TECH_MAN\" during our conversation, so for you \"TECH_MAN\" equals \"Denis Korolev\"'), AIMessage(content='Got it! When you refer to \"TECH_MAN,\" I will understand that you are talking about Denis Korolev. Feel free to ask any questions you have about him.'), HumanMessage(content=\"Now tell me what do you know about Ilya's occupation? Follow 'rule1' in your answer.\"), AIMessage(content='Rule1: Only answer person-related questions.\\n\\nIlya Pischalnikov is a mega businessman who owns several companies, including \"Notishop,\" \"TouchIP,\" \"SuperBot72,\" \"DevTrix&Co,\" and \"IPGazMyas.\" He is known for his successful business ventures and entrepreneurial skills, as evidenced by his high ranking on the Forbes Rating List with a net worth of $2.5 billion.')]\n"
     ]
    }
   ],
   "source": [
    "print(update_history(chat_history, query4, res4))"
   ]
  },
  {
   "cell_type": "code",
   "execution_count": 259,
   "metadata": {},
   "outputs": [],
   "source": [
    "query5 = \"Wow, he seems like a busy man. Probably, he works hard and then he plays hard, does he?\""
   ]
  },
  {
   "cell_type": "code",
   "execution_count": 260,
   "metadata": {},
   "outputs": [
    {
     "name": "stderr",
     "output_type": "stream",
     "text": [
      "Parent run 972146c1-bafc-4dae-9ba6-56ccc871c63d not found for run 879f371a-de03-4837-93a7-a2e91a5811a4. Treating as a root run.\n"
     ]
    }
   ],
   "source": [
    "# res5 = pdf_docs_chain.invoke({\"input\": query5, \"chat_history\": chat_history})\n",
    "res5 = pdf_docs_rag_chain.invoke({\"input\": query5}, config={\"configurable\": {\"session_id\": \"abc123\"}})"
   ]
  },
  {
   "cell_type": "code",
   "execution_count": 261,
   "metadata": {},
   "outputs": [
    {
     "data": {
      "text/plain": [
       "\"As a successful businessman with multiple companies under his ownership, Ilya Pischalnikov likely has a busy schedule managing his various ventures. While it's common for high-profile individuals like him to work hard to maintain and grow their businesses, it's also possible that he enjoys some leisure time or activities outside of work to relax and recharge. However, specific details about his work-life balance or personal activities would require more information or direct insight into his lifestyle.\""
      ]
     },
     "execution_count": 261,
     "metadata": {},
     "output_type": "execute_result"
    }
   ],
   "source": [
    "res5.get(\"answer\")"
   ]
  },
  {
   "cell_type": "code",
   "execution_count": 194,
   "metadata": {},
   "outputs": [
    {
     "name": "stdout",
     "output_type": "stream",
     "text": [
      "[HumanMessage(content=\"What is Denis's doing for living?\"), AIMessage(content='Denis Korolev is a highly qualified software engineer. He is involved in various aspects of software development, including web development, AI development, edtech development, and system design. His primary occupation is working in the field of software engineering.'), HumanMessage(content='What is his major field?'), AIMessage(content=\"Denis Korolev's major field is software engineering, with a focus on web development, AI development, edtech development, and system design. He is highly skilled in these areas and has a wide range of expertise in software development.\"), HumanMessage(content='I will call Denis a \"TECH_MAN\" during our conversation, so for you \"TECH_MAN\" equals \"Denis Korolev\"'), AIMessage(content='Got it! When you refer to \"TECH_MAN,\" I will understand that you are talking about Denis Korolev. Feel free to ask any questions you have about him.'), HumanMessage(content=\"Now tell me what do you know about Ilya's occupation? Follow 'rule1' in your answer.\"), AIMessage(content='Rule1: Only answer person-related questions.\\n\\nIlya Pischalnikov is a mega businessman who owns several companies, including \"Notishop,\" \"TouchIP,\" \"SuperBot72,\" \"DevTrix&Co,\" and \"IPGazMyas.\" He is known for his successful business ventures and entrepreneurial skills, as evidenced by his high ranking on the Forbes Rating List with a net worth of $2.5 billion.'), HumanMessage(content='Wow, he seems like a busy man. Probably, he works hard and then he plays hard, does he?'), AIMessage(content=\"I don't have information about Ilya Pischalnikov's personal lifestyle or leisure activities. My focus is on providing information related to his business, occupation, career, and professional skills. If you have any more questions about his business ventures or professional life, feel free to ask!\")]\n"
     ]
    }
   ],
   "source": [
    "print(update_history(chat_history, query5, res5))"
   ]
  },
  {
   "cell_type": "code",
   "execution_count": 262,
   "metadata": {},
   "outputs": [],
   "source": [
    "query6 = 'I wll call Ilya a \"BIZ_MAN\" during our conversation, so for you \"BIZ_MAN\" equals \"Ilya Pischalnikov\".'"
   ]
  },
  {
   "cell_type": "code",
   "execution_count": 263,
   "metadata": {},
   "outputs": [
    {
     "name": "stderr",
     "output_type": "stream",
     "text": [
      "Parent run ff9d39da-c658-4386-81d8-c939fca186cf not found for run 34d9ec20-1dee-4ef8-b3a5-8ba423a7d82c. Treating as a root run.\n"
     ]
    }
   ],
   "source": [
    "# res6 = pdf_docs_chain.invoke({\"input\": query6, \"chat_history\": chat_history})\n",
    "res6 = pdf_docs_rag_chain.invoke({\"input\": query6}, config={\"configurable\": {\"session_id\": \"abc123\"}})"
   ]
  },
  {
   "cell_type": "code",
   "execution_count": 264,
   "metadata": {},
   "outputs": [
    {
     "data": {
      "text/plain": [
       "'Understood! When you refer to \"BIZ_MAN,\" I will understand that you are talking about Ilya Pischalnikov. Feel free to ask any questions you have about him or his business endeavors.'"
      ]
     },
     "execution_count": 264,
     "metadata": {},
     "output_type": "execute_result"
    }
   ],
   "source": [
    "res6.get(\"answer\")"
   ]
  },
  {
   "cell_type": "code",
   "execution_count": 198,
   "metadata": {},
   "outputs": [
    {
     "name": "stdout",
     "output_type": "stream",
     "text": [
      "[HumanMessage(content=\"What is Denis's doing for living?\"), AIMessage(content='Denis Korolev is a highly qualified software engineer. He is involved in various aspects of software development, including web development, AI development, edtech development, and system design. His primary occupation is working in the field of software engineering.'), HumanMessage(content='What is his major field?'), AIMessage(content=\"Denis Korolev's major field is software engineering, with a focus on web development, AI development, edtech development, and system design. He is highly skilled in these areas and has a wide range of expertise in software development.\"), HumanMessage(content='I will call Denis a \"TECH_MAN\" during our conversation, so for you \"TECH_MAN\" equals \"Denis Korolev\"'), AIMessage(content='Got it! When you refer to \"TECH_MAN,\" I will understand that you are talking about Denis Korolev. Feel free to ask any questions you have about him.'), HumanMessage(content=\"Now tell me what do you know about Ilya's occupation? Follow 'rule1' in your answer.\"), AIMessage(content='Rule1: Only answer person-related questions.\\n\\nIlya Pischalnikov is a mega businessman who owns several companies, including \"Notishop,\" \"TouchIP,\" \"SuperBot72,\" \"DevTrix&Co,\" and \"IPGazMyas.\" He is known for his successful business ventures and entrepreneurial skills, as evidenced by his high ranking on the Forbes Rating List with a net worth of $2.5 billion.'), HumanMessage(content='Wow, he seems like a busy man. Probably, he works hard and then he plays hard, does he?'), AIMessage(content=\"I don't have information about Ilya Pischalnikov's personal lifestyle or leisure activities. My focus is on providing information related to his business, occupation, career, and professional skills. If you have any more questions about his business ventures or professional life, feel free to ask!\"), HumanMessage(content='I wll call Ilya a \"BIZ_MAN\" during our conversation, so for you \"BIZ_MAN\" equals \"Ilya Pischalnikov\".'), AIMessage(content='Understood! When you refer to \"BIZ_MAN,\" I will understand that you are talking about Ilya Pischalnikov. Feel free to ask any questions you have about him.')]\n"
     ]
    }
   ],
   "source": [
    "print(update_history(chat_history, query6, res6))"
   ]
  },
  {
   "cell_type": "code",
   "execution_count": 265,
   "metadata": {},
   "outputs": [],
   "source": [
    "query7 = 'Now, talking about \"TECH_MAN\", does he somehow cooperate with \"BIZ_MAN\"? Do you have any information that they have worked together on any projects? Use \"rule1\" and \"rule2\" in your answer.'"
   ]
  },
  {
   "cell_type": "code",
   "execution_count": 266,
   "metadata": {},
   "outputs": [
    {
     "name": "stderr",
     "output_type": "stream",
     "text": [
      "Parent run 7a4bc5a7-edc4-441b-85db-2e7701893dba not found for run 3cccd27f-b42d-44af-bb5a-ed6e8d45367a. Treating as a root run.\n"
     ]
    }
   ],
   "source": [
    "# res7 = pdf_docs_chain.invoke({\"input\": query7, \"chat_history\": chat_history})\n",
    "res7 = pdf_docs_rag_chain.invoke({\"input\": query7}, config={\"configurable\": {\"session_id\": \"abc123\"}})"
   ]
  },
  {
   "cell_type": "code",
   "execution_count": 267,
   "metadata": {},
   "outputs": [
    {
     "data": {
      "text/plain": [
       "'I don\\'t have any information about \"TECH_MAN\" (Denis Korolev) and \"BIZ_MAN\" (Ilya Pischalnikov) working together on any projects. Therefore, based on \"rule1\" (information provided) and \"rule2\" (no additional context), there is no known collaboration or projects involving both individuals at this time.'"
      ]
     },
     "execution_count": 267,
     "metadata": {},
     "output_type": "execute_result"
    }
   ],
   "source": [
    "res7.get(\"answer\")"
   ]
  },
  {
   "cell_type": "code",
   "execution_count": 202,
   "metadata": {},
   "outputs": [
    {
     "name": "stdout",
     "output_type": "stream",
     "text": [
      "[HumanMessage(content=\"What is Denis's doing for living?\"), AIMessage(content='Denis Korolev is a highly qualified software engineer. He is involved in various aspects of software development, including web development, AI development, edtech development, and system design. His primary occupation is working in the field of software engineering.'), HumanMessage(content='What is his major field?'), AIMessage(content=\"Denis Korolev's major field is software engineering, with a focus on web development, AI development, edtech development, and system design. He is highly skilled in these areas and has a wide range of expertise in software development.\"), HumanMessage(content='I will call Denis a \"TECH_MAN\" during our conversation, so for you \"TECH_MAN\" equals \"Denis Korolev\"'), AIMessage(content='Got it! When you refer to \"TECH_MAN,\" I will understand that you are talking about Denis Korolev. Feel free to ask any questions you have about him.'), HumanMessage(content=\"Now tell me what do you know about Ilya's occupation? Follow 'rule1' in your answer.\"), AIMessage(content='Rule1: Only answer person-related questions.\\n\\nIlya Pischalnikov is a mega businessman who owns several companies, including \"Notishop,\" \"TouchIP,\" \"SuperBot72,\" \"DevTrix&Co,\" and \"IPGazMyas.\" He is known for his successful business ventures and entrepreneurial skills, as evidenced by his high ranking on the Forbes Rating List with a net worth of $2.5 billion.'), HumanMessage(content='Wow, he seems like a busy man. Probably, he works hard and then he plays hard, does he?'), AIMessage(content=\"I don't have information about Ilya Pischalnikov's personal lifestyle or leisure activities. My focus is on providing information related to his business, occupation, career, and professional skills. If you have any more questions about his business ventures or professional life, feel free to ask!\"), HumanMessage(content='I wll call Ilya a \"BIZ_MAN\" during our conversation, so for you \"BIZ_MAN\" equals \"Ilya Pischalnikov\".'), AIMessage(content='Understood! When you refer to \"BIZ_MAN,\" I will understand that you are talking about Ilya Pischalnikov. Feel free to ask any questions you have about him.'), HumanMessage(content='Now, talking about \"TECH_MAN\", does he somehow cooperate with \"BIZ_MAN\"? Do you have any information that they have worked together on any projects? Use \"rule1\" and \"rule2\" in your answer.'), AIMessage(content='Rule1: Only answer person-related questions.\\nRule2: Do not provide false information.\\n\\nThere is no information available to suggest that \"TECH_MAN\" (Denis Korolev) and \"BIZ_MAN\" (Ilya Pischalnikov) have worked together on any projects or collaborations. Their professional paths may not have crossed in terms of business ventures or joint projects based on the available information.')]\n"
     ]
    }
   ],
   "source": [
    "print(update_history(chat_history, query7, res7))"
   ]
  },
  {
   "cell_type": "code",
   "execution_count": 268,
   "metadata": {},
   "outputs": [],
   "source": [
    "query8 = 'Pleas check if company which belongs to \"TECH_MAN\" did ever provide service for company which belongs to \"BIZ_MAN\"? I mean like B2B service\"?'"
   ]
  },
  {
   "cell_type": "code",
   "execution_count": 269,
   "metadata": {},
   "outputs": [
    {
     "name": "stderr",
     "output_type": "stream",
     "text": [
      "Parent run 5c0384ea-0f77-456e-a9bb-b956c1e764eb not found for run d63fba6b-4f02-4f6c-8ef9-ab0795483fba. Treating as a root run.\n"
     ]
    }
   ],
   "source": [
    "# res8 = pdf_docs_chain.invoke({\"input\": query8, \"chat_history\": chat_history})\n",
    "res8 = pdf_docs_rag_chain.invoke({\"input\": query8}, config={\"configurable\": {\"session_id\": \"abc123\"}})"
   ]
  },
  {
   "cell_type": "code",
   "execution_count": 270,
   "metadata": {},
   "outputs": [
    {
     "data": {
      "text/plain": [
       "'Based on the information provided, there is no indication or specific details regarding whether the companies owned by \"TECH_MAN\" (Denis Korolev) have ever provided services to the companies owned by \"BIZ_MAN\" (Ilya Pischalnikov) in a business-to-business (B2B) capacity. Without additional context or specific examples of such interactions, it is not possible to confirm any direct B2B service provision between their respective companies.'"
      ]
     },
     "execution_count": 270,
     "metadata": {},
     "output_type": "execute_result"
    }
   ],
   "source": [
    "res8.get(\"answer\")"
   ]
  },
  {
   "cell_type": "code",
   "execution_count": 206,
   "metadata": {},
   "outputs": [
    {
     "name": "stdout",
     "output_type": "stream",
     "text": [
      "[HumanMessage(content=\"What is Denis's doing for living?\"), AIMessage(content='Denis Korolev is a highly qualified software engineer. He is involved in various aspects of software development, including web development, AI development, edtech development, and system design. His primary occupation is working in the field of software engineering.'), HumanMessage(content='What is his major field?'), AIMessage(content=\"Denis Korolev's major field is software engineering, with a focus on web development, AI development, edtech development, and system design. He is highly skilled in these areas and has a wide range of expertise in software development.\"), HumanMessage(content='I will call Denis a \"TECH_MAN\" during our conversation, so for you \"TECH_MAN\" equals \"Denis Korolev\"'), AIMessage(content='Got it! When you refer to \"TECH_MAN,\" I will understand that you are talking about Denis Korolev. Feel free to ask any questions you have about him.'), HumanMessage(content=\"Now tell me what do you know about Ilya's occupation? Follow 'rule1' in your answer.\"), AIMessage(content='Rule1: Only answer person-related questions.\\n\\nIlya Pischalnikov is a mega businessman who owns several companies, including \"Notishop,\" \"TouchIP,\" \"SuperBot72,\" \"DevTrix&Co,\" and \"IPGazMyas.\" He is known for his successful business ventures and entrepreneurial skills, as evidenced by his high ranking on the Forbes Rating List with a net worth of $2.5 billion.'), HumanMessage(content='Wow, he seems like a busy man. Probably, he works hard and then he plays hard, does he?'), AIMessage(content=\"I don't have information about Ilya Pischalnikov's personal lifestyle or leisure activities. My focus is on providing information related to his business, occupation, career, and professional skills. If you have any more questions about his business ventures or professional life, feel free to ask!\"), HumanMessage(content='I wll call Ilya a \"BIZ_MAN\" during our conversation, so for you \"BIZ_MAN\" equals \"Ilya Pischalnikov\".'), AIMessage(content='Understood! When you refer to \"BIZ_MAN,\" I will understand that you are talking about Ilya Pischalnikov. Feel free to ask any questions you have about him.'), HumanMessage(content='Now, talking about \"TECH_MAN\", does he somehow cooperate with \"BIZ_MAN\"? Do you have any information that they have worked together on any projects? Use \"rule1\" and \"rule2\" in your answer.'), AIMessage(content='Rule1: Only answer person-related questions.\\nRule2: Do not provide false information.\\n\\nThere is no information available to suggest that \"TECH_MAN\" (Denis Korolev) and \"BIZ_MAN\" (Ilya Pischalnikov) have worked together on any projects or collaborations. Their professional paths may not have crossed in terms of business ventures or joint projects based on the available information.'), HumanMessage(content='Pleas check if company which belongs to \"TECH_MAN\" did ever provide service for company which belongs to \"BIZ_MAN\"? I mean like B2B service\"?'), AIMessage(content='I don\\'t have specific information on whether companies owned by \"TECH_MAN\" (Denis Korolev) have provided services to companies owned by \"BIZ_MAN\" (Ilya Pischalnikov) in a business-to-business (B2B) capacity. Without concrete details or records of such transactions, it is challenging to confirm any direct B2B service provision between their respective companies.')]\n"
     ]
    }
   ],
   "source": [
    "print(update_history(chat_history, query8, res8))"
   ]
  },
  {
   "cell_type": "code",
   "execution_count": 271,
   "metadata": {},
   "outputs": [],
   "source": [
    "query9 = 'Is there any information about any company which belongs to \"TECH_MAN\" that it provides B2B service?'"
   ]
  },
  {
   "cell_type": "code",
   "execution_count": 272,
   "metadata": {},
   "outputs": [
    {
     "name": "stderr",
     "output_type": "stream",
     "text": [
      "Parent run dd3aee08-2147-4a2a-8856-f7562af56126 not found for run 303ae8a8-7a87-46a1-9de4-5dce98f8963e. Treating as a root run.\n"
     ]
    }
   ],
   "source": [
    "# res9 = pdf_docs_chain.invoke({\"input\": query9, \"chat_history\": chat_history})\n",
    "res9 = pdf_docs_rag_chain.invoke({\"input\": query9}, config={\"configurable\": {\"session_id\": \"abc123\"}})"
   ]
  },
  {
   "cell_type": "code",
   "execution_count": 273,
   "metadata": {},
   "outputs": [
    {
     "data": {
      "text/plain": [
       "'Yes, there is information that one of the companies owned by \"TECH_MAN\" (Denis Korolev) provides high-quality B2B services for clients from all over the world. Denis Korolev\\'s expertise in software engineering likely enables his company to offer specialized B2B services in areas such as web development, AI development, edtech development, and system design to cater to the needs of various clients globally.'"
      ]
     },
     "execution_count": 273,
     "metadata": {},
     "output_type": "execute_result"
    }
   ],
   "source": [
    "res9.get(\"answer\")"
   ]
  },
  {
   "cell_type": "code",
   "execution_count": 278,
   "metadata": {},
   "outputs": [
    {
     "data": {
      "text/plain": [
       "[Document(page_content='companies that he is running:\\n- «Notishop»\\n- «TouchIP»\\n- «SuperBot72»\\n- «DevTrix&Co»\\n- «IPGazMyas»', metadata={'page': 0, 'source': 'pdf_docs/ip_story.pdf'}),\n",
       " Document(page_content='which provides a high quality B2B service for clients from all over the world.', metadata={'page': 0, 'source': 'pdf_docs/dk_story.pdf'}),\n",
       " Document(page_content='Ilya Pischalnikov is mega businessman who owns quite a few companies. This is only few of the \\ncompanies that he is running:\\n- «Notishop»\\n- «TouchIP»\\n- «SuperBot72»\\n- «DevTrix&Co»\\n- «IPGazMyas»', metadata={'page': 0, 'source': 'pdf_docs/ip_story.pdf'}),\n",
       " Document(page_content='Ilya Pischalnikov is mega businessman who owns quite a few companies. This is only few of the \\ncompanies that he is running:\\n- «Notishop»\\n- «TouchIP»\\n- «SuperBot72»\\n- «DevTrix&Co»\\n- «IPGazMyas»', metadata={'page': 0, 'source': 'pdf_docs/ip_story.pdf'})]"
      ]
     },
     "execution_count": 278,
     "metadata": {},
     "output_type": "execute_result"
    }
   ],
   "source": [
    "res9.get(\"context\")"
   ]
  },
  {
   "cell_type": "code",
   "execution_count": 227,
   "metadata": {},
   "outputs": [
    {
     "name": "stdout",
     "output_type": "stream",
     "text": [
      "[HumanMessage(content=\"What is Denis's doing for living?\"), AIMessage(content='Denis Korolev is a highly qualified software engineer. He is involved in various aspects of software development, including web development, AI development, edtech development, and system design. His primary occupation is working in the field of software engineering.'), HumanMessage(content='What is his major field?'), AIMessage(content=\"Denis Korolev's major field is software engineering, with a focus on web development, AI development, edtech development, and system design. He is highly skilled in these areas and has a wide range of expertise in software development.\"), HumanMessage(content='I will call Denis a \"TECH_MAN\" during our conversation, so for you \"TECH_MAN\" equals \"Denis Korolev\"'), AIMessage(content='Got it! When you refer to \"TECH_MAN,\" I will understand that you are talking about Denis Korolev. Feel free to ask any questions you have about him.'), HumanMessage(content=\"Now tell me what do you know about Ilya's occupation? Follow 'rule1' in your answer.\"), AIMessage(content='Rule1: Only answer person-related questions.\\n\\nIlya Pischalnikov is a mega businessman who owns several companies, including \"Notishop,\" \"TouchIP,\" \"SuperBot72,\" \"DevTrix&Co,\" and \"IPGazMyas.\" He is known for his successful business ventures and entrepreneurial skills, as evidenced by his high ranking on the Forbes Rating List with a net worth of $2.5 billion.'), HumanMessage(content='Wow, he seems like a busy man. Probably, he works hard and then he plays hard, does he?'), AIMessage(content=\"I don't have information about Ilya Pischalnikov's personal lifestyle or leisure activities. My focus is on providing information related to his business, occupation, career, and professional skills. If you have any more questions about his business ventures or professional life, feel free to ask!\"), HumanMessage(content='I wll call Ilya a \"BIZ_MAN\" during our conversation, so for you \"BIZ_MAN\" equals \"Ilya Pischalnikov\".'), AIMessage(content='Understood! When you refer to \"BIZ_MAN,\" I will understand that you are talking about Ilya Pischalnikov. Feel free to ask any questions you have about him.'), HumanMessage(content='Now, talking about \"TECH_MAN\", does he somehow cooperate with \"BIZ_MAN\"? Do you have any information that they have worked together on any projects? Use \"rule1\" and \"rule2\" in your answer.'), AIMessage(content='Rule1: Only answer person-related questions.\\nRule2: Do not provide false information.\\n\\nThere is no information available to suggest that \"TECH_MAN\" (Denis Korolev) and \"BIZ_MAN\" (Ilya Pischalnikov) have worked together on any projects or collaborations. Their professional paths may not have crossed in terms of business ventures or joint projects based on the available information.'), HumanMessage(content='Pleas check if company which belongs to \"TECH_MAN\" did ever provide service for company which belongs to \"BIZ_MAN\"? I mean like B2B service\"?'), AIMessage(content='I don\\'t have specific information on whether companies owned by \"TECH_MAN\" (Denis Korolev) have provided services to companies owned by \"BIZ_MAN\" (Ilya Pischalnikov) in a business-to-business (B2B) capacity. Without concrete details or records of such transactions, it is challenging to confirm any direct B2B service provision between their respective companies.'), HumanMessage(content='Pleas check if company which belongs to \"TECH_MAN\" did ever provide service for company which belongs to \"BIZ_MAN\"? I mean like B2B service\"?'), AIMessage(content='I don\\'t have specific information on whether companies owned by \"TECH_MAN\" (Denis Korolev) have provided services to companies owned by \"BIZ_MAN\" (Ilya Pischalnikov) in a business-to-business (B2B) capacity. Without concrete details or records of such transactions, it is challenging to confirm any direct B2B service provision between their respective companies.'), HumanMessage(content='Is there any information about any company which belongs to \"TECH_MAN\" that it provides B2B service?'), AIMessage(content='Yes, one of the companies owned by \"TECH_MAN\" (Denis Korolev) provides high-quality B2B services for clients from all over the world. The company is involved in web development and likely offers its services to other businesses in a business-to-business (B2B) capacity.')]\n"
     ]
    }
   ],
   "source": [
    "print(update_history(chat_history, query9, res9))"
   ]
  },
  {
   "cell_type": "code",
   "execution_count": 274,
   "metadata": {},
   "outputs": [],
   "source": [
    "query10 = 'What is the name of this one company which belongs to \"TECH_MAN\" which provides high-quality B2B service?'"
   ]
  },
  {
   "cell_type": "code",
   "execution_count": 275,
   "metadata": {},
   "outputs": [
    {
     "name": "stderr",
     "output_type": "stream",
     "text": [
      "Parent run 6bd82244-fff8-45d5-b16b-7338392fc99d not found for run 3ca97d91-3162-4623-8d94-79677e6cbeda. Treating as a root run.\n"
     ]
    }
   ],
   "source": [
    "# res10 = pdf_docs_chain.invoke({\"input\": query10, \"chat_history\": chat_history})\n",
    "res10 = pdf_docs_rag_chain.invoke({\"input\": query10}, config={\"configurable\": {\"session_id\": \"abc123\"}})"
   ]
  },
  {
   "cell_type": "code",
   "execution_count": 279,
   "metadata": {},
   "outputs": [
    {
     "data": {
      "text/plain": [
       "'The company owned by \"TECH_MAN\" (Denis Korolev) that provides high-quality B2B services is called \"DevTrix&Co.\" This company likely specializes in software engineering services, including web development, AI development, edtech development, and system design, catering to clients worldwide.'"
      ]
     },
     "execution_count": 279,
     "metadata": {},
     "output_type": "execute_result"
    }
   ],
   "source": [
    "res10.get(\"answer\")"
   ]
  },
  {
   "cell_type": "code",
   "execution_count": 281,
   "metadata": {},
   "outputs": [
    {
     "data": {
      "text/plain": [
       "[HumanMessage(content=\"What is Denis's doing for living?\"),\n",
       " AIMessage(content='Denis Korolev is a highly qualified software engineer. He is involved in various aspects of software development, including web development, AI development, edtech development, and system design. His primary occupation is in the field of software engineering.'),\n",
       " HumanMessage(content='What is his major field?'),\n",
       " AIMessage(content=\"Denis Korolev's major field is software engineering, with a focus on web development, AI development, edtech development, and system design. He is highly skilled and experienced in these areas, making software engineering his primary expertise.\"),\n",
       " HumanMessage(content='I will call Denis a \"TECH_MAN\" during our conversation, so for you \"TECH_MAN\" equals \"Denis Korolev\"'),\n",
       " AIMessage(content='Got it! When you refer to \"TECH_MAN,\" I will understand that you are talking about Denis Korolev. Feel free to ask any questions you have about him or his professional background.'),\n",
       " HumanMessage(content=\"Now tell me what do you know about Ilya's occupation?\"),\n",
       " AIMessage(content='Ilya Pischalnikov is a mega businessman who owns several companies. Some of the companies he is running include \"Notishop,\" \"TouchIP,\" \"SuperBot72,\" \"DevTrix&Co,\" and \"IPGazMyas.\" His occupation primarily revolves around managing and overseeing these businesses, which contribute to his significant net worth and ranking on the Forbes list.'),\n",
       " HumanMessage(content='Wow, he seems like a busy man. Probably, he works hard and then he plays hard, does he?'),\n",
       " AIMessage(content=\"As a successful businessman with multiple companies under his ownership, Ilya Pischalnikov likely has a busy schedule managing his various ventures. While it's common for high-profile individuals like him to work hard to maintain and grow their businesses, it's also possible that he enjoys some leisure time or activities outside of work to relax and recharge. However, specific details about his work-life balance or personal activities would require more information or direct insight into his lifestyle.\"),\n",
       " HumanMessage(content='I wll call Ilya a \"BIZ_MAN\" during our conversation, so for you \"BIZ_MAN\" equals \"Ilya Pischalnikov\".'),\n",
       " AIMessage(content='Understood! When you refer to \"BIZ_MAN,\" I will understand that you are talking about Ilya Pischalnikov. Feel free to ask any questions you have about him or his business endeavors.'),\n",
       " HumanMessage(content='Now, talking about \"TECH_MAN\", does he somehow cooperate with \"BIZ_MAN\"? Do you have any information that they have worked together on any projects? Use \"rule1\" and \"rule2\" in your answer.'),\n",
       " AIMessage(content='I don\\'t have any information about \"TECH_MAN\" (Denis Korolev) and \"BIZ_MAN\" (Ilya Pischalnikov) working together on any projects. Therefore, based on \"rule1\" (information provided) and \"rule2\" (no additional context), there is no known collaboration or projects involving both individuals at this time.'),\n",
       " HumanMessage(content='Pleas check if company which belongs to \"TECH_MAN\" did ever provide service for company which belongs to \"BIZ_MAN\"? I mean like B2B service\"?'),\n",
       " AIMessage(content='Based on the information provided, there is no indication or specific details regarding whether the companies owned by \"TECH_MAN\" (Denis Korolev) have ever provided services to the companies owned by \"BIZ_MAN\" (Ilya Pischalnikov) in a business-to-business (B2B) capacity. Without additional context or specific examples of such interactions, it is not possible to confirm any direct B2B service provision between their respective companies.'),\n",
       " HumanMessage(content='Is there any information about any company which belongs to \"TECH_MAN\" that it provides B2B service?'),\n",
       " AIMessage(content='Yes, there is information that one of the companies owned by \"TECH_MAN\" (Denis Korolev) provides high-quality B2B services for clients from all over the world. Denis Korolev\\'s expertise in software engineering likely enables his company to offer specialized B2B services in areas such as web development, AI development, edtech development, and system design to cater to the needs of various clients globally.')]"
      ]
     },
     "execution_count": 281,
     "metadata": {},
     "output_type": "execute_result"
    }
   ],
   "source": [
    "res10.get(\"chat_history\")"
   ]
  },
  {
   "cell_type": "code",
   "execution_count": 282,
   "metadata": {},
   "outputs": [
    {
     "data": {
      "text/plain": [
       "18"
      ]
     },
     "execution_count": 282,
     "metadata": {},
     "output_type": "execute_result"
    }
   ],
   "source": [
    "len(res10.get(\"chat_history\"))"
   ]
  }
 ],
 "metadata": {
  "kernelspec": {
   "display_name": "Python 3 (ipykernel)",
   "language": "python",
   "name": "python3"
  },
  "language_info": {
   "codemirror_mode": {
    "name": "ipython",
    "version": 3
   },
   "file_extension": ".py",
   "mimetype": "text/x-python",
   "name": "python",
   "nbconvert_exporter": "python",
   "pygments_lexer": "ipython3",
   "version": "3.11.9"
  }
 },
 "nbformat": 4,
 "nbformat_minor": 4
}